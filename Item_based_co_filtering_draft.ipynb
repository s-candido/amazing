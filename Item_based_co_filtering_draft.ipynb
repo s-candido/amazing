{
 "cells": [
  {
   "cell_type": "code",
   "execution_count": 3,
   "id": "67745b3b",
   "metadata": {},
   "outputs": [],
   "source": [
    "import os\n",
    "import numpy as np\n",
    "import pandas as pd\n",
    "import matplotlib.pyplot as plt\n",
    "from scipy.sparse import csr_matrix\n",
    "from sklearn.neighbors import NearestNeighbors\n",
    "import plotly.express as px\n",
    "import duckdb\n",
    "import os\n",
    "from pathlib import Path\n",
    "from typing import List\n",
    "import matplotlib.pyplot as plt\n",
    "import pandas as pd\n",
    "import seaborn as sns\n",
    "import numpy as np\n",
    "import plotly.express as px"
   ]
  },
  {
   "cell_type": "code",
   "execution_count": 4,
   "id": "d07c4ebc",
   "metadata": {},
   "outputs": [
    {
     "name": "stdout",
     "output_type": "stream",
     "text": [
      "Répertoire de travail actuel: /home/c-enjalbert/Documents/EPSI/MSPR/bloc_2/amazing/ml_ia/item-based-clustering\n",
      "\n",
      "Contenu du répertoire parent (..):\n",
      "['Modèle_Pipeline_IA.md', 'item-based-clustering', 'analyse_exploratoire.ipynb', 'clustering']\n",
      "\n",
      "Contenu deux niveaux au-dessus (../..):\n",
      "['amazing.duckdb', 'ml_ia', '.amazing.duckdb', 'requirements.txt', '.git', 'Access_token.txt', 'README.md', 'etl', 'data', '.gitignore']\n"
     ]
    }
   ],
   "source": [
    "# Afficher le répertoire de travail actuel\n",
    "import os\n",
    "print(\"Répertoire de travail actuel:\", os.getcwd())\n",
    "\n",
    "# Lister les fichiers et dossiers du répertoire parent\n",
    "print(\"\\nContenu du répertoire parent (..):\")\n",
    "print(os.listdir(\"..\"))\n",
    "\n",
    "# Lister les fichiers et dossiers deux niveaux au-dessus\n",
    "print(\"\\nContenu deux niveaux au-dessus (../..):\")\n",
    "try:\n",
    "    print(os.listdir(\"../..\"))\n",
    "except FileNotFoundError:\n",
    "    print(\"Impossible d'accéder à ce répertoire\")"
   ]
  },
  {
   "cell_type": "code",
   "execution_count": 5,
   "id": "bc866333",
   "metadata": {},
   "outputs": [
    {
     "name": "stdout",
     "output_type": "stream",
     "text": [
      "Dossier data trouvé à : /home/c-enjalbert/Documents/EPSI/MSPR/bloc_2/amazing/data\n"
     ]
    }
   ],
   "source": [
    "# Essayez différentes approches pour localiser le dossier data\n",
    "possible_paths = [\n",
    "    Path(\"../data\"),             # Un niveau au-dessus\n",
    "    Path(\"../../data\"),          # Deux niveaux au-dessus\n",
    "    Path(\"../../../data\"),       # Trois niveaux au-dessus\n",
    "    Path(\"../../../../data\"),    # Quatre niveaux au-dessus\n",
    "]\n",
    "\n",
    "for path in possible_paths:\n",
    "    if path.is_dir():\n",
    "        print(f\"Dossier data trouvé à : {path.resolve()}\")\n",
    "        data_folder = path\n",
    "        break\n",
    "else:\n",
    "    print(\"Impossible de trouver le dossier data automatiquement\")"
   ]
  },
  {
   "cell_type": "markdown",
   "id": "d0dbe313",
   "metadata": {},
   "source": [
    "### Connexion à la DB / Import des Data\n"
   ]
  },
  {
   "cell_type": "code",
   "execution_count": null,
   "id": "e93b92e6",
   "metadata": {},
   "outputs": [
    {
     "ename": "IOException",
     "evalue": "IO Error: Could not set lock on file \"/home/c-enjalbert/Documents/EPSI/MSPR/bloc_2/amazing/amazing.duckdb\": Conflicting lock is held in /home/c-enjalbert/miniconda3/bin/python3.12 (PID 60375) by user c-enjalbert. See also https://duckdb.org/docs/connect/concurrency",
     "output_type": "error",
     "traceback": [
      "\u001b[0;31m---------------------------------------------------------------------------\u001b[0m",
      "\u001b[0;31mIOException\u001b[0m                               Traceback (most recent call last)",
      "Cell \u001b[0;32mIn[6], line 7\u001b[0m\n\u001b[1;32m      4\u001b[0m data_folder \u001b[38;5;241m=\u001b[39m Path(\u001b[38;5;124m\"\u001b[39m\u001b[38;5;124m../..\u001b[39m\u001b[38;5;124m\"\u001b[39m)\u001b[38;5;241m.\u001b[39mresolve() \u001b[38;5;241m/\u001b[39m \u001b[38;5;124m\"\u001b[39m\u001b[38;5;124mdata\u001b[39m\u001b[38;5;124m\"\u001b[39m\n\u001b[1;32m      5\u001b[0m \u001b[38;5;66;03m# For absolute certainty, you could use the absolute path\u001b[39;00m\n\u001b[1;32m      6\u001b[0m \u001b[38;5;66;03m# data_folder = Path(\"/home/c-enjalbert/Documents/EPSI/MSPR/bloc_2/amazing/data\")\u001b[39;00m\n\u001b[0;32m----> 7\u001b[0m con \u001b[38;5;241m=\u001b[39m \u001b[43mduckdb\u001b[49m\u001b[38;5;241;43m.\u001b[39;49m\u001b[43mconnect\u001b[49m\u001b[43m(\u001b[49m\u001b[38;5;28;43mstr\u001b[39;49m\u001b[43m(\u001b[49m\u001b[43mDB_NAME\u001b[49m\u001b[43m)\u001b[49m\u001b[43m)\u001b[49m\n\u001b[1;32m      8\u001b[0m con\u001b[38;5;241m.\u001b[39mclose()\n",
      "\u001b[0;31mIOException\u001b[0m: IO Error: Could not set lock on file \"/home/c-enjalbert/Documents/EPSI/MSPR/bloc_2/amazing/amazing.duckdb\": Conflicting lock is held in /home/c-enjalbert/miniconda3/bin/python3.12 (PID 60375) by user c-enjalbert. See also https://duckdb.org/docs/connect/concurrency"
     ]
    }
   ],
   "source": [
    "# Store database at project root\n",
    "DB_NAME = Path(\"/home/c-enjalbert/Documents/EPSI/MSPR/bloc_2/amazing/amazing.duckdb\") \n",
    "# Go up one level from current directory to get to project root\n",
    "data_folder = Path(\"../..\").resolve() / \"data\"\n",
    "# For absolute certainty, you could use the absolute path\n",
    "# data_folder = Path(\"/home/c-enjalbert/Documents/EPSI/MSPR/bloc_2/amazing/data\")\n",
    "con = duckdb.connect(str(DB_NAME))\n"
   ]
  },
  {
   "cell_type": "code",
   "execution_count": null,
   "id": "d113223a",
   "metadata": {},
   "outputs": [
    {
     "name": "stdout",
     "output_type": "stream",
     "text": [
      "Found 2 tables in the database:\n",
      "\n",
      "1. all_events\n",
      "2. loaded_files\n"
     ]
    }
   ],
   "source": [
    "# 2. Query to list all tables in the database\n",
    "# DuckDB specific way to list tables\n",
    "tables_info = con.sql(\"\"\"\n",
    "    SELECT table_name\n",
    "    FROM information_schema.tables\n",
    "    WHERE table_schema = 'main'\n",
    "    ORDER BY table_name\n",
    "\"\"\").df()\n",
    "\n",
    "print(f\"Found {len(tables_info)} tables in the database:\\n\")\n",
    "\n",
    "if len(tables_info) > 0:\n",
    "    for i, table_name in enumerate(tables_info['table_name']):\n",
    "        print(f\"{i+1}. {table_name}\")\n",
    "else:\n",
    "    print(\"No tables found in the database.\")"
   ]
  },
  {
   "cell_type": "code",
   "execution_count": null,
   "id": "4ec4bbd4",
   "metadata": {},
   "outputs": [
    {
     "name": "stdout",
     "output_type": "stream",
     "text": [
      "List of all tables using DuckDB's connections.tables():\n",
      "┌──────────────┐\n",
      "│     name     │\n",
      "│   varchar    │\n",
      "├──────────────┤\n",
      "│ all_events   │\n",
      "│ loaded_files │\n",
      "└──────────────┘\n",
      "\n"
     ]
    }
   ],
   "source": [
    "# 5. Alternative way to show all tables\n",
    "print(\"List of all tables using DuckDB's connections.tables():\")\n",
    "con.sql(\"SHOW TABLES\").show()"
   ]
  },
  {
   "cell_type": "markdown",
   "id": "7524985a",
   "metadata": {},
   "source": [
    "### Save Tables as DataFrame"
   ]
  },
  {
   "cell_type": "code",
   "execution_count": null,
   "id": "7fccf31b",
   "metadata": {},
   "outputs": [
    {
     "name": "stdout",
     "output_type": "stream",
     "text": [
      "Event counts by type:\n",
      "┌─────────────────────┬────────────┬────────────┬─────────────────────┬─────────────────────────────────────┬──────────┬─────────┬───────────┬──────────────────────────────────────┐\n",
      "│     event_time      │ event_type │ product_id │     category_id     │            category_code            │  brand   │  price  │  user_id  │             user_session             │\n",
      "│      timestamp      │  varchar   │  varchar   │       varchar       │               varchar               │ varchar  │ double  │  varchar  │               varchar                │\n",
      "├─────────────────────┼────────────┼────────────┼─────────────────────┼─────────────────────────────────────┼──────────┼─────────┼───────────┼──────────────────────────────────────┤\n",
      "│ 2019-10-01 00:00:00 │ view       │ 44600062   │ 2103807459595387724 │ NULL                                │ shiseido │   35.79 │ 541312140 │ 72d76fde-8bb3-4e00-8c23-a032dfed738c │\n",
      "│ 2019-10-01 00:00:00 │ view       │ 3900821    │ 2053013552326770905 │ appliances.environment.water_heater │ aqua     │    33.2 │ 554748717 │ 9333dfbd-b87a-4708-9857-6336556b0fcc │\n",
      "│ 2019-10-01 00:00:01 │ view       │ 17200506   │ 2053013559792632471 │ furniture.living_room.sofa          │ NULL     │   543.1 │ 519107250 │ 566511c2-e2e3-422b-b695-cf8e6e792ca8 │\n",
      "│ 2019-10-01 00:00:01 │ view       │ 1307067    │ 2053013558920217191 │ computers.notebook                  │ lenovo   │  251.74 │ 550050854 │ 7c90fc70-0e80-4590-96f3-13c02c18c713 │\n",
      "│ 2019-10-01 00:00:04 │ view       │ 1004237    │ 2053013555631882655 │ electronics.smartphone              │ apple    │ 1081.98 │ 535871217 │ c6bd7419-2748-4c56-95b4-8cec9ff8b80d │\n",
      "│ 2019-10-01 00:00:05 │ view       │ 1480613    │ 2053013561092866779 │ computers.desktop                   │ pulser   │  908.62 │ 512742880 │ 0d0d91c2-c9c2-4e81-90a5-86594dec0db9 │\n",
      "│ 2019-10-01 00:00:08 │ view       │ 17300353   │ 2053013553853497655 │ NULL                                │ creed    │  380.96 │ 555447699 │ 4fe811e9-91de-46da-90c3-bbd87ed3a65d │\n",
      "│ 2019-10-01 00:00:08 │ view       │ 31500053   │ 2053013558031024687 │ NULL                                │ luminarc │   41.16 │ 550978835 │ 6280d577-25c8-4147-99a7-abc6048498d6 │\n",
      "│ 2019-10-01 00:00:10 │ view       │ 28719074   │ 2053013565480109009 │ apparel.shoes.keds                  │ baden    │  102.71 │ 520571932 │ ac1cd4e5-a3ce-4224-a2d7-ff660a105880 │\n",
      "│ 2019-10-01 00:00:11 │ view       │ 1004545    │ 2053013555631882655 │ electronics.smartphone              │ huawei   │  566.01 │ 537918940 │ 406c46ed-90a4-4787-a43b-59a410c1a5fb │\n",
      "│          ·          │  ·         │    ·       │          ·          │           ·                         │   ·      │     ·   │     ·     │                  ·                   │\n",
      "│          ·          │  ·         │    ·       │          ·          │           ·                         │   ·      │     ·   │     ·     │                  ·                   │\n",
      "│          ·          │  ·         │    ·       │          ·          │           ·                         │   ·      │     ·   │     ·     │                  ·                   │\n",
      "│ 2019-10-01 02:37:18 │ view       │ 3100970    │ 2053013555262783879 │ appliances.kitchen.blender          │ redmond  │   40.67 │ 519178197 │ 51390f80-9f09-4e12-a8ba-ebf12205497c │\n",
      "│ 2019-10-01 02:37:18 │ view       │ 1004939    │ 2053013555631882655 │ electronics.smartphone              │ vivo     │  141.29 │ 513254174 │ 25188ff4-b393-4a99-a562-200457429825 │\n",
      "│ 2019-10-01 02:37:18 │ view       │ 5301398    │ 2053013563173241677 │ NULL                                │ elenberg │   10.27 │ 553994175 │ a5f4d1a4-4d03-441b-93f1-0dcd0e84b4c1 │\n",
      "│ 2019-10-01 02:37:18 │ view       │ 6400290    │ 2053013554121933129 │ computers.components.cpu            │ intel    │  260.37 │ 555464661 │ 47873c34-5cd6-4bcf-ac1d-6e5228f8eee0 │\n",
      "│ 2019-10-01 02:37:18 │ view       │ 6200966    │ 2053013552293216471 │ appliances.environment.air_heater   │ saturn   │   27.03 │ 513265169 │ caa06974-210d-4147-82a4-1c5646b5d3a6 │\n",
      "│ 2019-10-01 02:37:18 │ view       │ 45600168   │ 2113934850560885372 │ apparel.shoes.keds                  │ nike     │   59.18 │ 539620652 │ 2b8f3a28-5ca3-4038-a48f-021db1c8d1dc │\n",
      "│ 2019-10-01 02:37:18 │ view       │ 32403314   │ 2053013566562238479 │ NULL                                │ NULL     │   25.48 │ 516770039 │ 76b06dcb-c92f-4fa8-8d35-d290cadc29c5 │\n",
      "│ 2019-10-01 02:37:18 │ view       │ 1004838    │ 2053013555631882655 │ electronics.smartphone              │ oppo     │  179.38 │ 527209005 │ cbfdc1b0-39b7-4d1d-bce3-b79fc6b6c7cf │\n",
      "│ 2019-10-01 02:37:18 │ view       │ 3601063    │ 2053013563810775923 │ appliances.kitchen.washer           │ artel    │   94.98 │ 536457776 │ 917a738a-5505-44b0-b336-96f5f0028b04 │\n",
      "│ 2019-10-01 02:37:18 │ view       │ 28715760   │ 2053013565069067197 │ apparel.shoes.keds                  │ nexpero  │  107.85 │ 523596085 │ edddf185-c754-4ad8-b688-bb7bc5c3abbf │\n",
      "├─────────────────────┴────────────┴────────────┴─────────────────────┴─────────────────────────────────────┴──────────┴─────────┴───────────┴──────────────────────────────────────┤\n",
      "│ ? rows (>9999 rows, 20 shown)                                                                                                                                           9 columns │\n",
      "└───────────────────────────────────────────────────────────────────────────────────────────────────────────────────────────────────────────────────────────────────────────────────┘\n",
      "\n"
     ]
    }
   ],
   "source": [
    "# Get event counts by event_type\n",
    "print(\"Event counts by type:\")\n",
    "all_events = con.sql(\"\"\"\n",
    "    SELECT \n",
    "    *\n",
    "    FROM all_events\n",
    "    LIMIT 20000\n",
    "\"\"\")\n",
    "all_events.show()\n",
    "\n"
   ]
  },
  {
   "cell_type": "code",
   "execution_count": null,
   "id": "fb9be40c",
   "metadata": {},
   "outputs": [
    {
     "data": {
      "text/html": [
       "<div>\n",
       "<style scoped>\n",
       "    .dataframe tbody tr th:only-of-type {\n",
       "        vertical-align: middle;\n",
       "    }\n",
       "\n",
       "    .dataframe tbody tr th {\n",
       "        vertical-align: top;\n",
       "    }\n",
       "\n",
       "    .dataframe thead th {\n",
       "        text-align: right;\n",
       "    }\n",
       "</style>\n",
       "<table border=\"1\" class=\"dataframe\">\n",
       "  <thead>\n",
       "    <tr style=\"text-align: right;\">\n",
       "      <th></th>\n",
       "      <th>count</th>\n",
       "      <th>unique</th>\n",
       "      <th>top</th>\n",
       "      <th>freq</th>\n",
       "      <th>mean</th>\n",
       "      <th>min</th>\n",
       "      <th>25%</th>\n",
       "      <th>50%</th>\n",
       "      <th>75%</th>\n",
       "      <th>max</th>\n",
       "      <th>std</th>\n",
       "    </tr>\n",
       "  </thead>\n",
       "  <tbody>\n",
       "    <tr>\n",
       "      <th>event_time</th>\n",
       "      <td>20000</td>\n",
       "      <td>NaN</td>\n",
       "      <td>NaN</td>\n",
       "      <td>NaN</td>\n",
       "      <td>2019-10-01 02:29:27.043549</td>\n",
       "      <td>2019-10-01 00:00:00</td>\n",
       "      <td>2019-10-01 02:28:14.750000</td>\n",
       "      <td>2019-10-01 02:37:18</td>\n",
       "      <td>2019-10-01 02:46:00</td>\n",
       "      <td>2019-10-01 02:54:01</td>\n",
       "      <td>NaN</td>\n",
       "    </tr>\n",
       "    <tr>\n",
       "      <th>event_type</th>\n",
       "      <td>20000</td>\n",
       "      <td>3</td>\n",
       "      <td>view</td>\n",
       "      <td>19548</td>\n",
       "      <td>NaN</td>\n",
       "      <td>NaN</td>\n",
       "      <td>NaN</td>\n",
       "      <td>NaN</td>\n",
       "      <td>NaN</td>\n",
       "      <td>NaN</td>\n",
       "      <td>NaN</td>\n",
       "    </tr>\n",
       "    <tr>\n",
       "      <th>product_id</th>\n",
       "      <td>20000</td>\n",
       "      <td>7178</td>\n",
       "      <td>1004856</td>\n",
       "      <td>234</td>\n",
       "      <td>NaN</td>\n",
       "      <td>NaN</td>\n",
       "      <td>NaN</td>\n",
       "      <td>NaN</td>\n",
       "      <td>NaN</td>\n",
       "      <td>NaN</td>\n",
       "      <td>NaN</td>\n",
       "    </tr>\n",
       "    <tr>\n",
       "      <th>category_id</th>\n",
       "      <td>20000</td>\n",
       "      <td>443</td>\n",
       "      <td>2053013555631882655</td>\n",
       "      <td>5387</td>\n",
       "      <td>NaN</td>\n",
       "      <td>NaN</td>\n",
       "      <td>NaN</td>\n",
       "      <td>NaN</td>\n",
       "      <td>NaN</td>\n",
       "      <td>NaN</td>\n",
       "      <td>NaN</td>\n",
       "    </tr>\n",
       "    <tr>\n",
       "      <th>category_code</th>\n",
       "      <td>13412</td>\n",
       "      <td>115</td>\n",
       "      <td>electronics.smartphone</td>\n",
       "      <td>5387</td>\n",
       "      <td>NaN</td>\n",
       "      <td>NaN</td>\n",
       "      <td>NaN</td>\n",
       "      <td>NaN</td>\n",
       "      <td>NaN</td>\n",
       "      <td>NaN</td>\n",
       "      <td>NaN</td>\n",
       "    </tr>\n",
       "    <tr>\n",
       "      <th>brand</th>\n",
       "      <td>17185</td>\n",
       "      <td>922</td>\n",
       "      <td>samsung</td>\n",
       "      <td>2330</td>\n",
       "      <td>NaN</td>\n",
       "      <td>NaN</td>\n",
       "      <td>NaN</td>\n",
       "      <td>NaN</td>\n",
       "      <td>NaN</td>\n",
       "      <td>NaN</td>\n",
       "      <td>NaN</td>\n",
       "    </tr>\n",
       "    <tr>\n",
       "      <th>price</th>\n",
       "      <td>20000.0</td>\n",
       "      <td>NaN</td>\n",
       "      <td>NaN</td>\n",
       "      <td>NaN</td>\n",
       "      <td>289.381401</td>\n",
       "      <td>0.0</td>\n",
       "      <td>60.23</td>\n",
       "      <td>154.42</td>\n",
       "      <td>359.08</td>\n",
       "      <td>2574.07</td>\n",
       "      <td>368.18694</td>\n",
       "    </tr>\n",
       "    <tr>\n",
       "      <th>user_id</th>\n",
       "      <td>20000</td>\n",
       "      <td>5012</td>\n",
       "      <td>531063605</td>\n",
       "      <td>57</td>\n",
       "      <td>NaN</td>\n",
       "      <td>NaN</td>\n",
       "      <td>NaN</td>\n",
       "      <td>NaN</td>\n",
       "      <td>NaN</td>\n",
       "      <td>NaN</td>\n",
       "      <td>NaN</td>\n",
       "    </tr>\n",
       "    <tr>\n",
       "      <th>user_session</th>\n",
       "      <td>20000</td>\n",
       "      <td>5669</td>\n",
       "      <td>f85114d0-6167-4c8b-88f8-0cd1cfc2c10c</td>\n",
       "      <td>55</td>\n",
       "      <td>NaN</td>\n",
       "      <td>NaN</td>\n",
       "      <td>NaN</td>\n",
       "      <td>NaN</td>\n",
       "      <td>NaN</td>\n",
       "      <td>NaN</td>\n",
       "      <td>NaN</td>\n",
       "    </tr>\n",
       "  </tbody>\n",
       "</table>\n",
       "</div>"
      ],
      "text/plain": [
       "                 count unique                                   top   freq  \\\n",
       "event_time       20000    NaN                                   NaN    NaN   \n",
       "event_type       20000      3                                  view  19548   \n",
       "product_id       20000   7178                               1004856    234   \n",
       "category_id      20000    443                   2053013555631882655   5387   \n",
       "category_code    13412    115                electronics.smartphone   5387   \n",
       "brand            17185    922                               samsung   2330   \n",
       "price          20000.0    NaN                                   NaN    NaN   \n",
       "user_id          20000   5012                             531063605     57   \n",
       "user_session     20000   5669  f85114d0-6167-4c8b-88f8-0cd1cfc2c10c     55   \n",
       "\n",
       "                                     mean                  min  \\\n",
       "event_time     2019-10-01 02:29:27.043549  2019-10-01 00:00:00   \n",
       "event_type                            NaN                  NaN   \n",
       "product_id                            NaN                  NaN   \n",
       "category_id                           NaN                  NaN   \n",
       "category_code                         NaN                  NaN   \n",
       "brand                                 NaN                  NaN   \n",
       "price                          289.381401                  0.0   \n",
       "user_id                               NaN                  NaN   \n",
       "user_session                          NaN                  NaN   \n",
       "\n",
       "                                      25%                  50%  \\\n",
       "event_time     2019-10-01 02:28:14.750000  2019-10-01 02:37:18   \n",
       "event_type                            NaN                  NaN   \n",
       "product_id                            NaN                  NaN   \n",
       "category_id                           NaN                  NaN   \n",
       "category_code                         NaN                  NaN   \n",
       "brand                                 NaN                  NaN   \n",
       "price                               60.23               154.42   \n",
       "user_id                               NaN                  NaN   \n",
       "user_session                          NaN                  NaN   \n",
       "\n",
       "                               75%                  max        std  \n",
       "event_time     2019-10-01 02:46:00  2019-10-01 02:54:01        NaN  \n",
       "event_type                     NaN                  NaN        NaN  \n",
       "product_id                     NaN                  NaN        NaN  \n",
       "category_id                    NaN                  NaN        NaN  \n",
       "category_code                  NaN                  NaN        NaN  \n",
       "brand                          NaN                  NaN        NaN  \n",
       "price                       359.08              2574.07  368.18694  \n",
       "user_id                        NaN                  NaN        NaN  \n",
       "user_session                   NaN                  NaN        NaN  "
      ]
     },
     "execution_count": 311,
     "metadata": {},
     "output_type": "execute_result"
    }
   ],
   "source": [
    "all_events_df = pd.DataFrame(all_events.df())\n",
    "all_events_df.describe(include=\"all\").T"
   ]
  },
  {
   "cell_type": "markdown",
   "id": "ccb0d01a",
   "metadata": {},
   "source": [
    "## Normalisation et Préparation de la Data "
   ]
  },
  {
   "cell_type": "code",
   "execution_count": null,
   "id": "b71d9582",
   "metadata": {},
   "outputs": [
    {
     "data": {
      "text/plain": [
       "Index(['event_time', 'event_type', 'product_id', 'category_id',\n",
       "       'category_code', 'brand', 'price', 'user_id', 'user_session'],\n",
       "      dtype='object')"
      ]
     },
     "execution_count": 312,
     "metadata": {},
     "output_type": "execute_result"
    }
   ],
   "source": [
    "all_events_df.columns"
   ]
  },
  {
   "cell_type": "code",
   "execution_count": null,
   "id": "d6a6f694",
   "metadata": {},
   "outputs": [],
   "source": [
    "allevents_df_CF = all_events_df[[\"user_id\", \"product_id\", \"category_code\", \"category_id\",\"event_type\"]]"
   ]
  },
  {
   "cell_type": "code",
   "execution_count": null,
   "id": "75907f30",
   "metadata": {
    "vscode": {
     "languageId": "markdown"
    }
   },
   "outputs": [
    {
     "data": {
      "text/plain": [
       "(20000, 5)"
      ]
     },
     "execution_count": 314,
     "metadata": {},
     "output_type": "execute_result"
    }
   ],
   "source": [
    "allevents_df_CF.shape\n"
   ]
  },
  {
   "cell_type": "code",
   "execution_count": null,
   "id": "1043d4cb",
   "metadata": {
    "vscode": {
     "languageId": "markdown"
    }
   },
   "outputs": [
    {
     "data": {
      "text/html": [
       "<div>\n",
       "<style scoped>\n",
       "    .dataframe tbody tr th:only-of-type {\n",
       "        vertical-align: middle;\n",
       "    }\n",
       "\n",
       "    .dataframe tbody tr th {\n",
       "        vertical-align: top;\n",
       "    }\n",
       "\n",
       "    .dataframe thead th {\n",
       "        text-align: right;\n",
       "    }\n",
       "</style>\n",
       "<table border=\"1\" class=\"dataframe\">\n",
       "  <thead>\n",
       "    <tr style=\"text-align: right;\">\n",
       "      <th></th>\n",
       "      <th>count</th>\n",
       "      <th>unique</th>\n",
       "      <th>top</th>\n",
       "      <th>freq</th>\n",
       "    </tr>\n",
       "  </thead>\n",
       "  <tbody>\n",
       "    <tr>\n",
       "      <th>user_id</th>\n",
       "      <td>20000</td>\n",
       "      <td>5012</td>\n",
       "      <td>531063605</td>\n",
       "      <td>57</td>\n",
       "    </tr>\n",
       "    <tr>\n",
       "      <th>product_id</th>\n",
       "      <td>20000</td>\n",
       "      <td>7178</td>\n",
       "      <td>1004856</td>\n",
       "      <td>234</td>\n",
       "    </tr>\n",
       "    <tr>\n",
       "      <th>category_code</th>\n",
       "      <td>13412</td>\n",
       "      <td>115</td>\n",
       "      <td>electronics.smartphone</td>\n",
       "      <td>5387</td>\n",
       "    </tr>\n",
       "    <tr>\n",
       "      <th>category_id</th>\n",
       "      <td>20000</td>\n",
       "      <td>443</td>\n",
       "      <td>2053013555631882655</td>\n",
       "      <td>5387</td>\n",
       "    </tr>\n",
       "    <tr>\n",
       "      <th>event_type</th>\n",
       "      <td>20000</td>\n",
       "      <td>3</td>\n",
       "      <td>view</td>\n",
       "      <td>19548</td>\n",
       "    </tr>\n",
       "  </tbody>\n",
       "</table>\n",
       "</div>"
      ],
      "text/plain": [
       "               count unique                     top   freq\n",
       "user_id        20000   5012               531063605     57\n",
       "product_id     20000   7178                 1004856    234\n",
       "category_code  13412    115  electronics.smartphone   5387\n",
       "category_id    20000    443     2053013555631882655   5387\n",
       "event_type     20000      3                    view  19548"
      ]
     },
     "execution_count": 315,
     "metadata": {},
     "output_type": "execute_result"
    }
   ],
   "source": [
    "allevents_df_CF.describe(include=\"all\").T"
   ]
  },
  {
   "cell_type": "code",
   "execution_count": null,
   "id": "d89d3b20",
   "metadata": {
    "vscode": {
     "languageId": "markdown"
    }
   },
   "outputs": [
    {
     "data": {
      "text/plain": [
       "0"
      ]
     },
     "execution_count": 316,
     "metadata": {},
     "output_type": "execute_result"
    }
   ],
   "source": [
    "allevents_df_CF[\"product_id\"].isna().sum()"
   ]
  },
  {
   "cell_type": "code",
   "execution_count": null,
   "id": "74eb61e5",
   "metadata": {
    "vscode": {
     "languageId": "markdown"
    }
   },
   "outputs": [
    {
     "data": {
      "text/plain": [
       "0"
      ]
     },
     "execution_count": 317,
     "metadata": {},
     "output_type": "execute_result"
    }
   ],
   "source": [
    "allevents_df_CF[\"category_id\"].isna().sum()"
   ]
  },
  {
   "cell_type": "code",
   "execution_count": null,
   "id": "dd43a8ad",
   "metadata": {
    "vscode": {
     "languageId": "markdown"
    }
   },
   "outputs": [
    {
     "data": {
      "text/plain": [
       "6588"
      ]
     },
     "execution_count": 318,
     "metadata": {},
     "output_type": "execute_result"
    }
   ],
   "source": [
    "allevents_df_CF[\"category_code\"].isna().sum()"
   ]
  },
  {
   "cell_type": "code",
   "execution_count": null,
   "id": "b92d2777",
   "metadata": {
    "vscode": {
     "languageId": "markdown"
    }
   },
   "outputs": [
    {
     "name": "stderr",
     "output_type": "stream",
     "text": [
      "/tmp/ipykernel_60375/2927840028.py:1: SettingWithCopyWarning:\n",
      "\n",
      "\n",
      "A value is trying to be set on a copy of a slice from a DataFrame\n",
      "\n",
      "See the caveats in the documentation: https://pandas.pydata.org/pandas-docs/stable/user_guide/indexing.html#returning-a-view-versus-a-copy\n",
      "\n"
     ]
    }
   ],
   "source": [
    "allevents_df_CF.dropna(subset=[\"category_code\"], inplace=True)\n"
   ]
  },
  {
   "cell_type": "code",
   "execution_count": null,
   "id": "a88c5a24",
   "metadata": {
    "vscode": {
     "languageId": "markdown"
    }
   },
   "outputs": [
    {
     "data": {
      "text/plain": [
       "0"
      ]
     },
     "execution_count": 320,
     "metadata": {},
     "output_type": "execute_result"
    }
   ],
   "source": [
    "allevents_df_CF[\"category_code\"].isna().sum()"
   ]
  },
  {
   "cell_type": "code",
   "execution_count": null,
   "id": "8a93fa13",
   "metadata": {
    "vscode": {
     "languageId": "markdown"
    }
   },
   "outputs": [
    {
     "data": {
      "text/plain": [
       "0"
      ]
     },
     "execution_count": 321,
     "metadata": {},
     "output_type": "execute_result"
    }
   ],
   "source": [
    "allevents_df_CF[\"event_type\"].isna().sum()"
   ]
  },
  {
   "cell_type": "code",
   "execution_count": null,
   "id": "e3d5b6ca",
   "metadata": {
    "vscode": {
     "languageId": "markdown"
    }
   },
   "outputs": [
    {
     "data": {
      "text/plain": [
       "event_type\n",
       "view        13037\n",
       "purchase      200\n",
       "cart          175\n",
       "Name: count, dtype: int64"
      ]
     },
     "execution_count": 322,
     "metadata": {},
     "output_type": "execute_result"
    }
   ],
   "source": [
    "allevents_df_CF[\"event_type\"].value_counts()"
   ]
  },
  {
   "cell_type": "code",
   "execution_count": null,
   "id": "96572087",
   "metadata": {
    "vscode": {
     "languageId": "markdown"
    }
   },
   "outputs": [
    {
     "data": {
      "text/plain": [
       "0"
      ]
     },
     "execution_count": 323,
     "metadata": {},
     "output_type": "execute_result"
    }
   ],
   "source": [
    "allevents_df_CF[\"user_id\"].isna().sum()"
   ]
  },
  {
   "cell_type": "markdown",
   "id": "f961d72d",
   "metadata": {},
   "source": [
    "On considère : \n",
    "- all_events_df[\"event_type\"] = \"view\" ==> 0\n",
    "- all_events_df[\"event_type\"] = \"cart\" ==> 0\n",
    "- all_events_df[\"event_type\"] = \"purchase\" ==> 1"
   ]
  },
  {
   "cell_type": "code",
   "execution_count": null,
   "id": "1ec41d65",
   "metadata": {
    "vscode": {
     "languageId": "markdown"
    }
   },
   "outputs": [],
   "source": [
    "# Map event types to binary values (0 for view/cart, 1 for purchase)\n",
    "all_events_df[\"event_type\"] = all_events_df[\"event_type\"].map({\"view\": 0, \"cart\": 0, \"purchase\": 1})"
   ]
  },
  {
   "cell_type": "code",
   "execution_count": null,
   "id": "2931aa10",
   "metadata": {
    "vscode": {
     "languageId": "markdown"
    }
   },
   "outputs": [
    {
     "data": {
      "text/plain": [
       "event_type\n",
       "0    19742\n",
       "1      258\n",
       "Name: count, dtype: int64"
      ]
     },
     "execution_count": 325,
     "metadata": {},
     "output_type": "execute_result"
    }
   ],
   "source": [
    "all_events_df[\"event_type\"].value_counts()"
   ]
  },
  {
   "cell_type": "code",
   "execution_count": null,
   "id": "9bea94ae",
   "metadata": {
    "vscode": {
     "languageId": "markdown"
    }
   },
   "outputs": [
    {
     "data": {
      "text/plain": [
       "category_code\n",
       "electronics.smartphone                 5387\n",
       "electronics.clocks                      664\n",
       "computers.notebook                      633\n",
       "electronics.audio.headphone             437\n",
       "appliances.kitchen.refrigerators        390\n",
       "                                       ... \n",
       "electronics.audio.music_tools.piano       1\n",
       "apparel.scarf                             1\n",
       "apparel.shirt                             1\n",
       "apparel.sock                              1\n",
       "sport.ski                                 1\n",
       "Name: count, Length: 115, dtype: int64"
      ]
     },
     "execution_count": 326,
     "metadata": {},
     "output_type": "execute_result"
    }
   ],
   "source": [
    "all_events_df[\"category_code\"].value_counts()"
   ]
  },
  {
   "cell_type": "code",
   "execution_count": null,
   "id": "ff4dca20",
   "metadata": {
    "vscode": {
     "languageId": "markdown"
    }
   },
   "outputs": [
    {
     "name": "stdout",
     "output_type": "stream",
     "text": [
      "Top categories by number of purchases:\n",
      "                       category_code  event_type\n",
      "86            electronics.smartphone         123\n",
      "79       electronics.audio.headphone          12\n",
      "85                electronics.clocks           7\n",
      "41  appliances.kitchen.refrigerators           6\n",
      "24     appliances.environment.vacuum           5\n",
      "44         appliances.kitchen.washer           4\n",
      "64                computers.notebook           4\n",
      "90              electronics.video.tv           4\n",
      "88             electronics.telephone           4\n",
      "0                    accessories.bag           3\n"
     ]
    },
    {
     "data": {
      "image/png": "[encoded data removed]",
      "text/plain": [
       "<Figure size 1400x800 with 1 Axes>"
      ]
     },
     "metadata": {},
     "output_type": "display_data"
    },
    {
     "data": {
      "application/vnd.plotly.v1+json": {
       "config": {
        "plotlyServerURL": "https://plot.ly"
       },
       "data": [
        {
         "alignmentgroup": "True",
         "hovertemplate": "Number of Purchases=%{x}<br>Category=%{y}<extra></extra>",
         "legendgroup": "",
         "marker": {
          "color": "#636efa",
          "pattern": {
           "shape": ""
          }
         },
         "name": "",
         "offsetgroup": "",
         "orientation": "h",
         "showlegend": false,
         "textposition": "auto",
         "type": "bar",
         "x": [
          123,
          12,
          7,
          6,
          5,
          4,
          4,
          4,
          4,
          3,
          3,
          2,
          2,
          1,
          1,
          1,
          1,
          1,
          1,
          1
         ],
         "xaxis": "x",
         "y": [
          "electronics.smartphone",
          "electronics.audio.headphone",
          "electronics.clocks",
          "appliances.kitchen.refrigerators",
          "appliances.environment.vacuum",
          "appliances.kitchen.washer",
          "computers.notebook",
          "electronics.video.tv",
          "electronics.telephone",
          "accessories.bag",
          "appliances.kitchen.blender",
          "apparel.shoes",
          "furniture.kitchen.table",
          "electronics.tablet",
          "appliances.kitchen.meat_grinder",
          "kids.fmcg.diapers",
          "appliances.kitchen.toster",
          "furniture.living_room.cabinet",
          "appliances.personal.hair_cutter",
          "appliances.personal.scales"
         ],
         "yaxis": "y"
        }
       ],
       "layout": {
        "barmode": "relative",
        "height": 600,
        "legend": {
         "tracegroupgap": 0
        },
        "template": {
         "data": {
          "bar": [
           {
            "error_x": {
             "color": "#2a3f5f"
            },
            "error_y": {
             "color": "#2a3f5f"
            },
            "marker": {
             "line": {
              "color": "#E5ECF6",
              "width": 0.5
             },
             "pattern": {
              "fillmode": "overlay",
              "size": 10,
              "solidity": 0.2
             }
            },
            "type": "bar"
           }
          ],
          "barpolar": [
           {
            "marker": {
             "line": {
              "color": "#E5ECF6",
              "width": 0.5
             },
             "pattern": {
              "fillmode": "overlay",
              "size": 10,
              "solidity": 0.2
             }
            },
            "type": "barpolar"
           }
          ],
          "carpet": [
           {
            "aaxis": {
             "endlinecolor": "#2a3f5f",
             "gridcolor": "white",
             "linecolor": "white",
             "minorgridcolor": "white",
             "startlinecolor": "#2a3f5f"
            },
            "baxis": {
             "endlinecolor": "#2a3f5f",
             "gridcolor": "white",
             "linecolor": "white",
             "minorgridcolor": "white",
             "startlinecolor": "#2a3f5f"
            },
            "type": "carpet"
           }
          ],
          "choropleth": [
           {
            "colorbar": {
             "outlinewidth": 0,
             "ticks": ""
            },
            "type": "choropleth"
           }
          ],
          "contour": [
           {
            "colorbar": {
             "outlinewidth": 0,
             "ticks": ""
            },
            "colorscale": [
             [
              0,
              "#0d0887"
             ],
             [
              0.1111111111111111,
              "#46039f"
             ],
             [
              0.2222222222222222,
              "#7201a8"
             ],
             [
              0.3333333333333333,
              "#9c179e"
             ],
             [
              0.4444444444444444,
              "#bd3786"
             ],
             [
              0.5555555555555556,
              "#d8576b"
             ],
             [
              0.6666666666666666,
              "#ed7953"
             ],
             [
              0.7777777777777778,
              "#fb9f3a"
             ],
             [
              0.8888888888888888,
              "#fdca26"
             ],
             [
              1,
              "#f0f921"
             ]
            ],
            "type": "contour"
           }
          ],
          "contourcarpet": [
           {
            "colorbar": {
             "outlinewidth": 0,
             "ticks": ""
            },
            "type": "contourcarpet"
           }
          ],
          "heatmap": [
           {
            "colorbar": {
             "outlinewidth": 0,
             "ticks": ""
            },
            "colorscale": [
             [
              0,
              "#0d0887"
             ],
             [
              0.1111111111111111,
              "#46039f"
             ],
             [
              0.2222222222222222,
              "#7201a8"
             ],
             [
              0.3333333333333333,
              "#9c179e"
             ],
             [
              0.4444444444444444,
              "#bd3786"
             ],
             [
              0.5555555555555556,
              "#d8576b"
             ],
             [
              0.6666666666666666,
              "#ed7953"
             ],
             [
              0.7777777777777778,
              "#fb9f3a"
             ],
             [
              0.8888888888888888,
              "#fdca26"
             ],
             [
              1,
              "#f0f921"
             ]
            ],
            "type": "heatmap"
           }
          ],
          "heatmapgl": [
           {
            "colorbar": {
             "outlinewidth": 0,
             "ticks": ""
            },
            "colorscale": [
             [
              0,
              "#0d0887"
             ],
             [
              0.1111111111111111,
              "#46039f"
             ],
             [
              0.2222222222222222,
              "#7201a8"
             ],
             [
              0.3333333333333333,
              "#9c179e"
             ],
             [
              0.4444444444444444,
              "#bd3786"
             ],
             [
              0.5555555555555556,
              "#d8576b"
             ],
             [
              0.6666666666666666,
              "#ed7953"
             ],
             [
              0.7777777777777778,
              "#fb9f3a"
             ],
             [
              0.8888888888888888,
              "#fdca26"
             ],
             [
              1,
              "#f0f921"
             ]
            ],
            "type": "heatmapgl"
           }
          ],
          "histogram": [
           {
            "marker": {
             "pattern": {
              "fillmode": "overlay",
              "size": 10,
              "solidity": 0.2
             }
            },
            "type": "histogram"
           }
          ],
          "histogram2d": [
           {
            "colorbar": {
             "outlinewidth": 0,
             "ticks": ""
            },
            "colorscale": [
             [
              0,
              "#0d0887"
             ],
             [
              0.1111111111111111,
              "#46039f"
             ],
             [
              0.2222222222222222,
              "#7201a8"
             ],
             [
              0.3333333333333333,
              "#9c179e"
             ],
             [
              0.4444444444444444,
              "#bd3786"
             ],
             [
              0.5555555555555556,
              "#d8576b"
             ],
             [
              0.6666666666666666,
              "#ed7953"
             ],
             [
              0.7777777777777778,
              "#fb9f3a"
             ],
             [
              0.8888888888888888,
              "#fdca26"
             ],
             [
              1,
              "#f0f921"
             ]
            ],
            "type": "histogram2d"
           }
          ],
          "histogram2dcontour": [
           {
            "colorbar": {
             "outlinewidth": 0,
             "ticks": ""
            },
            "colorscale": [
             [
              0,
              "#0d0887"
             ],
             [
              0.1111111111111111,
              "#46039f"
             ],
             [
              0.2222222222222222,
              "#7201a8"
             ],
             [
              0.3333333333333333,
              "#9c179e"
             ],
             [
              0.4444444444444444,
              "#bd3786"
             ],
             [
              0.5555555555555556,
              "#d8576b"
             ],
             [
              0.6666666666666666,
              "#ed7953"
             ],
             [
              0.7777777777777778,
              "#fb9f3a"
             ],
             [
              0.8888888888888888,
              "#fdca26"
             ],
             [
              1,
              "#f0f921"
             ]
            ],
            "type": "histogram2dcontour"
           }
          ],
          "mesh3d": [
           {
            "colorbar": {
             "outlinewidth": 0,
             "ticks": ""
            },
            "type": "mesh3d"
           }
          ],
          "parcoords": [
           {
            "line": {
             "colorbar": {
              "outlinewidth": 0,
              "ticks": ""
             }
            },
            "type": "parcoords"
           }
          ],
          "pie": [
           {
            "automargin": true,
            "type": "pie"
           }
          ],
          "scatter": [
           {
            "fillpattern": {
             "fillmode": "overlay",
             "size": 10,
             "solidity": 0.2
            },
            "type": "scatter"
           }
          ],
          "scatter3d": [
           {
            "line": {
             "colorbar": {
              "outlinewidth": 0,
              "ticks": ""
             }
            },
            "marker": {
             "colorbar": {
              "outlinewidth": 0,
              "ticks": ""
             }
            },
            "type": "scatter3d"
           }
          ],
          "scattercarpet": [
           {
            "marker": {
             "colorbar": {
              "outlinewidth": 0,
              "ticks": ""
             }
            },
            "type": "scattercarpet"
           }
          ],
          "scattergeo": [
           {
            "marker": {
             "colorbar": {
              "outlinewidth": 0,
              "ticks": ""
             }
            },
            "type": "scattergeo"
           }
          ],
          "scattergl": [
           {
            "marker": {
             "colorbar": {
              "outlinewidth": 0,
              "ticks": ""
             }
            },
            "type": "scattergl"
           }
          ],
          "scattermapbox": [
           {
            "marker": {
             "colorbar": {
              "outlinewidth": 0,
              "ticks": ""
             }
            },
            "type": "scattermapbox"
           }
          ],
          "scatterpolar": [
           {
            "marker": {
             "colorbar": {
              "outlinewidth": 0,
              "ticks": ""
             }
            },
            "type": "scatterpolar"
           }
          ],
          "scatterpolargl": [
           {
            "marker": {
             "colorbar": {
              "outlinewidth": 0,
              "ticks": ""
             }
            },
            "type": "scatterpolargl"
           }
          ],
          "scatterternary": [
           {
            "marker": {
             "colorbar": {
              "outlinewidth": 0,
              "ticks": ""
             }
            },
            "type": "scatterternary"
           }
          ],
          "surface": [
           {
            "colorbar": {
             "outlinewidth": 0,
             "ticks": ""
            },
            "colorscale": [
             [
              0,
              "#0d0887"
             ],
             [
              0.1111111111111111,
              "#46039f"
             ],
             [
              0.2222222222222222,
              "#7201a8"
             ],
             [
              0.3333333333333333,
              "#9c179e"
             ],
             [
              0.4444444444444444,
              "#bd3786"
             ],
             [
              0.5555555555555556,
              "#d8576b"
             ],
             [
              0.6666666666666666,
              "#ed7953"
             ],
             [
              0.7777777777777778,
              "#fb9f3a"
             ],
             [
              0.8888888888888888,
              "#fdca26"
             ],
             [
              1,
              "#f0f921"
             ]
            ],
            "type": "surface"
           }
          ],
          "table": [
           {
            "cells": {
             "fill": {
              "color": "#EBF0F8"
             },
             "line": {
              "color": "white"
             }
            },
            "header": {
             "fill": {
              "color": "#C8D4E3"
             },
             "line": {
              "color": "white"
             }
            },
            "type": "table"
           }
          ]
         },
         "layout": {
          "annotationdefaults": {
           "arrowcolor": "#2a3f5f",
           "arrowhead": 0,
           "arrowwidth": 1
          },
          "autotypenumbers": "strict",
          "coloraxis": {
           "colorbar": {
            "outlinewidth": 0,
            "ticks": ""
           }
          },
          "colorscale": {
           "diverging": [
            [
             0,
             "#8e0152"
            ],
            [
             0.1,
             "#c51b7d"
            ],
            [
             0.2,
             "#de77ae"
            ],
            [
             0.3,
             "#f1b6da"
            ],
            [
             0.4,
             "#fde0ef"
            ],
            [
             0.5,
             "#f7f7f7"
            ],
            [
             0.6,
             "#e6f5d0"
            ],
            [
             0.7,
             "#b8e186"
            ],
            [
             0.8,
             "#7fbc41"
            ],
            [
             0.9,
             "#4d9221"
            ],
            [
             1,
             "#276419"
            ]
           ],
           "sequential": [
            [
             0,
             "#0d0887"
            ],
            [
             0.1111111111111111,
             "#46039f"
            ],
            [
             0.2222222222222222,
             "#7201a8"
            ],
            [
             0.3333333333333333,
             "#9c179e"
            ],
            [
             0.4444444444444444,
             "#bd3786"
            ],
            [
             0.5555555555555556,
             "#d8576b"
            ],
            [
             0.6666666666666666,
             "#ed7953"
            ],
            [
             0.7777777777777778,
             "#fb9f3a"
            ],
            [
             0.8888888888888888,
             "#fdca26"
            ],
            [
             1,
             "#f0f921"
            ]
           ],
           "sequentialminus": [
            [
             0,
             "#0d0887"
            ],
            [
             0.1111111111111111,
             "#46039f"
            ],
            [
             0.2222222222222222,
             "#7201a8"
            ],
            [
             0.3333333333333333,
             "#9c179e"
            ],
            [
             0.4444444444444444,
             "#bd3786"
            ],
            [
             0.5555555555555556,
             "#d8576b"
            ],
            [
             0.6666666666666666,
             "#ed7953"
            ],
            [
             0.7777777777777778,
             "#fb9f3a"
            ],
            [
             0.8888888888888888,
             "#fdca26"
            ],
            [
             1,
             "#f0f921"
            ]
           ]
          },
          "colorway": [
           "#636efa",
           "#EF553B",
           "#00cc96",
           "#ab63fa",
           "#FFA15A",
           "#19d3f3",
           "#FF6692",
           "#B6E880",
           "#FF97FF",
           "#FECB52"
          ],
          "font": {
           "color": "#2a3f5f"
          },
          "geo": {
           "bgcolor": "white",
           "lakecolor": "white",
           "landcolor": "#E5ECF6",
           "showlakes": true,
           "showland": true,
           "subunitcolor": "white"
          },
          "hoverlabel": {
           "align": "left"
          },
          "hovermode": "closest",
          "mapbox": {
           "style": "light"
          },
          "paper_bgcolor": "white",
          "plot_bgcolor": "#E5ECF6",
          "polar": {
           "angularaxis": {
            "gridcolor": "white",
            "linecolor": "white",
            "ticks": ""
           },
           "bgcolor": "#E5ECF6",
           "radialaxis": {
            "gridcolor": "white",
            "linecolor": "white",
            "ticks": ""
           }
          },
          "scene": {
           "xaxis": {
            "backgroundcolor": "#E5ECF6",
            "gridcolor": "white",
            "gridwidth": 2,
            "linecolor": "white",
            "showbackground": true,
            "ticks": "",
            "zerolinecolor": "white"
           },
           "yaxis": {
            "backgroundcolor": "#E5ECF6",
            "gridcolor": "white",
            "gridwidth": 2,
            "linecolor": "white",
            "showbackground": true,
            "ticks": "",
            "zerolinecolor": "white"
           },
           "zaxis": {
            "backgroundcolor": "#E5ECF6",
            "gridcolor": "white",
            "gridwidth": 2,
            "linecolor": "white",
            "showbackground": true,
            "ticks": "",
            "zerolinecolor": "white"
           }
          },
          "shapedefaults": {
           "line": {
            "color": "#2a3f5f"
           }
          },
          "ternary": {
           "aaxis": {
            "gridcolor": "white",
            "linecolor": "white",
            "ticks": ""
           },
           "baxis": {
            "gridcolor": "white",
            "linecolor": "white",
            "ticks": ""
           },
           "bgcolor": "#E5ECF6",
           "caxis": {
            "gridcolor": "white",
            "linecolor": "white",
            "ticks": ""
           }
          },
          "title": {
           "x": 0.05
          },
          "xaxis": {
           "automargin": true,
           "gridcolor": "white",
           "linecolor": "white",
           "ticks": "",
           "title": {
            "standoff": 15
           },
           "zerolinecolor": "white",
           "zerolinewidth": 2
          },
          "yaxis": {
           "automargin": true,
           "gridcolor": "white",
           "linecolor": "white",
           "ticks": "",
           "title": {
            "standoff": 15
           },
           "zerolinecolor": "white",
           "zerolinewidth": 2
          }
         }
        },
        "title": {
         "text": "Number of Purchases by Category"
        },
        "width": 1000,
        "xaxis": {
         "anchor": "y",
         "domain": [
          0,
          1
         ],
         "title": {
          "text": "Number of Purchases"
         }
        },
        "yaxis": {
         "anchor": "x",
         "categoryorder": "total ascending",
         "domain": [
          0,
          1
         ],
         "title": {
          "text": "Category"
         }
        }
       }
      }
     },
     "metadata": {},
     "output_type": "display_data"
    },
    {
     "data": {
      "application/vnd.plotly.v1+json": {
       "config": {
        "plotlyServerURL": "https://plot.ly"
       },
       "data": [
        {
         "alignmentgroup": "True",
         "hovertemplate": "Number of Purchases=%{x}<br>Category=%{y}<extra></extra>",
         "legendgroup": "",
         "marker": {
          "color": "#636efa",
          "pattern": {
           "shape": ""
          }
         },
         "name": "",
         "offsetgroup": "",
         "orientation": "h",
         "showlegend": false,
         "textposition": "auto",
         "type": "bar",
         "x": [
          123,
          12,
          7,
          6,
          5,
          4,
          4,
          4,
          4,
          3,
          3,
          2,
          2,
          1,
          1,
          1,
          1,
          1,
          1,
          1
         ],
         "xaxis": "x",
         "y": [
          "electronics.smartphone",
          "electronics.audio.headphone",
          "electronics.clocks",
          "appliances.kitchen.refrigerators",
          "appliances.environment.vacuum",
          "appliances.kitchen.washer",
          "computers.notebook",
          "electronics.video.tv",
          "electronics.telephone",
          "accessories.bag",
          "appliances.kitchen.blender",
          "apparel.shoes",
          "furniture.kitchen.table",
          "electronics.tablet",
          "appliances.kitchen.meat_grinder",
          "kids.fmcg.diapers",
          "appliances.kitchen.toster",
          "furniture.living_room.cabinet",
          "appliances.personal.hair_cutter",
          "appliances.personal.scales"
         ],
         "yaxis": "y"
        }
       ],
       "layout": {
        "barmode": "relative",
        "height": 600,
        "legend": {
         "tracegroupgap": 0
        },
        "template": {
         "data": {
          "bar": [
           {
            "error_x": {
             "color": "#2a3f5f"
            },
            "error_y": {
             "color": "#2a3f5f"
            },
            "marker": {
             "line": {
              "color": "#E5ECF6",
              "width": 0.5
             },
             "pattern": {
              "fillmode": "overlay",
              "size": 10,
              "solidity": 0.2
             }
            },
            "type": "bar"
           }
          ],
          "barpolar": [
           {
            "marker": {
             "line": {
              "color": "#E5ECF6",
              "width": 0.5
             },
             "pattern": {
              "fillmode": "overlay",
              "size": 10,
              "solidity": 0.2
             }
            },
            "type": "barpolar"
           }
          ],
          "carpet": [
           {
            "aaxis": {
             "endlinecolor": "#2a3f5f",
             "gridcolor": "white",
             "linecolor": "white",
             "minorgridcolor": "white",
             "startlinecolor": "#2a3f5f"
            },
            "baxis": {
             "endlinecolor": "#2a3f5f",
             "gridcolor": "white",
             "linecolor": "white",
             "minorgridcolor": "white",
             "startlinecolor": "#2a3f5f"
            },
            "type": "carpet"
           }
          ],
          "choropleth": [
           {
            "colorbar": {
             "outlinewidth": 0,
             "ticks": ""
            },
            "type": "choropleth"
           }
          ],
          "contour": [
           {
            "colorbar": {
             "outlinewidth": 0,
             "ticks": ""
            },
            "colorscale": [
             [
              0,
              "#0d0887"
             ],
             [
              0.1111111111111111,
              "#46039f"
             ],
             [
              0.2222222222222222,
              "#7201a8"
             ],
             [
              0.3333333333333333,
              "#9c179e"
             ],
             [
              0.4444444444444444,
              "#bd3786"
             ],
             [
              0.5555555555555556,
              "#d8576b"
             ],
             [
              0.6666666666666666,
              "#ed7953"
             ],
             [
              0.7777777777777778,
              "#fb9f3a"
             ],
             [
              0.8888888888888888,
              "#fdca26"
             ],
             [
              1,
              "#f0f921"
             ]
            ],
            "type": "contour"
           }
          ],
          "contourcarpet": [
           {
            "colorbar": {
             "outlinewidth": 0,
             "ticks": ""
            },
            "type": "contourcarpet"
           }
          ],
          "heatmap": [
           {
            "colorbar": {
             "outlinewidth": 0,
             "ticks": ""
            },
            "colorscale": [
             [
              0,
              "#0d0887"
             ],
             [
              0.1111111111111111,
              "#46039f"
             ],
             [
              0.2222222222222222,
              "#7201a8"
             ],
             [
              0.3333333333333333,
              "#9c179e"
             ],
             [
              0.4444444444444444,
              "#bd3786"
             ],
             [
              0.5555555555555556,
              "#d8576b"
             ],
             [
              0.6666666666666666,
              "#ed7953"
             ],
             [
              0.7777777777777778,
              "#fb9f3a"
             ],
             [
              0.8888888888888888,
              "#fdca26"
             ],
             [
              1,
              "#f0f921"
             ]
            ],
            "type": "heatmap"
           }
          ],
          "heatmapgl": [
           {
            "colorbar": {
             "outlinewidth": 0,
             "ticks": ""
            },
            "colorscale": [
             [
              0,
              "#0d0887"
             ],
             [
              0.1111111111111111,
              "#46039f"
             ],
             [
              0.2222222222222222,
              "#7201a8"
             ],
             [
              0.3333333333333333,
              "#9c179e"
             ],
             [
              0.4444444444444444,
              "#bd3786"
             ],
             [
              0.5555555555555556,
              "#d8576b"
             ],
             [
              0.6666666666666666,
              "#ed7953"
             ],
             [
              0.7777777777777778,
              "#fb9f3a"
             ],
             [
              0.8888888888888888,
              "#fdca26"
             ],
             [
              1,
              "#f0f921"
             ]
            ],
            "type": "heatmapgl"
           }
          ],
          "histogram": [
           {
            "marker": {
             "pattern": {
              "fillmode": "overlay",
              "size": 10,
              "solidity": 0.2
             }
            },
            "type": "histogram"
           }
          ],
          "histogram2d": [
           {
            "colorbar": {
             "outlinewidth": 0,
             "ticks": ""
            },
            "colorscale": [
             [
              0,
              "#0d0887"
             ],
             [
              0.1111111111111111,
              "#46039f"
             ],
             [
              0.2222222222222222,
              "#7201a8"
             ],
             [
              0.3333333333333333,
              "#9c179e"
             ],
             [
              0.4444444444444444,
              "#bd3786"
             ],
             [
              0.5555555555555556,
              "#d8576b"
             ],
             [
              0.6666666666666666,
              "#ed7953"
             ],
             [
              0.7777777777777778,
              "#fb9f3a"
             ],
             [
              0.8888888888888888,
              "#fdca26"
             ],
             [
              1,
              "#f0f921"
             ]
            ],
            "type": "histogram2d"
           }
          ],
          "histogram2dcontour": [
           {
            "colorbar": {
             "outlinewidth": 0,
             "ticks": ""
            },
            "colorscale": [
             [
              0,
              "#0d0887"
             ],
             [
              0.1111111111111111,
              "#46039f"
             ],
             [
              0.2222222222222222,
              "#7201a8"
             ],
             [
              0.3333333333333333,
              "#9c179e"
             ],
             [
              0.4444444444444444,
              "#bd3786"
             ],
             [
              0.5555555555555556,
              "#d8576b"
             ],
             [
              0.6666666666666666,
              "#ed7953"
             ],
             [
              0.7777777777777778,
              "#fb9f3a"
             ],
             [
              0.8888888888888888,
              "#fdca26"
             ],
             [
              1,
              "#f0f921"
             ]
            ],
            "type": "histogram2dcontour"
           }
          ],
          "mesh3d": [
           {
            "colorbar": {
             "outlinewidth": 0,
             "ticks": ""
            },
            "type": "mesh3d"
           }
          ],
          "parcoords": [
           {
            "line": {
             "colorbar": {
              "outlinewidth": 0,
              "ticks": ""
             }
            },
            "type": "parcoords"
           }
          ],
          "pie": [
           {
            "automargin": true,
            "type": "pie"
           }
          ],
          "scatter": [
           {
            "fillpattern": {
             "fillmode": "overlay",
             "size": 10,
             "solidity": 0.2
            },
            "type": "scatter"
           }
          ],
          "scatter3d": [
           {
            "line": {
             "colorbar": {
              "outlinewidth": 0,
              "ticks": ""
             }
            },
            "marker": {
             "colorbar": {
              "outlinewidth": 0,
              "ticks": ""
             }
            },
            "type": "scatter3d"
           }
          ],
          "scattercarpet": [
           {
            "marker": {
             "colorbar": {
              "outlinewidth": 0,
              "ticks": ""
             }
            },
            "type": "scattercarpet"
           }
          ],
          "scattergeo": [
           {
            "marker": {
             "colorbar": {
              "outlinewidth": 0,
              "ticks": ""
             }
            },
            "type": "scattergeo"
           }
          ],
          "scattergl": [
           {
            "marker": {
             "colorbar": {
              "outlinewidth": 0,
              "ticks": ""
             }
            },
            "type": "scattergl"
           }
          ],
          "scattermapbox": [
           {
            "marker": {
             "colorbar": {
              "outlinewidth": 0,
              "ticks": ""
             }
            },
            "type": "scattermapbox"
           }
          ],
          "scatterpolar": [
           {
            "marker": {
             "colorbar": {
              "outlinewidth": 0,
              "ticks": ""
             }
            },
            "type": "scatterpolar"
           }
          ],
          "scatterpolargl": [
           {
            "marker": {
             "colorbar": {
              "outlinewidth": 0,
              "ticks": ""
             }
            },
            "type": "scatterpolargl"
           }
          ],
          "scatterternary": [
           {
            "marker": {
             "colorbar": {
              "outlinewidth": 0,
              "ticks": ""
             }
            },
            "type": "scatterternary"
           }
          ],
          "surface": [
           {
            "colorbar": {
             "outlinewidth": 0,
             "ticks": ""
            },
            "colorscale": [
             [
              0,
              "#0d0887"
             ],
             [
              0.1111111111111111,
              "#46039f"
             ],
             [
              0.2222222222222222,
              "#7201a8"
             ],
             [
              0.3333333333333333,
              "#9c179e"
             ],
             [
              0.4444444444444444,
              "#bd3786"
             ],
             [
              0.5555555555555556,
              "#d8576b"
             ],
             [
              0.6666666666666666,
              "#ed7953"
             ],
             [
              0.7777777777777778,
              "#fb9f3a"
             ],
             [
              0.8888888888888888,
              "#fdca26"
             ],
             [
              1,
              "#f0f921"
             ]
            ],
            "type": "surface"
           }
          ],
          "table": [
           {
            "cells": {
             "fill": {
              "color": "#EBF0F8"
             },
             "line": {
              "color": "white"
             }
            },
            "header": {
             "fill": {
              "color": "#C8D4E3"
             },
             "line": {
              "color": "white"
             }
            },
            "type": "table"
           }
          ]
         },
         "layout": {
          "annotationdefaults": {
           "arrowcolor": "#2a3f5f",
           "arrowhead": 0,
           "arrowwidth": 1
          },
          "autotypenumbers": "strict",
          "coloraxis": {
           "colorbar": {
            "outlinewidth": 0,
            "ticks": ""
           }
          },
          "colorscale": {
           "diverging": [
            [
             0,
             "#8e0152"
            ],
            [
             0.1,
             "#c51b7d"
            ],
            [
             0.2,
             "#de77ae"
            ],
            [
             0.3,
             "#f1b6da"
            ],
            [
             0.4,
             "#fde0ef"
            ],
            [
             0.5,
             "#f7f7f7"
            ],
            [
             0.6,
             "#e6f5d0"
            ],
            [
             0.7,
             "#b8e186"
            ],
            [
             0.8,
             "#7fbc41"
            ],
            [
             0.9,
             "#4d9221"
            ],
            [
             1,
             "#276419"
            ]
           ],
           "sequential": [
            [
             0,
             "#0d0887"
            ],
            [
             0.1111111111111111,
             "#46039f"
            ],
            [
             0.2222222222222222,
             "#7201a8"
            ],
            [
             0.3333333333333333,
             "#9c179e"
            ],
            [
             0.4444444444444444,
             "#bd3786"
            ],
            [
             0.5555555555555556,
             "#d8576b"
            ],
            [
             0.6666666666666666,
             "#ed7953"
            ],
            [
             0.7777777777777778,
             "#fb9f3a"
            ],
            [
             0.8888888888888888,
             "#fdca26"
            ],
            [
             1,
             "#f0f921"
            ]
           ],
           "sequentialminus": [
            [
             0,
             "#0d0887"
            ],
            [
             0.1111111111111111,
             "#46039f"
            ],
            [
             0.2222222222222222,
             "#7201a8"
            ],
            [
             0.3333333333333333,
             "#9c179e"
            ],
            [
             0.4444444444444444,
             "#bd3786"
            ],
            [
             0.5555555555555556,
             "#d8576b"
            ],
            [
             0.6666666666666666,
             "#ed7953"
            ],
            [
             0.7777777777777778,
             "#fb9f3a"
            ],
            [
             0.8888888888888888,
             "#fdca26"
            ],
            [
             1,
             "#f0f921"
            ]
           ]
          },
          "colorway": [
           "#636efa",
           "#EF553B",
           "#00cc96",
           "#ab63fa",
           "#FFA15A",
           "#19d3f3",
           "#FF6692",
           "#B6E880",
           "#FF97FF",
           "#FECB52"
          ],
          "font": {
           "color": "#2a3f5f"
          },
          "geo": {
           "bgcolor": "white",
           "lakecolor": "white",
           "landcolor": "#E5ECF6",
           "showlakes": true,
           "showland": true,
           "subunitcolor": "white"
          },
          "hoverlabel": {
           "align": "left"
          },
          "hovermode": "closest",
          "mapbox": {
           "style": "light"
          },
          "paper_bgcolor": "white",
          "plot_bgcolor": "#E5ECF6",
          "polar": {
           "angularaxis": {
            "gridcolor": "white",
            "linecolor": "white",
            "ticks": ""
           },
           "bgcolor": "#E5ECF6",
           "radialaxis": {
            "gridcolor": "white",
            "linecolor": "white",
            "ticks": ""
           }
          },
          "scene": {
           "xaxis": {
            "backgroundcolor": "#E5ECF6",
            "gridcolor": "white",
            "gridwidth": 2,
            "linecolor": "white",
            "showbackground": true,
            "ticks": "",
            "zerolinecolor": "white"
           },
           "yaxis": {
            "backgroundcolor": "#E5ECF6",
            "gridcolor": "white",
            "gridwidth": 2,
            "linecolor": "white",
            "showbackground": true,
            "ticks": "",
            "zerolinecolor": "white"
           },
           "zaxis": {
            "backgroundcolor": "#E5ECF6",
            "gridcolor": "white",
            "gridwidth": 2,
            "linecolor": "white",
            "showbackground": true,
            "ticks": "",
            "zerolinecolor": "white"
           }
          },
          "shapedefaults": {
           "line": {
            "color": "#2a3f5f"
           }
          },
          "ternary": {
           "aaxis": {
            "gridcolor": "white",
            "linecolor": "white",
            "ticks": ""
           },
           "baxis": {
            "gridcolor": "white",
            "linecolor": "white",
            "ticks": ""
           },
           "bgcolor": "#E5ECF6",
           "caxis": {
            "gridcolor": "white",
            "linecolor": "white",
            "ticks": ""
           }
          },
          "title": {
           "x": 0.05
          },
          "xaxis": {
           "automargin": true,
           "gridcolor": "white",
           "linecolor": "white",
           "ticks": "",
           "title": {
            "standoff": 15
           },
           "zerolinecolor": "white",
           "zerolinewidth": 2
          },
          "yaxis": {
           "automargin": true,
           "gridcolor": "white",
           "linecolor": "white",
           "ticks": "",
           "title": {
            "standoff": 15
           },
           "zerolinecolor": "white",
           "zerolinewidth": 2
          }
         }
        },
        "title": {
         "text": "Number of Purchases by Category"
        },
        "width": 1000,
        "xaxis": {
         "anchor": "y",
         "domain": [
          0,
          1
         ],
         "title": {
          "text": "Number of Purchases"
         }
        },
        "yaxis": {
         "anchor": "x",
         "categoryorder": "total ascending",
         "domain": [
          0,
          1
         ],
         "title": {
          "text": "Category"
         }
        }
       }
      }
     },
     "metadata": {},
     "output_type": "display_data"
    }
   ],
   "source": [
    "# Calculate sum of event_type (purchases) per category_code\n",
    "category_purchase_counts = all_events_df.groupby('category_code')['event_type'].sum().reset_index()\n",
    "category_purchase_counts = category_purchase_counts.sort_values('event_type', ascending=False)\n",
    "\n",
    "# Display the top categories by purchase count\n",
    "print(\"Top categories by number of purchases:\")\n",
    "print(category_purchase_counts.head(10))\n",
    "\n",
    "# Create a bar chart showing purchases by category\n",
    "plt.figure(figsize=(14, 8))\n",
    "ax = sns.barplot(x='event_type', y='category_code', data=category_purchase_counts.head(20))\n",
    "plt.title('Number of Purchases by Category', fontsize=16)\n",
    "plt.xlabel('Number of Purchases', fontsize=12)\n",
    "plt.ylabel('Category', fontsize=12)\n",
    "plt.tight_layout()\n",
    "plt.show()\n",
    "\n",
    "# Alternative: Create an interactive bar chart with Plotly\n",
    "fig = px.bar(\n",
    "    category_purchase_counts.head(20), \n",
    "    x='event_type', \n",
    "    y='category_code',\n",
    "    title='Number of Purchases by Category',\n",
    "    labels={'event_type': 'Number of Purchases', 'category_code': 'Category'},\n",
    "    width=1000,\n",
    "    height=600\n",
    ")\n",
    "fig.update_layout(yaxis={'categoryorder': 'total ascending'})\n",
    "fig.show()\n",
    "fig.show()"
   ]
  },
  {
   "cell_type": "code",
   "execution_count": null,
   "id": "bf879ebb",
   "metadata": {
    "vscode": {
     "languageId": "markdown"
    }
   },
   "outputs": [
    {
     "name": "stderr",
     "output_type": "stream",
     "text": [
      "/tmp/ipykernel_60375/2036899418.py:2: FutureWarning:\n",
      "\n",
      "\n",
      "\n",
      "Passing `palette` without assigning `hue` is deprecated and will be removed in v0.14.0. Assign the `x` variable to `hue` and set `legend=False` for the same effect.\n",
      "\n",
      "\n"
     ]
    },
    {
     "data": {
      "image/png": "[encoded data removed]",
      "text/plain": [
       "<Figure size 1800x800 with 1 Axes>"
      ]
     },
     "metadata": {},
     "output_type": "display_data"
    }
   ],
   "source": [
    "plt.figure(figsize=(18, 8))\n",
    "ax = sns.barplot(x='category_code', y='event_type', data=category_purchase_counts, palette='viridis')\n",
    "plt.title('Number of Purchases by Category', fontsize=16)\n",
    "plt.xlabel('Category', fontsize=12)\n",
    "plt.ylabel('Number of Purchases', fontsize=12)\n",
    "plt.xticks(rotation=90)  # Rotate x labels vertically\n",
    "plt.tight_layout()\n",
    "plt.show()"
   ]
  },
  {
   "cell_type": "code",
   "execution_count": null,
   "id": "11518afd",
   "metadata": {
    "vscode": {
     "languageId": "markdown"
    }
   },
   "outputs": [
    {
     "data": {
      "text/html": [
       "<div>\n",
       "<style scoped>\n",
       "    .dataframe tbody tr th:only-of-type {\n",
       "        vertical-align: middle;\n",
       "    }\n",
       "\n",
       "    .dataframe tbody tr th {\n",
       "        vertical-align: top;\n",
       "    }\n",
       "\n",
       "    .dataframe thead th {\n",
       "        text-align: right;\n",
       "    }\n",
       "</style>\n",
       "<table border=\"1\" class=\"dataframe\">\n",
       "  <thead>\n",
       "    <tr style=\"text-align: right;\">\n",
       "      <th></th>\n",
       "      <th>user_id</th>\n",
       "      <th>category_code</th>\n",
       "      <th>event_type</th>\n",
       "    </tr>\n",
       "  </thead>\n",
       "  <tbody>\n",
       "    <tr>\n",
       "      <th>0</th>\n",
       "      <td>306441847</td>\n",
       "      <td>appliances.kitchen.oven</td>\n",
       "      <td>0.0</td>\n",
       "    </tr>\n",
       "    <tr>\n",
       "      <th>1</th>\n",
       "      <td>434894256</td>\n",
       "      <td>computers.notebook</td>\n",
       "      <td>0.0</td>\n",
       "    </tr>\n",
       "    <tr>\n",
       "      <th>2</th>\n",
       "      <td>442188017</td>\n",
       "      <td>computers.peripherals.monitor</td>\n",
       "      <td>0.0</td>\n",
       "    </tr>\n",
       "    <tr>\n",
       "      <th>3</th>\n",
       "      <td>443779465</td>\n",
       "      <td>electronics.clocks</td>\n",
       "      <td>0.0</td>\n",
       "    </tr>\n",
       "    <tr>\n",
       "      <th>4</th>\n",
       "      <td>444990139</td>\n",
       "      <td>electronics.smartphone</td>\n",
       "      <td>0.0</td>\n",
       "    </tr>\n",
       "  </tbody>\n",
       "</table>\n",
       "</div>"
      ],
      "text/plain": [
       "     user_id                  category_code  event_type\n",
       "0  306441847        appliances.kitchen.oven         0.0\n",
       "1  434894256             computers.notebook         0.0\n",
       "2  442188017  computers.peripherals.monitor         0.0\n",
       "3  443779465             electronics.clocks         0.0\n",
       "4  444990139         electronics.smartphone         0.0"
      ]
     },
     "execution_count": 329,
     "metadata": {},
     "output_type": "execute_result"
    }
   ],
   "source": [
    "cf_dataset = all_events_df.copy().groupby(by=['user_id','category_code'], as_index=False).agg({\"event_type\":\"mean\"})\n",
    "\n",
    "cf_dataset.head()"
   ]
  },
  {
   "cell_type": "code",
   "execution_count": null,
   "id": "0d75fbf1",
   "metadata": {
    "vscode": {
     "languageId": "markdown"
    }
   },
   "outputs": [
    {
     "name": "stdout",
     "output_type": "stream",
     "text": [
      "Unique number of product in the dataset: 3591\n",
      "Unique number of category in the dataset: 115\n"
     ]
    }
   ],
   "source": [
    "num_users = len(cf_dataset['user_id'].value_counts())\n",
    "num_items = len(cf_dataset['category_code'].value_counts())\n",
    "print('Unique number of product in the dataset: {}'.format(num_users))\n",
    "print('Unique number of category in the dataset: {}'.format(num_items))\n"
   ]
  },
  {
   "cell_type": "code",
   "execution_count": null,
   "id": "93c33053",
   "metadata": {
    "vscode": {
     "languageId": "markdown"
    }
   },
   "outputs": [
    {
     "data": {
      "text/html": [
       "<div>\n",
       "<style scoped>\n",
       "    .dataframe tbody tr th:only-of-type {\n",
       "        vertical-align: middle;\n",
       "    }\n",
       "\n",
       "    .dataframe tbody tr th {\n",
       "        vertical-align: top;\n",
       "    }\n",
       "\n",
       "    .dataframe thead th {\n",
       "        text-align: right;\n",
       "    }\n",
       "</style>\n",
       "<table border=\"1\" class=\"dataframe\">\n",
       "  <thead>\n",
       "    <tr style=\"text-align: right;\">\n",
       "      <th></th>\n",
       "      <th>count</th>\n",
       "    </tr>\n",
       "    <tr>\n",
       "      <th>event_type</th>\n",
       "      <th></th>\n",
       "    </tr>\n",
       "  </thead>\n",
       "  <tbody>\n",
       "    <tr>\n",
       "      <th>0.000000</th>\n",
       "      <td>3970</td>\n",
       "    </tr>\n",
       "    <tr>\n",
       "      <th>0.037037</th>\n",
       "      <td>2</td>\n",
       "    </tr>\n",
       "    <tr>\n",
       "      <th>0.041667</th>\n",
       "      <td>1</td>\n",
       "    </tr>\n",
       "    <tr>\n",
       "      <th>0.055556</th>\n",
       "      <td>1</td>\n",
       "    </tr>\n",
       "    <tr>\n",
       "      <th>0.058824</th>\n",
       "      <td>1</td>\n",
       "    </tr>\n",
       "    <tr>\n",
       "      <th>0.062500</th>\n",
       "      <td>2</td>\n",
       "    </tr>\n",
       "    <tr>\n",
       "      <th>0.071429</th>\n",
       "      <td>2</td>\n",
       "    </tr>\n",
       "    <tr>\n",
       "      <th>0.076923</th>\n",
       "      <td>1</td>\n",
       "    </tr>\n",
       "    <tr>\n",
       "      <th>0.083333</th>\n",
       "      <td>2</td>\n",
       "    </tr>\n",
       "    <tr>\n",
       "      <th>0.090909</th>\n",
       "      <td>6</td>\n",
       "    </tr>\n",
       "    <tr>\n",
       "      <th>0.100000</th>\n",
       "      <td>6</td>\n",
       "    </tr>\n",
       "    <tr>\n",
       "      <th>0.105263</th>\n",
       "      <td>1</td>\n",
       "    </tr>\n",
       "    <tr>\n",
       "      <th>0.111111</th>\n",
       "      <td>6</td>\n",
       "    </tr>\n",
       "    <tr>\n",
       "      <th>0.117647</th>\n",
       "      <td>1</td>\n",
       "    </tr>\n",
       "    <tr>\n",
       "      <th>0.125000</th>\n",
       "      <td>8</td>\n",
       "    </tr>\n",
       "    <tr>\n",
       "      <th>0.142857</th>\n",
       "      <td>5</td>\n",
       "    </tr>\n",
       "    <tr>\n",
       "      <th>0.166667</th>\n",
       "      <td>18</td>\n",
       "    </tr>\n",
       "    <tr>\n",
       "      <th>0.200000</th>\n",
       "      <td>19</td>\n",
       "    </tr>\n",
       "    <tr>\n",
       "      <th>0.222222</th>\n",
       "      <td>2</td>\n",
       "    </tr>\n",
       "    <tr>\n",
       "      <th>0.250000</th>\n",
       "      <td>36</td>\n",
       "    </tr>\n",
       "    <tr>\n",
       "      <th>0.272727</th>\n",
       "      <td>1</td>\n",
       "    </tr>\n",
       "    <tr>\n",
       "      <th>0.285714</th>\n",
       "      <td>2</td>\n",
       "    </tr>\n",
       "    <tr>\n",
       "      <th>0.300000</th>\n",
       "      <td>1</td>\n",
       "    </tr>\n",
       "    <tr>\n",
       "      <th>0.333333</th>\n",
       "      <td>42</td>\n",
       "    </tr>\n",
       "    <tr>\n",
       "      <th>0.400000</th>\n",
       "      <td>1</td>\n",
       "    </tr>\n",
       "    <tr>\n",
       "      <th>0.428571</th>\n",
       "      <td>1</td>\n",
       "    </tr>\n",
       "    <tr>\n",
       "      <th>0.500000</th>\n",
       "      <td>12</td>\n",
       "    </tr>\n",
       "  </tbody>\n",
       "</table>\n",
       "</div>"
      ],
      "text/plain": [
       "            count\n",
       "event_type       \n",
       "0.000000     3970\n",
       "0.037037        2\n",
       "0.041667        1\n",
       "0.055556        1\n",
       "0.058824        1\n",
       "0.062500        2\n",
       "0.071429        2\n",
       "0.076923        1\n",
       "0.083333        2\n",
       "0.090909        6\n",
       "0.100000        6\n",
       "0.105263        1\n",
       "0.111111        6\n",
       "0.117647        1\n",
       "0.125000        8\n",
       "0.142857        5\n",
       "0.166667       18\n",
       "0.200000       19\n",
       "0.222222        2\n",
       "0.250000       36\n",
       "0.272727        1\n",
       "0.285714        2\n",
       "0.300000        1\n",
       "0.333333       42\n",
       "0.400000        1\n",
       "0.428571        1\n",
       "0.500000       12"
      ]
     },
     "execution_count": 331,
     "metadata": {},
     "output_type": "execute_result"
    }
   ],
   "source": [
    "purchased_count_df = pd.DataFrame(cf_dataset.groupby(['event_type']).size(), columns=['count'])\n",
    "purchased_count_df"
   ]
  },
  {
   "cell_type": "code",
   "execution_count": null,
   "id": "164dda44",
   "metadata": {
    "vscode": {
     "languageId": "markdown"
    }
   },
   "outputs": [
    {
     "data": {
      "text/plain": [
       "Text(0, 0.5, 'number of purchase event')"
      ]
     },
     "execution_count": 332,
     "metadata": {},
     "output_type": "execute_result"
    },
    {
     "data": {
      "image/png": "[encoded data removed]",
      "text/plain": [
       "<Figure size 1200x800 with 1 Axes>"
      ]
     },
     "metadata": {},
     "output_type": "display_data"
    }
   ],
   "source": [
    "ax = purchased_count_df.reset_index().rename(columns={'index': 'event_type'}).plot('event_type','count', 'bar',\n",
    "    figsize=(12, 8),\n",
    "    title='Count for Each Event Type',\n",
    "    fontsize=12)\n",
    "\n",
    "ax.set_xlabel(\"product event type\")\n",
    "ax.set_ylabel(\"number of purchase event\")"
   ]
  },
  {
   "cell_type": "code",
   "execution_count": null,
   "id": "66468c08",
   "metadata": {
    "vscode": {
     "languageId": "markdown"
    }
   },
   "outputs": [
    {
     "data": {
      "text/html": [
       "<div>\n",
       "<style scoped>\n",
       "    .dataframe tbody tr th:only-of-type {\n",
       "        vertical-align: middle;\n",
       "    }\n",
       "\n",
       "    .dataframe tbody tr th {\n",
       "        vertical-align: top;\n",
       "    }\n",
       "\n",
       "    .dataframe thead th {\n",
       "        text-align: right;\n",
       "    }\n",
       "</style>\n",
       "<table border=\"1\" class=\"dataframe\">\n",
       "  <thead>\n",
       "    <tr style=\"text-align: right;\">\n",
       "      <th></th>\n",
       "      <th>count</th>\n",
       "      <th>unique</th>\n",
       "      <th>top</th>\n",
       "      <th>freq</th>\n",
       "      <th>mean</th>\n",
       "      <th>std</th>\n",
       "      <th>min</th>\n",
       "      <th>25%</th>\n",
       "      <th>50%</th>\n",
       "      <th>75%</th>\n",
       "      <th>max</th>\n",
       "    </tr>\n",
       "  </thead>\n",
       "  <tbody>\n",
       "    <tr>\n",
       "      <th>user_id</th>\n",
       "      <td>4150</td>\n",
       "      <td>3591</td>\n",
       "      <td>512395480</td>\n",
       "      <td>7</td>\n",
       "      <td>NaN</td>\n",
       "      <td>NaN</td>\n",
       "      <td>NaN</td>\n",
       "      <td>NaN</td>\n",
       "      <td>NaN</td>\n",
       "      <td>NaN</td>\n",
       "      <td>NaN</td>\n",
       "    </tr>\n",
       "    <tr>\n",
       "      <th>category_code</th>\n",
       "      <td>4150</td>\n",
       "      <td>115</td>\n",
       "      <td>electronics.smartphone</td>\n",
       "      <td>1629</td>\n",
       "      <td>NaN</td>\n",
       "      <td>NaN</td>\n",
       "      <td>NaN</td>\n",
       "      <td>NaN</td>\n",
       "      <td>NaN</td>\n",
       "      <td>NaN</td>\n",
       "      <td>NaN</td>\n",
       "    </tr>\n",
       "    <tr>\n",
       "      <th>event_type</th>\n",
       "      <td>4150.0</td>\n",
       "      <td>NaN</td>\n",
       "      <td>NaN</td>\n",
       "      <td>NaN</td>\n",
       "      <td>0.010291</td>\n",
       "      <td>0.053761</td>\n",
       "      <td>0.0</td>\n",
       "      <td>0.0</td>\n",
       "      <td>0.0</td>\n",
       "      <td>0.0</td>\n",
       "      <td>0.5</td>\n",
       "    </tr>\n",
       "  </tbody>\n",
       "</table>\n",
       "</div>"
      ],
      "text/plain": [
       "                count unique                     top  freq      mean  \\\n",
       "user_id          4150   3591               512395480     7       NaN   \n",
       "category_code    4150    115  electronics.smartphone  1629       NaN   \n",
       "event_type     4150.0    NaN                     NaN   NaN  0.010291   \n",
       "\n",
       "                    std  min  25%  50%  75%  max  \n",
       "user_id             NaN  NaN  NaN  NaN  NaN  NaN  \n",
       "category_code       NaN  NaN  NaN  NaN  NaN  NaN  \n",
       "event_type     0.053761  0.0  0.0  0.0  0.0  0.5  "
      ]
     },
     "execution_count": 333,
     "metadata": {},
     "output_type": "execute_result"
    }
   ],
   "source": [
    "cf_dataset.describe(include=\"all\").T"
   ]
  },
  {
   "cell_type": "code",
   "execution_count": null,
   "id": "8860b8ad",
   "metadata": {
    "vscode": {
     "languageId": "markdown"
    }
   },
   "outputs": [
    {
     "data": {
      "text/plain": [
       "event_type\n",
       "0.000000    3970\n",
       "0.333333      42\n",
       "0.250000      36\n",
       "0.200000      19\n",
       "0.166667      18\n",
       "0.500000      12\n",
       "0.125000       8\n",
       "0.100000       6\n",
       "0.111111       6\n",
       "0.090909       6\n",
       "0.142857       5\n",
       "0.222222       2\n",
       "0.285714       2\n",
       "0.037037       2\n",
       "0.062500       2\n",
       "0.071429       2\n",
       "0.083333       2\n",
       "0.041667       1\n",
       "0.300000       1\n",
       "0.058824       1\n",
       "0.272727       1\n",
       "0.400000       1\n",
       "0.055556       1\n",
       "0.076923       1\n",
       "0.117647       1\n",
       "0.105263       1\n",
       "0.428571       1\n",
       "Name: count, dtype: int64"
      ]
     },
     "execution_count": 334,
     "metadata": {},
     "output_type": "execute_result"
    }
   ],
   "source": [
    "cf_dataset['event_type'] = cf_dataset['event_type']\n",
    "cf_dataset['event_type'].value_counts()"
   ]
  },
  {
   "cell_type": "code",
   "execution_count": null,
   "id": "7c854956",
   "metadata": {
    "vscode": {
     "languageId": "markdown"
    }
   },
   "outputs": [
    {
     "data": {
      "text/plain": [
       "42.708055572451855"
      ]
     },
     "execution_count": 335,
     "metadata": {},
     "output_type": "execute_result"
    }
   ],
   "source": [
    "cf_dataset['event_type'].values.sum()"
   ]
  },
  {
   "cell_type": "code",
   "execution_count": null,
   "id": "4803c559",
   "metadata": {
    "vscode": {
     "languageId": "markdown"
    }
   },
   "outputs": [
    {
     "data": {
      "text/html": [
       "<div>\n",
       "<style scoped>\n",
       "    .dataframe tbody tr th:only-of-type {\n",
       "        vertical-align: middle;\n",
       "    }\n",
       "\n",
       "    .dataframe tbody tr th {\n",
       "        vertical-align: top;\n",
       "    }\n",
       "\n",
       "    .dataframe thead th {\n",
       "        text-align: right;\n",
       "    }\n",
       "</style>\n",
       "<table border=\"1\" class=\"dataframe\">\n",
       "  <thead>\n",
       "    <tr style=\"text-align: right;\">\n",
       "      <th></th>\n",
       "      <th>count</th>\n",
       "      <th>unique</th>\n",
       "      <th>top</th>\n",
       "      <th>freq</th>\n",
       "      <th>mean</th>\n",
       "      <th>std</th>\n",
       "      <th>min</th>\n",
       "      <th>25%</th>\n",
       "      <th>50%</th>\n",
       "      <th>75%</th>\n",
       "      <th>max</th>\n",
       "    </tr>\n",
       "  </thead>\n",
       "  <tbody>\n",
       "    <tr>\n",
       "      <th>user_id</th>\n",
       "      <td>4150</td>\n",
       "      <td>3591</td>\n",
       "      <td>512395480</td>\n",
       "      <td>7</td>\n",
       "      <td>NaN</td>\n",
       "      <td>NaN</td>\n",
       "      <td>NaN</td>\n",
       "      <td>NaN</td>\n",
       "      <td>NaN</td>\n",
       "      <td>NaN</td>\n",
       "      <td>NaN</td>\n",
       "    </tr>\n",
       "    <tr>\n",
       "      <th>category_code</th>\n",
       "      <td>4150</td>\n",
       "      <td>115</td>\n",
       "      <td>electronics.smartphone</td>\n",
       "      <td>1629</td>\n",
       "      <td>NaN</td>\n",
       "      <td>NaN</td>\n",
       "      <td>NaN</td>\n",
       "      <td>NaN</td>\n",
       "      <td>NaN</td>\n",
       "      <td>NaN</td>\n",
       "      <td>NaN</td>\n",
       "    </tr>\n",
       "    <tr>\n",
       "      <th>event_type</th>\n",
       "      <td>4150.0</td>\n",
       "      <td>NaN</td>\n",
       "      <td>NaN</td>\n",
       "      <td>NaN</td>\n",
       "      <td>0.010291</td>\n",
       "      <td>0.053761</td>\n",
       "      <td>0.0</td>\n",
       "      <td>0.0</td>\n",
       "      <td>0.0</td>\n",
       "      <td>0.0</td>\n",
       "      <td>0.5</td>\n",
       "    </tr>\n",
       "  </tbody>\n",
       "</table>\n",
       "</div>"
      ],
      "text/plain": [
       "                count unique                     top  freq      mean  \\\n",
       "user_id          4150   3591               512395480     7       NaN   \n",
       "category_code    4150    115  electronics.smartphone  1629       NaN   \n",
       "event_type     4150.0    NaN                     NaN   NaN  0.010291   \n",
       "\n",
       "                    std  min  25%  50%  75%  max  \n",
       "user_id             NaN  NaN  NaN  NaN  NaN  NaN  \n",
       "category_code       NaN  NaN  NaN  NaN  NaN  NaN  \n",
       "event_type     0.053761  0.0  0.0  0.0  0.0  0.5  "
      ]
     },
     "execution_count": 336,
     "metadata": {},
     "output_type": "execute_result"
    }
   ],
   "source": [
    "cf_dataset.describe(include=\"all\").T"
   ]
  },
  {
   "cell_type": "code",
   "execution_count": null,
   "id": "b7a925be",
   "metadata": {
    "vscode": {
     "languageId": "markdown"
    }
   },
   "outputs": [
    {
     "data": {
      "text/html": [
       "<div>\n",
       "<style scoped>\n",
       "    .dataframe tbody tr th:only-of-type {\n",
       "        vertical-align: middle;\n",
       "    }\n",
       "\n",
       "    .dataframe tbody tr th {\n",
       "        vertical-align: top;\n",
       "    }\n",
       "\n",
       "    .dataframe thead th {\n",
       "        text-align: right;\n",
       "    }\n",
       "</style>\n",
       "<table border=\"1\" class=\"dataframe\">\n",
       "  <thead>\n",
       "    <tr style=\"text-align: right;\">\n",
       "      <th>category_code</th>\n",
       "      <th>accessories.bag</th>\n",
       "      <th>accessories.umbrella</th>\n",
       "      <th>accessories.wallet</th>\n",
       "      <th>apparel.costume</th>\n",
       "      <th>apparel.dress</th>\n",
       "      <th>apparel.jacket</th>\n",
       "      <th>apparel.jeans</th>\n",
       "      <th>apparel.scarf</th>\n",
       "      <th>apparel.shirt</th>\n",
       "      <th>apparel.shoes</th>\n",
       "      <th>...</th>\n",
       "      <th>kids.skates</th>\n",
       "      <th>kids.swing</th>\n",
       "      <th>kids.toys</th>\n",
       "      <th>medicine.tools.tonometer</th>\n",
       "      <th>sport.bicycle</th>\n",
       "      <th>sport.ski</th>\n",
       "      <th>sport.snowboard</th>\n",
       "      <th>sport.tennis</th>\n",
       "      <th>sport.trainer</th>\n",
       "      <th>stationery.cartrige</th>\n",
       "    </tr>\n",
       "    <tr>\n",
       "      <th>user_id</th>\n",
       "      <th></th>\n",
       "      <th></th>\n",
       "      <th></th>\n",
       "      <th></th>\n",
       "      <th></th>\n",
       "      <th></th>\n",
       "      <th></th>\n",
       "      <th></th>\n",
       "      <th></th>\n",
       "      <th></th>\n",
       "      <th></th>\n",
       "      <th></th>\n",
       "      <th></th>\n",
       "      <th></th>\n",
       "      <th></th>\n",
       "      <th></th>\n",
       "      <th></th>\n",
       "      <th></th>\n",
       "      <th></th>\n",
       "      <th></th>\n",
       "      <th></th>\n",
       "    </tr>\n",
       "  </thead>\n",
       "  <tbody>\n",
       "    <tr>\n",
       "      <th>306441847</th>\n",
       "      <td>0.0</td>\n",
       "      <td>0.0</td>\n",
       "      <td>0.0</td>\n",
       "      <td>0.0</td>\n",
       "      <td>0.0</td>\n",
       "      <td>0.0</td>\n",
       "      <td>0.0</td>\n",
       "      <td>0.0</td>\n",
       "      <td>0.0</td>\n",
       "      <td>0.0</td>\n",
       "      <td>...</td>\n",
       "      <td>0.0</td>\n",
       "      <td>0.0</td>\n",
       "      <td>0.0</td>\n",
       "      <td>0.0</td>\n",
       "      <td>0.0</td>\n",
       "      <td>0.0</td>\n",
       "      <td>0.0</td>\n",
       "      <td>0.0</td>\n",
       "      <td>0.0</td>\n",
       "      <td>0.0</td>\n",
       "    </tr>\n",
       "    <tr>\n",
       "      <th>434894256</th>\n",
       "      <td>0.0</td>\n",
       "      <td>0.0</td>\n",
       "      <td>0.0</td>\n",
       "      <td>0.0</td>\n",
       "      <td>0.0</td>\n",
       "      <td>0.0</td>\n",
       "      <td>0.0</td>\n",
       "      <td>0.0</td>\n",
       "      <td>0.0</td>\n",
       "      <td>0.0</td>\n",
       "      <td>...</td>\n",
       "      <td>0.0</td>\n",
       "      <td>0.0</td>\n",
       "      <td>0.0</td>\n",
       "      <td>0.0</td>\n",
       "      <td>0.0</td>\n",
       "      <td>0.0</td>\n",
       "      <td>0.0</td>\n",
       "      <td>0.0</td>\n",
       "      <td>0.0</td>\n",
       "      <td>0.0</td>\n",
       "    </tr>\n",
       "    <tr>\n",
       "      <th>442188017</th>\n",
       "      <td>0.0</td>\n",
       "      <td>0.0</td>\n",
       "      <td>0.0</td>\n",
       "      <td>0.0</td>\n",
       "      <td>0.0</td>\n",
       "      <td>0.0</td>\n",
       "      <td>0.0</td>\n",
       "      <td>0.0</td>\n",
       "      <td>0.0</td>\n",
       "      <td>0.0</td>\n",
       "      <td>...</td>\n",
       "      <td>0.0</td>\n",
       "      <td>0.0</td>\n",
       "      <td>0.0</td>\n",
       "      <td>0.0</td>\n",
       "      <td>0.0</td>\n",
       "      <td>0.0</td>\n",
       "      <td>0.0</td>\n",
       "      <td>0.0</td>\n",
       "      <td>0.0</td>\n",
       "      <td>0.0</td>\n",
       "    </tr>\n",
       "    <tr>\n",
       "      <th>443779465</th>\n",
       "      <td>0.0</td>\n",
       "      <td>0.0</td>\n",
       "      <td>0.0</td>\n",
       "      <td>0.0</td>\n",
       "      <td>0.0</td>\n",
       "      <td>0.0</td>\n",
       "      <td>0.0</td>\n",
       "      <td>0.0</td>\n",
       "      <td>0.0</td>\n",
       "      <td>0.0</td>\n",
       "      <td>...</td>\n",
       "      <td>0.0</td>\n",
       "      <td>0.0</td>\n",
       "      <td>0.0</td>\n",
       "      <td>0.0</td>\n",
       "      <td>0.0</td>\n",
       "      <td>0.0</td>\n",
       "      <td>0.0</td>\n",
       "      <td>0.0</td>\n",
       "      <td>0.0</td>\n",
       "      <td>0.0</td>\n",
       "    </tr>\n",
       "    <tr>\n",
       "      <th>444990139</th>\n",
       "      <td>0.0</td>\n",
       "      <td>0.0</td>\n",
       "      <td>0.0</td>\n",
       "      <td>0.0</td>\n",
       "      <td>0.0</td>\n",
       "      <td>0.0</td>\n",
       "      <td>0.0</td>\n",
       "      <td>0.0</td>\n",
       "      <td>0.0</td>\n",
       "      <td>0.0</td>\n",
       "      <td>...</td>\n",
       "      <td>0.0</td>\n",
       "      <td>0.0</td>\n",
       "      <td>0.0</td>\n",
       "      <td>0.0</td>\n",
       "      <td>0.0</td>\n",
       "      <td>0.0</td>\n",
       "      <td>0.0</td>\n",
       "      <td>0.0</td>\n",
       "      <td>0.0</td>\n",
       "      <td>0.0</td>\n",
       "    </tr>\n",
       "  </tbody>\n",
       "</table>\n",
       "<p>5 rows × 115 columns</p>\n",
       "</div>"
      ],
      "text/plain": [
       "category_code  accessories.bag  accessories.umbrella  accessories.wallet  \\\n",
       "user_id                                                                    \n",
       "306441847                  0.0                   0.0                 0.0   \n",
       "434894256                  0.0                   0.0                 0.0   \n",
       "442188017                  0.0                   0.0                 0.0   \n",
       "443779465                  0.0                   0.0                 0.0   \n",
       "444990139                  0.0                   0.0                 0.0   \n",
       "\n",
       "category_code  apparel.costume  apparel.dress  apparel.jacket  apparel.jeans  \\\n",
       "user_id                                                                        \n",
       "306441847                  0.0            0.0             0.0            0.0   \n",
       "434894256                  0.0            0.0             0.0            0.0   \n",
       "442188017                  0.0            0.0             0.0            0.0   \n",
       "443779465                  0.0            0.0             0.0            0.0   \n",
       "444990139                  0.0            0.0             0.0            0.0   \n",
       "\n",
       "category_code  apparel.scarf  apparel.shirt  apparel.shoes  ...  kids.skates  \\\n",
       "user_id                                                     ...                \n",
       "306441847                0.0            0.0            0.0  ...          0.0   \n",
       "434894256                0.0            0.0            0.0  ...          0.0   \n",
       "442188017                0.0            0.0            0.0  ...          0.0   \n",
       "443779465                0.0            0.0            0.0  ...          0.0   \n",
       "444990139                0.0            0.0            0.0  ...          0.0   \n",
       "\n",
       "category_code  kids.swing  kids.toys  medicine.tools.tonometer  sport.bicycle  \\\n",
       "user_id                                                                         \n",
       "306441847             0.0        0.0                       0.0            0.0   \n",
       "434894256             0.0        0.0                       0.0            0.0   \n",
       "442188017             0.0        0.0                       0.0            0.0   \n",
       "443779465             0.0        0.0                       0.0            0.0   \n",
       "444990139             0.0        0.0                       0.0            0.0   \n",
       "\n",
       "category_code  sport.ski  sport.snowboard  sport.tennis  sport.trainer  \\\n",
       "user_id                                                                  \n",
       "306441847            0.0              0.0           0.0            0.0   \n",
       "434894256            0.0              0.0           0.0            0.0   \n",
       "442188017            0.0              0.0           0.0            0.0   \n",
       "443779465            0.0              0.0           0.0            0.0   \n",
       "444990139            0.0              0.0           0.0            0.0   \n",
       "\n",
       "category_code  stationery.cartrige  \n",
       "user_id                             \n",
       "306441847                      0.0  \n",
       "434894256                      0.0  \n",
       "442188017                      0.0  \n",
       "443779465                      0.0  \n",
       "444990139                      0.0  \n",
       "\n",
       "[5 rows x 115 columns]"
      ]
     },
     "execution_count": 337,
     "metadata": {},
     "output_type": "execute_result"
    }
   ],
   "source": [
    "# pivot and create product-user matrix\n",
    "user_to_product_df = cf_dataset.pivot(\n",
    "    index='user_id',\n",
    "     columns='category_code',\n",
    "      values='event_type').fillna(0)\n",
    "\n",
    "user_to_product_df.head()"
   ]
  },
  {
   "cell_type": "code",
   "execution_count": null,
   "id": "200bcb4f",
   "metadata": {
    "vscode": {
     "languageId": "markdown"
    }
   },
   "outputs": [
    {
     "data": {
      "text/plain": [
       "(3591, 115)"
      ]
     },
     "execution_count": 338,
     "metadata": {},
     "output_type": "execute_result"
    }
   ],
   "source": [
    "user_to_product_df.shape"
   ]
  },
  {
   "cell_type": "code",
   "execution_count": null,
   "id": "dd25b50c",
   "metadata": {
    "vscode": {
     "languageId": "markdown"
    }
   },
   "outputs": [
    {
     "data": {
      "text/plain": [
       "42.70805557245186"
      ]
     },
     "execution_count": 339,
     "metadata": {},
     "output_type": "execute_result"
    }
   ],
   "source": [
    "user_to_product_df.values.sum()\n"
   ]
  },
  {
   "cell_type": "code",
   "execution_count": null,
   "id": "e879e608",
   "metadata": {
    "vscode": {
     "languageId": "markdown"
    }
   },
   "outputs": [
    {
     "data": {
      "text/html": [
       "<div>\n",
       "<style scoped>\n",
       "    .dataframe tbody tr th:only-of-type {\n",
       "        vertical-align: middle;\n",
       "    }\n",
       "\n",
       "    .dataframe tbody tr th {\n",
       "        vertical-align: top;\n",
       "    }\n",
       "\n",
       "    .dataframe thead th {\n",
       "        text-align: right;\n",
       "    }\n",
       "</style>\n",
       "<table border=\"1\" class=\"dataframe\">\n",
       "  <thead>\n",
       "    <tr style=\"text-align: right;\">\n",
       "      <th>category_code</th>\n",
       "      <th>accessories.bag</th>\n",
       "      <th>accessories.umbrella</th>\n",
       "      <th>accessories.wallet</th>\n",
       "      <th>apparel.costume</th>\n",
       "      <th>apparel.dress</th>\n",
       "      <th>apparel.jacket</th>\n",
       "      <th>apparel.jeans</th>\n",
       "      <th>apparel.scarf</th>\n",
       "      <th>apparel.shirt</th>\n",
       "      <th>apparel.shoes</th>\n",
       "      <th>...</th>\n",
       "      <th>kids.skates</th>\n",
       "      <th>kids.swing</th>\n",
       "      <th>kids.toys</th>\n",
       "      <th>medicine.tools.tonometer</th>\n",
       "      <th>sport.bicycle</th>\n",
       "      <th>sport.ski</th>\n",
       "      <th>sport.snowboard</th>\n",
       "      <th>sport.tennis</th>\n",
       "      <th>sport.trainer</th>\n",
       "      <th>stationery.cartrige</th>\n",
       "    </tr>\n",
       "    <tr>\n",
       "      <th>user_id</th>\n",
       "      <th></th>\n",
       "      <th></th>\n",
       "      <th></th>\n",
       "      <th></th>\n",
       "      <th></th>\n",
       "      <th></th>\n",
       "      <th></th>\n",
       "      <th></th>\n",
       "      <th></th>\n",
       "      <th></th>\n",
       "      <th></th>\n",
       "      <th></th>\n",
       "      <th></th>\n",
       "      <th></th>\n",
       "      <th></th>\n",
       "      <th></th>\n",
       "      <th></th>\n",
       "      <th></th>\n",
       "      <th></th>\n",
       "      <th></th>\n",
       "      <th></th>\n",
       "    </tr>\n",
       "  </thead>\n",
       "  <tbody>\n",
       "    <tr>\n",
       "      <th>306441847</th>\n",
       "      <td>0.0</td>\n",
       "      <td>0.0</td>\n",
       "      <td>0.0</td>\n",
       "      <td>0.0</td>\n",
       "      <td>0.0</td>\n",
       "      <td>0.0</td>\n",
       "      <td>0.0</td>\n",
       "      <td>0.0</td>\n",
       "      <td>0.0</td>\n",
       "      <td>0.0</td>\n",
       "      <td>...</td>\n",
       "      <td>0.0</td>\n",
       "      <td>0.0</td>\n",
       "      <td>0.0</td>\n",
       "      <td>0.0</td>\n",
       "      <td>0.0</td>\n",
       "      <td>0.0</td>\n",
       "      <td>0.0</td>\n",
       "      <td>0.0</td>\n",
       "      <td>0.0</td>\n",
       "      <td>0.0</td>\n",
       "    </tr>\n",
       "    <tr>\n",
       "      <th>434894256</th>\n",
       "      <td>0.0</td>\n",
       "      <td>0.0</td>\n",
       "      <td>0.0</td>\n",
       "      <td>0.0</td>\n",
       "      <td>0.0</td>\n",
       "      <td>0.0</td>\n",
       "      <td>0.0</td>\n",
       "      <td>0.0</td>\n",
       "      <td>0.0</td>\n",
       "      <td>0.0</td>\n",
       "      <td>...</td>\n",
       "      <td>0.0</td>\n",
       "      <td>0.0</td>\n",
       "      <td>0.0</td>\n",
       "      <td>0.0</td>\n",
       "      <td>0.0</td>\n",
       "      <td>0.0</td>\n",
       "      <td>0.0</td>\n",
       "      <td>0.0</td>\n",
       "      <td>0.0</td>\n",
       "      <td>0.0</td>\n",
       "    </tr>\n",
       "    <tr>\n",
       "      <th>442188017</th>\n",
       "      <td>0.0</td>\n",
       "      <td>0.0</td>\n",
       "      <td>0.0</td>\n",
       "      <td>0.0</td>\n",
       "      <td>0.0</td>\n",
       "      <td>0.0</td>\n",
       "      <td>0.0</td>\n",
       "      <td>0.0</td>\n",
       "      <td>0.0</td>\n",
       "      <td>0.0</td>\n",
       "      <td>...</td>\n",
       "      <td>0.0</td>\n",
       "      <td>0.0</td>\n",
       "      <td>0.0</td>\n",
       "      <td>0.0</td>\n",
       "      <td>0.0</td>\n",
       "      <td>0.0</td>\n",
       "      <td>0.0</td>\n",
       "      <td>0.0</td>\n",
       "      <td>0.0</td>\n",
       "      <td>0.0</td>\n",
       "    </tr>\n",
       "    <tr>\n",
       "      <th>443779465</th>\n",
       "      <td>0.0</td>\n",
       "      <td>0.0</td>\n",
       "      <td>0.0</td>\n",
       "      <td>0.0</td>\n",
       "      <td>0.0</td>\n",
       "      <td>0.0</td>\n",
       "      <td>0.0</td>\n",
       "      <td>0.0</td>\n",
       "      <td>0.0</td>\n",
       "      <td>0.0</td>\n",
       "      <td>...</td>\n",
       "      <td>0.0</td>\n",
       "      <td>0.0</td>\n",
       "      <td>0.0</td>\n",
       "      <td>0.0</td>\n",
       "      <td>0.0</td>\n",
       "      <td>0.0</td>\n",
       "      <td>0.0</td>\n",
       "      <td>0.0</td>\n",
       "      <td>0.0</td>\n",
       "      <td>0.0</td>\n",
       "    </tr>\n",
       "    <tr>\n",
       "      <th>444990139</th>\n",
       "      <td>0.0</td>\n",
       "      <td>0.0</td>\n",
       "      <td>0.0</td>\n",
       "      <td>0.0</td>\n",
       "      <td>0.0</td>\n",
       "      <td>0.0</td>\n",
       "      <td>0.0</td>\n",
       "      <td>0.0</td>\n",
       "      <td>0.0</td>\n",
       "      <td>0.0</td>\n",
       "      <td>...</td>\n",
       "      <td>0.0</td>\n",
       "      <td>0.0</td>\n",
       "      <td>0.0</td>\n",
       "      <td>0.0</td>\n",
       "      <td>0.0</td>\n",
       "      <td>0.0</td>\n",
       "      <td>0.0</td>\n",
       "      <td>0.0</td>\n",
       "      <td>0.0</td>\n",
       "      <td>0.0</td>\n",
       "    </tr>\n",
       "    <tr>\n",
       "      <th>...</th>\n",
       "      <td>...</td>\n",
       "      <td>...</td>\n",
       "      <td>...</td>\n",
       "      <td>...</td>\n",
       "      <td>...</td>\n",
       "      <td>...</td>\n",
       "      <td>...</td>\n",
       "      <td>...</td>\n",
       "      <td>...</td>\n",
       "      <td>...</td>\n",
       "      <td>...</td>\n",
       "      <td>...</td>\n",
       "      <td>...</td>\n",
       "      <td>...</td>\n",
       "      <td>...</td>\n",
       "      <td>...</td>\n",
       "      <td>...</td>\n",
       "      <td>...</td>\n",
       "      <td>...</td>\n",
       "      <td>...</td>\n",
       "      <td>...</td>\n",
       "    </tr>\n",
       "    <tr>\n",
       "      <th>555467129</th>\n",
       "      <td>0.0</td>\n",
       "      <td>0.0</td>\n",
       "      <td>0.0</td>\n",
       "      <td>0.0</td>\n",
       "      <td>0.0</td>\n",
       "      <td>0.0</td>\n",
       "      <td>0.0</td>\n",
       "      <td>0.0</td>\n",
       "      <td>0.0</td>\n",
       "      <td>0.0</td>\n",
       "      <td>...</td>\n",
       "      <td>0.0</td>\n",
       "      <td>0.0</td>\n",
       "      <td>0.0</td>\n",
       "      <td>0.0</td>\n",
       "      <td>0.0</td>\n",
       "      <td>0.0</td>\n",
       "      <td>0.0</td>\n",
       "      <td>0.0</td>\n",
       "      <td>0.0</td>\n",
       "      <td>0.0</td>\n",
       "    </tr>\n",
       "    <tr>\n",
       "      <th>555467157</th>\n",
       "      <td>0.0</td>\n",
       "      <td>0.0</td>\n",
       "      <td>0.0</td>\n",
       "      <td>0.0</td>\n",
       "      <td>0.0</td>\n",
       "      <td>0.0</td>\n",
       "      <td>0.0</td>\n",
       "      <td>0.0</td>\n",
       "      <td>0.0</td>\n",
       "      <td>0.0</td>\n",
       "      <td>...</td>\n",
       "      <td>0.0</td>\n",
       "      <td>0.0</td>\n",
       "      <td>0.0</td>\n",
       "      <td>0.0</td>\n",
       "      <td>0.0</td>\n",
       "      <td>0.0</td>\n",
       "      <td>0.0</td>\n",
       "      <td>0.0</td>\n",
       "      <td>0.0</td>\n",
       "      <td>0.0</td>\n",
       "    </tr>\n",
       "    <tr>\n",
       "      <th>555467172</th>\n",
       "      <td>0.0</td>\n",
       "      <td>0.0</td>\n",
       "      <td>0.0</td>\n",
       "      <td>0.0</td>\n",
       "      <td>0.0</td>\n",
       "      <td>0.0</td>\n",
       "      <td>0.0</td>\n",
       "      <td>0.0</td>\n",
       "      <td>0.0</td>\n",
       "      <td>0.0</td>\n",
       "      <td>...</td>\n",
       "      <td>0.0</td>\n",
       "      <td>0.0</td>\n",
       "      <td>0.0</td>\n",
       "      <td>0.0</td>\n",
       "      <td>0.0</td>\n",
       "      <td>0.0</td>\n",
       "      <td>0.0</td>\n",
       "      <td>0.0</td>\n",
       "      <td>0.0</td>\n",
       "      <td>0.0</td>\n",
       "    </tr>\n",
       "    <tr>\n",
       "      <th>555467188</th>\n",
       "      <td>0.0</td>\n",
       "      <td>0.0</td>\n",
       "      <td>0.0</td>\n",
       "      <td>0.0</td>\n",
       "      <td>0.0</td>\n",
       "      <td>0.0</td>\n",
       "      <td>0.0</td>\n",
       "      <td>0.0</td>\n",
       "      <td>0.0</td>\n",
       "      <td>0.0</td>\n",
       "      <td>...</td>\n",
       "      <td>0.0</td>\n",
       "      <td>0.0</td>\n",
       "      <td>0.0</td>\n",
       "      <td>0.0</td>\n",
       "      <td>0.0</td>\n",
       "      <td>0.0</td>\n",
       "      <td>0.0</td>\n",
       "      <td>0.0</td>\n",
       "      <td>0.0</td>\n",
       "      <td>0.0</td>\n",
       "    </tr>\n",
       "    <tr>\n",
       "      <th>555467192</th>\n",
       "      <td>0.0</td>\n",
       "      <td>0.0</td>\n",
       "      <td>0.0</td>\n",
       "      <td>0.0</td>\n",
       "      <td>0.0</td>\n",
       "      <td>0.0</td>\n",
       "      <td>0.0</td>\n",
       "      <td>0.0</td>\n",
       "      <td>0.0</td>\n",
       "      <td>0.0</td>\n",
       "      <td>...</td>\n",
       "      <td>0.0</td>\n",
       "      <td>0.0</td>\n",
       "      <td>0.0</td>\n",
       "      <td>0.0</td>\n",
       "      <td>0.0</td>\n",
       "      <td>0.0</td>\n",
       "      <td>0.0</td>\n",
       "      <td>0.0</td>\n",
       "      <td>0.0</td>\n",
       "      <td>0.0</td>\n",
       "    </tr>\n",
       "  </tbody>\n",
       "</table>\n",
       "<p>3591 rows × 115 columns</p>\n",
       "</div>"
      ],
      "text/plain": [
       "category_code  accessories.bag  accessories.umbrella  accessories.wallet  \\\n",
       "user_id                                                                    \n",
       "306441847                  0.0                   0.0                 0.0   \n",
       "434894256                  0.0                   0.0                 0.0   \n",
       "442188017                  0.0                   0.0                 0.0   \n",
       "443779465                  0.0                   0.0                 0.0   \n",
       "444990139                  0.0                   0.0                 0.0   \n",
       "...                        ...                   ...                 ...   \n",
       "555467129                  0.0                   0.0                 0.0   \n",
       "555467157                  0.0                   0.0                 0.0   \n",
       "555467172                  0.0                   0.0                 0.0   \n",
       "555467188                  0.0                   0.0                 0.0   \n",
       "555467192                  0.0                   0.0                 0.0   \n",
       "\n",
       "category_code  apparel.costume  apparel.dress  apparel.jacket  apparel.jeans  \\\n",
       "user_id                                                                        \n",
       "306441847                  0.0            0.0             0.0            0.0   \n",
       "434894256                  0.0            0.0             0.0            0.0   \n",
       "442188017                  0.0            0.0             0.0            0.0   \n",
       "443779465                  0.0            0.0             0.0            0.0   \n",
       "444990139                  0.0            0.0             0.0            0.0   \n",
       "...                        ...            ...             ...            ...   \n",
       "555467129                  0.0            0.0             0.0            0.0   \n",
       "555467157                  0.0            0.0             0.0            0.0   \n",
       "555467172                  0.0            0.0             0.0            0.0   \n",
       "555467188                  0.0            0.0             0.0            0.0   \n",
       "555467192                  0.0            0.0             0.0            0.0   \n",
       "\n",
       "category_code  apparel.scarf  apparel.shirt  apparel.shoes  ...  kids.skates  \\\n",
       "user_id                                                     ...                \n",
       "306441847                0.0            0.0            0.0  ...          0.0   \n",
       "434894256                0.0            0.0            0.0  ...          0.0   \n",
       "442188017                0.0            0.0            0.0  ...          0.0   \n",
       "443779465                0.0            0.0            0.0  ...          0.0   \n",
       "444990139                0.0            0.0            0.0  ...          0.0   \n",
       "...                      ...            ...            ...  ...          ...   \n",
       "555467129                0.0            0.0            0.0  ...          0.0   \n",
       "555467157                0.0            0.0            0.0  ...          0.0   \n",
       "555467172                0.0            0.0            0.0  ...          0.0   \n",
       "555467188                0.0            0.0            0.0  ...          0.0   \n",
       "555467192                0.0            0.0            0.0  ...          0.0   \n",
       "\n",
       "category_code  kids.swing  kids.toys  medicine.tools.tonometer  sport.bicycle  \\\n",
       "user_id                                                                         \n",
       "306441847             0.0        0.0                       0.0            0.0   \n",
       "434894256             0.0        0.0                       0.0            0.0   \n",
       "442188017             0.0        0.0                       0.0            0.0   \n",
       "443779465             0.0        0.0                       0.0            0.0   \n",
       "444990139             0.0        0.0                       0.0            0.0   \n",
       "...                   ...        ...                       ...            ...   \n",
       "555467129             0.0        0.0                       0.0            0.0   \n",
       "555467157             0.0        0.0                       0.0            0.0   \n",
       "555467172             0.0        0.0                       0.0            0.0   \n",
       "555467188             0.0        0.0                       0.0            0.0   \n",
       "555467192             0.0        0.0                       0.0            0.0   \n",
       "\n",
       "category_code  sport.ski  sport.snowboard  sport.tennis  sport.trainer  \\\n",
       "user_id                                                                  \n",
       "306441847            0.0              0.0           0.0            0.0   \n",
       "434894256            0.0              0.0           0.0            0.0   \n",
       "442188017            0.0              0.0           0.0            0.0   \n",
       "443779465            0.0              0.0           0.0            0.0   \n",
       "444990139            0.0              0.0           0.0            0.0   \n",
       "...                  ...              ...           ...            ...   \n",
       "555467129            0.0              0.0           0.0            0.0   \n",
       "555467157            0.0              0.0           0.0            0.0   \n",
       "555467172            0.0              0.0           0.0            0.0   \n",
       "555467188            0.0              0.0           0.0            0.0   \n",
       "555467192            0.0              0.0           0.0            0.0   \n",
       "\n",
       "category_code  stationery.cartrige  \n",
       "user_id                             \n",
       "306441847                      0.0  \n",
       "434894256                      0.0  \n",
       "442188017                      0.0  \n",
       "443779465                      0.0  \n",
       "444990139                      0.0  \n",
       "...                            ...  \n",
       "555467129                      0.0  \n",
       "555467157                      0.0  \n",
       "555467172                      0.0  \n",
       "555467188                      0.0  \n",
       "555467192                      0.0  \n",
       "\n",
       "[3591 rows x 115 columns]"
      ]
     },
     "execution_count": 340,
     "metadata": {},
     "output_type": "execute_result"
    }
   ],
   "source": [
    "user_to_product_df"
   ]
  },
  {
   "cell_type": "code",
   "execution_count": null,
   "id": "5d41a35f",
   "metadata": {
    "vscode": {
     "languageId": "markdown"
    }
   },
   "outputs": [
    {
     "data": {
      "text/html": [
       "<div>\n",
       "<style scoped>\n",
       "    .dataframe tbody tr th:only-of-type {\n",
       "        vertical-align: middle;\n",
       "    }\n",
       "\n",
       "    .dataframe tbody tr th {\n",
       "        vertical-align: top;\n",
       "    }\n",
       "\n",
       "    .dataframe thead th {\n",
       "        text-align: right;\n",
       "    }\n",
       "</style>\n",
       "<table border=\"1\" class=\"dataframe\">\n",
       "  <thead>\n",
       "    <tr style=\"text-align: right;\">\n",
       "      <th></th>\n",
       "      <th>position_index</th>\n",
       "      <th>user_id</th>\n",
       "    </tr>\n",
       "  </thead>\n",
       "  <tbody>\n",
       "    <tr>\n",
       "      <th>0</th>\n",
       "      <td>0</td>\n",
       "      <td>306441847</td>\n",
       "    </tr>\n",
       "    <tr>\n",
       "      <th>1</th>\n",
       "      <td>1</td>\n",
       "      <td>434894256</td>\n",
       "    </tr>\n",
       "    <tr>\n",
       "      <th>2</th>\n",
       "      <td>2</td>\n",
       "      <td>442188017</td>\n",
       "    </tr>\n",
       "    <tr>\n",
       "      <th>3</th>\n",
       "      <td>3</td>\n",
       "      <td>443779465</td>\n",
       "    </tr>\n",
       "    <tr>\n",
       "      <th>4</th>\n",
       "      <td>4</td>\n",
       "      <td>444990139</td>\n",
       "    </tr>\n",
       "  </tbody>\n",
       "</table>\n",
       "</div>"
      ],
      "text/plain": [
       "   position_index    user_id\n",
       "0               0  306441847\n",
       "1               1  434894256\n",
       "2               2  442188017\n",
       "3               3  443779465\n",
       "4               4  444990139"
      ]
     },
     "execution_count": 341,
     "metadata": {},
     "output_type": "execute_result"
    }
   ],
   "source": [
    "#162     512606538\n",
    "#308     512913604\n",
    "#379     513166095\n",
    "\n",
    "# Create a mapping dictionary from positional index to original user_id\n",
    "user_index_to_id_map = {}\n",
    "user_id_to_index_map = {}\n",
    "\n",
    "# Populate the mapping dictionaries\n",
    "for i, user_id in enumerate(user_to_product_df.index):\n",
    "    user_index_to_id_map[i] = user_id  # Maps position to actual user_id\n",
    "    user_id_to_index_map[user_id] = i  # Maps user_id to position\n",
    "    \n",
    "# Create a DataFrame to store these mappings\n",
    "user_mapping_df = pd.DataFrame({\n",
    "    'position_index': range(len(user_to_product_df)),\n",
    "    'user_id': user_to_product_df.index\n",
    "})\n",
    "\n",
    "# Display the first few rows of the mapping DataFrame\n",
    "user_mapping_df.head()"
   ]
  },
  {
   "cell_type": "code",
   "execution_count": null,
   "id": "6c39c72b",
   "metadata": {
    "vscode": {
     "languageId": "markdown"
    }
   },
   "outputs": [
    {
     "data": {
      "text/plain": [
       "position_index          162\n",
       "user_id           512699625\n",
       "Name: 162, dtype: object"
      ]
     },
     "execution_count": 342,
     "metadata": {},
     "output_type": "execute_result"
    }
   ],
   "source": [
    "user_mapping_df.iloc[162]"
   ]
  },
  {
   "cell_type": "code",
   "execution_count": null,
   "id": "e7e76b97",
   "metadata": {
    "vscode": {
     "languageId": "markdown"
    }
   },
   "outputs": [
    {
     "name": "stdout",
     "output_type": "stream",
     "text": [
      "35\n",
      "512384348\n",
      "Column: electronics.smartphone, Value: 0.25\n",
      "44\n",
      "512416959\n",
      "Column: appliances.kitchen.refrigerators, Value: 0.2\n",
      "71\n",
      "512478069\n",
      "Column: accessories.bag, Value: 0.10526315789473684\n",
      "110\n",
      "512550575\n",
      "Column: auto.accessories.videoregister, Value: 0.16666666666666666\n",
      "113\n",
      "512556357\n",
      "Column: electronics.smartphone, Value: 0.3333333333333333\n",
      "126\n",
      "512584306\n",
      "Column: appliances.environment.vacuum, Value: 0.2\n",
      "131\n",
      "512592316\n",
      "Column: electronics.smartphone, Value: 0.2222222222222222\n",
      "142\n",
      "512607090\n",
      "Column: electronics.smartphone, Value: 0.2\n",
      "154\n",
      "512682014\n",
      "Column: electronics.smartphone, Value: 0.0625\n",
      "176\n",
      "512730342\n",
      "Column: electronics.smartphone, Value: 0.2857142857142857\n",
      "177\n",
      "512736046\n",
      "Column: electronics.clocks, Value: 0.1\n",
      "190\n",
      "512758113\n",
      "Column: electronics.smartphone, Value: 0.2\n",
      "202\n",
      "512778902\n",
      "Column: stationery.cartrige, Value: 0.125\n",
      "217\n",
      "512812487\n",
      "Column: electronics.smartphone, Value: 0.25\n",
      "256\n",
      "512907792\n",
      "Column: appliances.kitchen.blender, Value: 0.1111111111111111\n",
      "274\n",
      "512968794\n",
      "Column: electronics.video.tv, Value: 0.25\n",
      "276\n",
      "512975726\n",
      "Column: electronics.clocks, Value: 0.037037037037037035\n",
      "312\n",
      "513118339\n",
      "Column: electronics.smartphone, Value: 0.2\n",
      "314\n",
      "513139436\n",
      "Column: electronics.smartphone, Value: 0.3333333333333333\n",
      "319\n",
      "513172531\n",
      "Column: appliances.environment.water_heater, Value: 0.5\n",
      "336\n",
      "513210754\n",
      "Column: electronics.telephone, Value: 0.2\n",
      "348\n",
      "513254174\n",
      "Column: electronics.smartphone, Value: 0.11764705882352941\n",
      "351\n",
      "513265392\n",
      "Column: electronics.smartphone, Value: 0.5\n",
      "392\n",
      "513419646\n",
      "Column: appliances.kitchen.washer, Value: 0.2\n",
      "411\n",
      "513484630\n",
      "Column: construction.tools.saw, Value: 0.16666666666666666\n",
      "413\n",
      "513489079\n",
      "Column: computers.peripherals.printer, Value: 0.14285714285714285\n",
      "440\n",
      "513632293\n",
      "Column: electronics.smartphone, Value: 0.125\n",
      "459\n",
      "513684529\n",
      "Column: electronics.audio.headphone, Value: 0.16666666666666666\n",
      "471\n",
      "513724405\n",
      "Column: electronics.smartphone, Value: 0.16666666666666666\n",
      "538\n",
      "514018346\n",
      "Column: appliances.personal.hair_cutter, Value: 0.25\n",
      "558\n",
      "514104941\n",
      "Column: electronics.smartphone, Value: 0.0625\n",
      "564\n",
      "514127317\n",
      "Column: electronics.audio.headphone, Value: 0.4\n",
      "565\n",
      "514129765\n",
      "Column: electronics.smartphone, Value: 0.16666666666666666\n",
      "605\n",
      "514311861\n",
      "Column: electronics.smartphone, Value: 0.25\n",
      "653\n",
      "514651026\n",
      "Column: electronics.smartphone, Value: 0.25\n",
      "684\n",
      "514805015\n",
      "Column: computers.notebook, Value: 0.07692307692307693\n",
      "691\n",
      "514892797\n",
      "Column: electronics.smartphone, Value: 0.25\n",
      "699\n",
      "514904277\n",
      "Column: electronics.video.tv, Value: 0.3333333333333333\n",
      "715\n",
      "514969291\n",
      "Column: appliances.environment.vacuum, Value: 0.25\n",
      "740\n",
      "515175219\n",
      "Column: electronics.clocks, Value: 0.125\n",
      "749\n",
      "515246296\n",
      "Column: electronics.smartphone, Value: 0.3333333333333333\n",
      "766\n",
      "515384420\n",
      "Column: electronics.smartphone, Value: 0.1\n",
      "782\n",
      "515478960\n",
      "Column: apparel.shoes, Value: 0.09090909090909091\n",
      "835\n",
      "515845109\n",
      "Column: electronics.smartphone, Value: 0.1111111111111111\n",
      "840\n",
      "515863193\n",
      "Column: electronics.smartphone, Value: 0.3333333333333333\n",
      "861\n",
      "516025438\n",
      "Column: electronics.smartphone, Value: 0.09090909090909091\n",
      "880\n",
      "516198933\n",
      "Column: electronics.smartphone, Value: 0.25\n",
      "881\n",
      "516201000\n",
      "Column: construction.tools.drill, Value: 0.3333333333333333\n",
      "883\n",
      "516201757\n",
      "Column: electronics.smartphone, Value: 0.16666666666666666\n",
      "896\n",
      "516255627\n",
      "Column: computers.notebook, Value: 0.3333333333333333\n",
      "931\n",
      "516426424\n",
      "Column: electronics.audio.headphone, Value: 0.14285714285714285\n",
      "932\n",
      "516426855\n",
      "Column: appliances.kitchen.refrigerators, Value: 0.3333333333333333\n",
      "958\n",
      "516679764\n",
      "Column: electronics.smartphone, Value: 0.3333333333333333\n",
      "1008\n",
      "517129864\n",
      "Column: electronics.audio.headphone, Value: 0.3333333333333333\n",
      "1073\n",
      "517953667\n",
      "Column: apparel.trousers, Value: 0.25\n",
      "1104\n",
      "518374122\n",
      "Column: electronics.smartphone, Value: 0.3333333333333333\n",
      "1112\n",
      "518431897\n",
      "Column: appliances.kitchen.hood, Value: 0.08333333333333333\n",
      "1112\n",
      "518431897\n",
      "Column: electronics.telephone, Value: 0.14285714285714285\n",
      "1115\n",
      "518463311\n",
      "Column: electronics.smartphone, Value: 0.25\n",
      "1121\n",
      "518494067\n",
      "Column: electronics.telephone, Value: 0.3333333333333333\n",
      "1131\n",
      "518599877\n",
      "Column: electronics.smartphone, Value: 0.125\n",
      "1137\n",
      "518626299\n",
      "Column: electronics.smartphone, Value: 0.5\n",
      "1170\n",
      "518794940\n",
      "Column: electronics.smartphone, Value: 0.25\n",
      "1191\n",
      "518962372\n",
      "Column: electronics.smartphone, Value: 0.25\n",
      "1195\n",
      "519034566\n",
      "Column: electronics.smartphone, Value: 0.16666666666666666\n",
      "1250\n",
      "519447668\n",
      "Column: electronics.smartphone, Value: 0.16666666666666666\n",
      "1251\n",
      "519484978\n",
      "Column: electronics.smartphone, Value: 0.1\n",
      "1260\n",
      "519590486\n",
      "Column: kids.fmcg.diapers, Value: 0.3333333333333333\n",
      "1292\n",
      "520175111\n",
      "Column: computers.components.memory, Value: 0.3333333333333333\n",
      "1299\n",
      "520395222\n",
      "Column: electronics.clocks, Value: 0.05555555555555555\n",
      "1339\n",
      "521005401\n",
      "Column: electronics.telephone, Value: 0.041666666666666664\n",
      "1426\n",
      "522661268\n",
      "Column: electronics.audio.headphone, Value: 0.3333333333333333\n",
      "1427\n",
      "522702221\n",
      "Column: electronics.audio.headphone, Value: 0.25\n",
      "1428\n",
      "522719614\n",
      "Column: electronics.smartphone, Value: 0.25\n",
      "1443\n",
      "523117953\n",
      "Column: computers.components.hdd, Value: 0.3333333333333333\n",
      "1469\n",
      "523529352\n",
      "Column: electronics.smartphone, Value: 0.3333333333333333\n",
      "1475\n",
      "523603161\n",
      "Column: electronics.smartphone, Value: 0.2\n",
      "1485\n",
      "523751849\n",
      "Column: electronics.smartphone, Value: 0.2\n",
      "1498\n",
      "524102669\n",
      "Column: electronics.smartphone, Value: 0.5\n",
      "1499\n",
      "524102815\n",
      "Column: electronics.smartphone, Value: 0.5\n",
      "1504\n",
      "524325294\n",
      "Column: electronics.smartphone, Value: 0.25\n",
      "1513\n",
      "524601178\n",
      "Column: electronics.audio.headphone, Value: 0.3333333333333333\n",
      "1526\n",
      "524890634\n",
      "Column: appliances.kitchen.refrigerators, Value: 0.2\n",
      "1542\n",
      "525372703\n",
      "Column: electronics.smartphone, Value: 0.25\n",
      "1545\n",
      "525454715\n",
      "Column: electronics.smartphone, Value: 0.2727272727272727\n",
      "1551\n",
      "525601960\n",
      "Column: electronics.smartphone, Value: 0.1\n",
      "1556\n",
      "525661637\n",
      "Column: appliances.environment.vacuum, Value: 0.125\n",
      "1557\n",
      "525662995\n",
      "Column: electronics.smartphone, Value: 0.16666666666666666\n",
      "1619\n",
      "527209005\n",
      "Column: electronics.smartphone, Value: 0.3333333333333333\n",
      "1644\n",
      "527669643\n",
      "Column: electronics.smartphone, Value: 0.2857142857142857\n",
      "1645\n",
      "527681026\n",
      "Column: appliances.kitchen.blender, Value: 0.5\n",
      "1701\n",
      "529687222\n",
      "Column: auto.accessories.player, Value: 0.09090909090909091\n",
      "1741\n",
      "530776918\n",
      "Column: electronics.smartphone, Value: 0.16666666666666666\n",
      "1821\n",
      "532762473\n",
      "Column: appliances.kitchen.refrigerators, Value: 0.3333333333333333\n",
      "1826\n",
      "532799914\n",
      "Column: electronics.smartphone, Value: 0.14285714285714285\n",
      "1836\n",
      "533000757\n",
      "Column: electronics.smartphone, Value: 0.2\n",
      "1860\n",
      "533624186\n",
      "Column: electronics.audio.headphone, Value: 0.25\n",
      "1864\n",
      "533758539\n",
      "Column: electronics.smartphone, Value: 0.25\n",
      "1875\n",
      "534142828\n",
      "Column: electronics.smartphone, Value: 0.07142857142857142\n",
      "1876\n",
      "534178501\n",
      "Column: electronics.smartphone, Value: 0.3333333333333333\n",
      "1883\n",
      "534436735\n",
      "Column: electronics.smartphone, Value: 0.16666666666666666\n",
      "1895\n",
      "534620200\n",
      "Column: electronics.smartphone, Value: 0.1111111111111111\n",
      "1956\n",
      "536328930\n",
      "Column: electronics.smartphone, Value: 0.25\n",
      "1988\n",
      "537143581\n",
      "Column: electronics.smartphone, Value: 0.2\n",
      "2011\n",
      "537717675\n",
      "Column: electronics.smartphone, Value: 0.16666666666666666\n",
      "2086\n",
      "539676251\n",
      "Column: appliances.kitchen.blender, Value: 0.09090909090909091\n",
      "2107\n",
      "540258756\n",
      "Column: furniture.kitchen.table, Value: 0.3333333333333333\n",
      "2116\n",
      "540557704\n",
      "Column: electronics.audio.headphone, Value: 0.25\n",
      "2117\n",
      "540577190\n",
      "Column: electronics.smartphone, Value: 0.25\n",
      "2131\n",
      "540920424\n",
      "Column: furniture.kitchen.table, Value: 0.5\n",
      "2161\n",
      "541486954\n",
      "Column: electronics.audio.headphone, Value: 0.3333333333333333\n",
      "2161\n",
      "541486954\n",
      "Column: electronics.smartphone, Value: 0.09090909090909091\n",
      "2164\n",
      "541516521\n",
      "Column: appliances.kitchen.toster, Value: 0.3333333333333333\n",
      "2192\n",
      "542089764\n",
      "Column: electronics.smartphone, Value: 0.1\n",
      "2230\n",
      "542659426\n",
      "Column: appliances.personal.scales, Value: 0.1111111111111111\n",
      "2256\n",
      "543075063\n",
      "Column: electronics.smartphone, Value: 0.3333333333333333\n",
      "2264\n",
      "543272936\n",
      "Column: electronics.smartphone, Value: 0.25\n",
      "2273\n",
      "543356214\n",
      "Column: electronics.smartphone, Value: 0.2\n",
      "2279\n",
      "543624132\n",
      "Column: electronics.smartphone, Value: 0.125\n",
      "2296\n",
      "543926031\n",
      "Column: electronics.smartphone, Value: 0.2\n",
      "2356\n",
      "545053960\n",
      "Column: appliances.kitchen.refrigerators, Value: 0.14285714285714285\n",
      "2390\n",
      "545803882\n",
      "Column: electronics.smartphone, Value: 0.09090909090909091\n",
      "2451\n",
      "546907454\n",
      "Column: electronics.tablet, Value: 0.3333333333333333\n",
      "2493\n",
      "547560322\n",
      "Column: electronics.smartphone, Value: 0.5\n",
      "2496\n",
      "547711161\n",
      "Column: electronics.video.tv, Value: 0.2\n",
      "2504\n",
      "547830696\n",
      "Column: electronics.smartphone, Value: 0.16666666666666666\n",
      "2533\n",
      "548496387\n",
      "Column: electronics.smartphone, Value: 0.1111111111111111\n",
      "2542\n",
      "548691404\n",
      "Column: appliances.environment.air_heater, Value: 0.125\n",
      "2584\n",
      "549265000\n",
      "Column: electronics.smartphone, Value: 0.25\n",
      "2589\n",
      "549348524\n",
      "Column: accessories.bag, Value: 0.25\n",
      "2599\n",
      "549401354\n",
      "Column: computers.notebook, Value: 0.5\n",
      "2605\n",
      "549525040\n",
      "Column: electronics.clocks, Value: 0.3333333333333333\n",
      "2610\n",
      "549614436\n",
      "Column: electronics.clocks, Value: 0.25\n",
      "2613\n",
      "549685916\n",
      "Column: appliances.kitchen.washer, Value: 0.3333333333333333\n",
      "2623\n",
      "549777331\n",
      "Column: electronics.smartphone, Value: 0.3333333333333333\n",
      "2624\n",
      "549790258\n",
      "Column: computers.notebook, Value: 0.2\n",
      "2648\n",
      "550146179\n",
      "Column: electronics.smartphone, Value: 0.3333333333333333\n",
      "2654\n",
      "550224334\n",
      "Column: electronics.smartphone, Value: 0.1\n",
      "2671\n",
      "550443776\n",
      "Column: electronics.smartphone, Value: 0.07142857142857142\n",
      "2673\n",
      "550607818\n",
      "Column: electronics.smartphone, Value: 0.2\n",
      "2707\n",
      "551281127\n",
      "Column: apparel.shoes, Value: 0.25\n",
      "2713\n",
      "551349532\n",
      "Column: electronics.smartphone, Value: 0.3333333333333333\n",
      "2714\n",
      "551349791\n",
      "Column: electronics.smartphone, Value: 0.08333333333333333\n",
      "2715\n",
      "551377651\n",
      "Column: electronics.audio.headphone, Value: 0.25\n",
      "2715\n",
      "551377651\n",
      "Column: electronics.smartphone, Value: 0.16666666666666666\n",
      "2722\n",
      "551456160\n",
      "Column: electronics.smartphone, Value: 0.058823529411764705\n",
      "2733\n",
      "551646742\n",
      "Column: appliances.kitchen.washer, Value: 0.3333333333333333\n",
      "2742\n",
      "551712733\n",
      "Column: electronics.smartphone, Value: 0.25\n",
      "2763\n",
      "552056470\n",
      "Column: electronics.smartphone, Value: 0.125\n",
      "2769\n",
      "552141352\n",
      "Column: electronics.smartphone, Value: 0.25\n",
      "2787\n",
      "552408931\n",
      "Column: electronics.smartphone, Value: 0.2222222222222222\n",
      "2788\n",
      "552439521\n",
      "Column: electronics.smartphone, Value: 0.16666666666666666\n",
      "2869\n",
      "553622042\n",
      "Column: electronics.clocks, Value: 0.1111111111111111\n",
      "2881\n",
      "553819262\n",
      "Column: appliances.kitchen.meat_grinder, Value: 0.25\n",
      "2911\n",
      "554063800\n",
      "Column: electronics.smartphone, Value: 0.25\n",
      "2917\n",
      "554090147\n",
      "Column: electronics.smartphone, Value: 0.25\n",
      "2994\n",
      "554754734\n",
      "Column: electronics.smartphone, Value: 0.037037037037037035\n",
      "3049\n",
      "555083442\n",
      "Column: electronics.smartphone, Value: 0.3333333333333333\n",
      "3055\n",
      "555110488\n",
      "Column: electronics.smartphone, Value: 0.3\n",
      "3069\n",
      "555136729\n",
      "Column: electronics.smartphone, Value: 0.16666666666666666\n",
      "3073\n",
      "555160488\n",
      "Column: electronics.smartphone, Value: 0.3333333333333333\n",
      "3075\n",
      "555168263\n",
      "Column: electronics.smartphone, Value: 0.3333333333333333\n",
      "3097\n",
      "555257206\n",
      "Column: electronics.smartphone, Value: 0.16666666666666666\n",
      "3128\n",
      "555332717\n",
      "Column: furniture.bathroom.toilet, Value: 0.5\n",
      "3144\n",
      "555354998\n",
      "Column: electronics.smartphone, Value: 0.3333333333333333\n",
      "3165\n",
      "555420273\n",
      "Column: electronics.smartphone, Value: 0.3333333333333333\n",
      "3254\n",
      "555462614\n",
      "Column: electronics.smartphone, Value: 0.25\n",
      "3258\n",
      "555462711\n",
      "Column: electronics.smartphone, Value: 0.3333333333333333\n",
      "3276\n",
      "555463016\n",
      "Column: furniture.living_room.cabinet, Value: 0.3333333333333333\n",
      "3304\n",
      "555463371\n",
      "Column: electronics.smartphone, Value: 0.2\n",
      "3310\n",
      "555463495\n",
      "Column: appliances.kitchen.washer, Value: 0.16666666666666666\n",
      "3317\n",
      "555463605\n",
      "Column: electronics.smartphone, Value: 0.3333333333333333\n",
      "3438\n",
      "555465061\n",
      "Column: appliances.kitchen.refrigerators, Value: 0.5\n",
      "3451\n",
      "555465207\n",
      "Column: electronics.smartphone, Value: 0.2\n",
      "3460\n",
      "555465285\n",
      "Column: electronics.smartphone, Value: 0.25\n",
      "3515\n",
      "555465942\n",
      "Column: appliances.environment.vacuum, Value: 0.25\n",
      "3519\n",
      "555465969\n",
      "Column: appliances.environment.vacuum, Value: 0.5\n",
      "3535\n",
      "555466298\n",
      "Column: appliances.sewing_machine, Value: 0.3333333333333333\n",
      "3543\n",
      "555466390\n",
      "Column: electronics.smartphone, Value: 0.42857142857142855\n",
      "3571\n",
      "555466734\n",
      "Column: electronics.video.tv, Value: 0.3333333333333333\n"
     ]
    }
   ],
   "source": [
    "count = 0\n",
    "for index, row in user_to_product_df.iterrows():\n",
    "    count += 1 \n",
    "    for col in user_to_product_df.columns:\n",
    "\n",
    "        if user_to_product_df.loc[index, col] != 0:\n",
    "            print(count)\n",
    "            print(index)\n",
    "            print(f\"Column: {col}, Value: {user_to_product_df.loc[index, col]}\")\n"
   ]
  },
  {
   "cell_type": "code",
   "execution_count": null,
   "id": "e5c0c860",
   "metadata": {
    "vscode": {
     "languageId": "markdown"
    }
   },
   "outputs": [
    {
     "data": {
      "text/plain": [
       "<Compressed Sparse Row sparse matrix of dtype 'float64'\n",
       "\twith 180 stored elements and shape (3591, 115)>"
      ]
     },
     "execution_count": 344,
     "metadata": {},
     "output_type": "execute_result"
    }
   ],
   "source": [
    "# transform matrix to scipy sparse matrix\n",
    "user_to_product_sparse_df = csr_matrix(user_to_product_df.values)\n",
    "user_to_product_sparse_df"
   ]
  },
  {
   "cell_type": "code",
   "execution_count": null,
   "id": "cfc58ab3",
   "metadata": {
    "vscode": {
     "languageId": "markdown"
    }
   },
   "outputs": [
    {
     "data": {
      "text/plain": [
       "(3591, 115)"
      ]
     },
     "execution_count": 345,
     "metadata": {},
     "output_type": "execute_result"
    }
   ],
   "source": [
    "user_to_product_sparse_df.get_shape()"
   ]
  },
  {
   "cell_type": "code",
   "execution_count": null,
   "id": "05a288b8",
   "metadata": {
    "vscode": {
     "languageId": "markdown"
    }
   },
   "outputs": [
    {
     "data": {
      "text/plain": [
       "180"
      ]
     },
     "execution_count": 346,
     "metadata": {},
     "output_type": "execute_result"
    }
   ],
   "source": [
    "user_to_product_sparse_df.nnz"
   ]
  },
  {
   "cell_type": "code",
   "execution_count": null,
   "id": "cd48d240",
   "metadata": {
    "vscode": {
     "languageId": "markdown"
    }
   },
   "outputs": [
    {
     "data": {
      "text/plain": [
       "180"
      ]
     },
     "execution_count": 347,
     "metadata": {},
     "output_type": "execute_result"
    }
   ],
   "source": [
    "user_to_product_sparse_df.size"
   ]
  },
  {
   "cell_type": "code",
   "execution_count": null,
   "id": "ce42ab0f",
   "metadata": {
    "vscode": {
     "languageId": "markdown"
    }
   },
   "outputs": [
    {
     "data": {
      "text/plain": [
       "array([0.25      , 0.2       , 0.10526316, 0.16666667, 0.33333333,\n",
       "       0.2       , 0.22222222, 0.2       , 0.0625    , 0.28571429,\n",
       "       0.1       , 0.2       , 0.125     , 0.25      , 0.11111111,\n",
       "       0.25      , 0.03703704, 0.2       , 0.33333333, 0.5       ,\n",
       "       0.2       , 0.11764706, 0.5       , 0.2       , 0.16666667,\n",
       "       0.14285714, 0.125     , 0.16666667, 0.16666667, 0.25      ,\n",
       "       0.0625    , 0.4       , 0.16666667, 0.25      , 0.25      ,\n",
       "       0.07692308, 0.25      , 0.33333333, 0.25      , 0.125     ,\n",
       "       0.33333333, 0.1       , 0.09090909, 0.11111111, 0.33333333,\n",
       "       0.09090909, 0.25      , 0.33333333, 0.16666667, 0.33333333,\n",
       "       0.14285714, 0.33333333, 0.33333333, 0.33333333, 0.25      ,\n",
       "       0.33333333, 0.08333333, 0.14285714, 0.25      , 0.33333333,\n",
       "       0.125     , 0.5       , 0.25      , 0.25      , 0.16666667,\n",
       "       0.16666667, 0.1       , 0.33333333, 0.33333333, 0.05555556,\n",
       "       0.04166667, 0.33333333, 0.25      , 0.25      , 0.33333333,\n",
       "       0.33333333, 0.2       , 0.2       , 0.5       , 0.5       ,\n",
       "       0.25      , 0.33333333, 0.2       , 0.25      , 0.27272727,\n",
       "       0.1       , 0.125     , 0.16666667, 0.33333333, 0.28571429,\n",
       "       0.5       , 0.09090909, 0.16666667, 0.33333333, 0.14285714,\n",
       "       0.2       , 0.25      , 0.25      , 0.07142857, 0.33333333,\n",
       "       0.16666667, 0.11111111, 0.25      , 0.2       , 0.16666667,\n",
       "       0.09090909, 0.33333333, 0.25      , 0.25      , 0.5       ,\n",
       "       0.33333333, 0.09090909, 0.33333333, 0.1       , 0.11111111,\n",
       "       0.33333333, 0.25      , 0.2       , 0.125     , 0.2       ,\n",
       "       0.14285714, 0.09090909, 0.33333333, 0.5       , 0.2       ,\n",
       "       0.16666667, 0.11111111, 0.125     , 0.25      , 0.25      ,\n",
       "       0.5       , 0.33333333, 0.25      , 0.33333333, 0.33333333,\n",
       "       0.2       , 0.33333333, 0.1       , 0.07142857, 0.2       ,\n",
       "       0.25      , 0.33333333, 0.08333333, 0.25      , 0.16666667,\n",
       "       0.05882353, 0.33333333, 0.25      , 0.125     , 0.25      ,\n",
       "       0.22222222, 0.16666667, 0.11111111, 0.25      , 0.25      ,\n",
       "       0.25      , 0.03703704, 0.33333333, 0.3       , 0.16666667,\n",
       "       0.33333333, 0.33333333, 0.16666667, 0.5       , 0.33333333,\n",
       "       0.33333333, 0.25      , 0.33333333, 0.33333333, 0.2       ,\n",
       "       0.16666667, 0.33333333, 0.5       , 0.2       , 0.25      ,\n",
       "       0.25      , 0.5       , 0.33333333, 0.42857143, 0.33333333])"
      ]
     },
     "execution_count": 348,
     "metadata": {},
     "output_type": "execute_result"
    }
   ],
   "source": [
    "user_to_product_sparse_df.data"
   ]
  },
  {
   "cell_type": "markdown",
   "id": "04491293",
   "metadata": {},
   "source": [
    "**Fitting K-Nearest Neighbours model to the scipy sparse matrix:**"
   ]
  },
  {
   "cell_type": "code",
   "execution_count": null,
   "id": "7da40c7a",
   "metadata": {},
   "outputs": [
    {
     "data": {
      "text/html": [
       "<style>#sk-container-id-6 {\n",
       "  /* Definition of color scheme common for light and dark mode */\n",
       "  --sklearn-color-text: #000;\n",
       "  --sklearn-color-text-muted: #666;\n",
       "  --sklearn-color-line: gray;\n",
       "  /* Definition of color scheme for unfitted estimators */\n",
       "  --sklearn-color-unfitted-level-0: #fff5e6;\n",
       "  --sklearn-color-unfitted-level-1: #f6e4d2;\n",
       "  --sklearn-color-unfitted-level-2: #ffe0b3;\n",
       "  --sklearn-color-unfitted-level-3: chocolate;\n",
       "  /* Definition of color scheme for fitted estimators */\n",
       "  --sklearn-color-fitted-level-0: #f0f8ff;\n",
       "  --sklearn-color-fitted-level-1: #d4ebff;\n",
       "  --sklearn-color-fitted-level-2: #b3dbfd;\n",
       "  --sklearn-color-fitted-level-3: cornflowerblue;\n",
       "\n",
       "  /* Specific color for light theme */\n",
       "  --sklearn-color-text-on-default-background: var(--sg-text-color, var(--theme-code-foreground, var(--jp-content-font-color1, black)));\n",
       "  --sklearn-color-background: var(--sg-background-color, var(--theme-background, var(--jp-layout-color0, white)));\n",
       "  --sklearn-color-border-box: var(--sg-text-color, var(--theme-code-foreground, var(--jp-content-font-color1, black)));\n",
       "  --sklearn-color-icon: #696969;\n",
       "\n",
       "  @media (prefers-color-scheme: dark) {\n",
       "    /* Redefinition of color scheme for dark theme */\n",
       "    --sklearn-color-text-on-default-background: var(--sg-text-color, var(--theme-code-foreground, var(--jp-content-font-color1, white)));\n",
       "    --sklearn-color-background: var(--sg-background-color, var(--theme-background, var(--jp-layout-color0, #111)));\n",
       "    --sklearn-color-border-box: var(--sg-text-color, var(--theme-code-foreground, var(--jp-content-font-color1, white)));\n",
       "    --sklearn-color-icon: #878787;\n",
       "  }\n",
       "}\n",
       "\n",
       "#sk-container-id-6 {\n",
       "  color: var(--sklearn-color-text);\n",
       "}\n",
       "\n",
       "#sk-container-id-6 pre {\n",
       "  padding: 0;\n",
       "}\n",
       "\n",
       "#sk-container-id-6 input.sk-hidden--visually {\n",
       "  border: 0;\n",
       "  clip: rect(1px 1px 1px 1px);\n",
       "  clip: rect(1px, 1px, 1px, 1px);\n",
       "  height: 1px;\n",
       "  margin: -1px;\n",
       "  overflow: hidden;\n",
       "  padding: 0;\n",
       "  position: absolute;\n",
       "  width: 1px;\n",
       "}\n",
       "\n",
       "#sk-container-id-6 div.sk-dashed-wrapped {\n",
       "  border: 1px dashed var(--sklearn-color-line);\n",
       "  margin: 0 0.4em 0.5em 0.4em;\n",
       "  box-sizing: border-box;\n",
       "  padding-bottom: 0.4em;\n",
       "  background-color: var(--sklearn-color-background);\n",
       "}\n",
       "\n",
       "#sk-container-id-6 div.sk-container {\n",
       "  /* jupyter's `normalize.less` sets `[hidden] { display: none; }`\n",
       "     but bootstrap.min.css set `[hidden] { display: none !important; }`\n",
       "     so we also need the `!important` here to be able to override the\n",
       "     default hidden behavior on the sphinx rendered scikit-learn.org.\n",
       "     See: https://github.com/scikit-learn/scikit-learn/issues/21755 */\n",
       "  display: inline-block !important;\n",
       "  position: relative;\n",
       "}\n",
       "\n",
       "#sk-container-id-6 div.sk-text-repr-fallback {\n",
       "  display: none;\n",
       "}\n",
       "\n",
       "div.sk-parallel-item,\n",
       "div.sk-serial,\n",
       "div.sk-item {\n",
       "  /* draw centered vertical line to link estimators */\n",
       "  background-image: linear-gradient(var(--sklearn-color-text-on-default-background), var(--sklearn-color-text-on-default-background));\n",
       "  background-size: 2px 100%;\n",
       "  background-repeat: no-repeat;\n",
       "  background-position: center center;\n",
       "}\n",
       "\n",
       "/* Parallel-specific style estimator block */\n",
       "\n",
       "#sk-container-id-6 div.sk-parallel-item::after {\n",
       "  content: \"\";\n",
       "  width: 100%;\n",
       "  border-bottom: 2px solid var(--sklearn-color-text-on-default-background);\n",
       "  flex-grow: 1;\n",
       "}\n",
       "\n",
       "#sk-container-id-6 div.sk-parallel {\n",
       "  display: flex;\n",
       "  align-items: stretch;\n",
       "  justify-content: center;\n",
       "  background-color: var(--sklearn-color-background);\n",
       "  position: relative;\n",
       "}\n",
       "\n",
       "#sk-container-id-6 div.sk-parallel-item {\n",
       "  display: flex;\n",
       "  flex-direction: column;\n",
       "}\n",
       "\n",
       "#sk-container-id-6 div.sk-parallel-item:first-child::after {\n",
       "  align-self: flex-end;\n",
       "  width: 50%;\n",
       "}\n",
       "\n",
       "#sk-container-id-6 div.sk-parallel-item:last-child::after {\n",
       "  align-self: flex-start;\n",
       "  width: 50%;\n",
       "}\n",
       "\n",
       "#sk-container-id-6 div.sk-parallel-item:only-child::after {\n",
       "  width: 0;\n",
       "}\n",
       "\n",
       "/* Serial-specific style estimator block */\n",
       "\n",
       "#sk-container-id-6 div.sk-serial {\n",
       "  display: flex;\n",
       "  flex-direction: column;\n",
       "  align-items: center;\n",
       "  background-color: var(--sklearn-color-background);\n",
       "  padding-right: 1em;\n",
       "  padding-left: 1em;\n",
       "}\n",
       "\n",
       "\n",
       "/* Toggleable style: style used for estimator/Pipeline/ColumnTransformer box that is\n",
       "clickable and can be expanded/collapsed.\n",
       "- Pipeline and ColumnTransformer use this feature and define the default style\n",
       "- Estimators will overwrite some part of the style using the `sk-estimator` class\n",
       "*/\n",
       "\n",
       "/* Pipeline and ColumnTransformer style (default) */\n",
       "\n",
       "#sk-container-id-6 div.sk-toggleable {\n",
       "  /* Default theme specific background. It is overwritten whether we have a\n",
       "  specific estimator or a Pipeline/ColumnTransformer */\n",
       "  background-color: var(--sklearn-color-background);\n",
       "}\n",
       "\n",
       "/* Toggleable label */\n",
       "#sk-container-id-6 label.sk-toggleable__label {\n",
       "  cursor: pointer;\n",
       "  display: flex;\n",
       "  width: 100%;\n",
       "  margin-bottom: 0;\n",
       "  padding: 0.5em;\n",
       "  box-sizing: border-box;\n",
       "  text-align: center;\n",
       "  align-items: start;\n",
       "  justify-content: space-between;\n",
       "  gap: 0.5em;\n",
       "}\n",
       "\n",
       "#sk-container-id-6 label.sk-toggleable__label .caption {\n",
       "  font-size: 0.6rem;\n",
       "  font-weight: lighter;\n",
       "  color: var(--sklearn-color-text-muted);\n",
       "}\n",
       "\n",
       "#sk-container-id-6 label.sk-toggleable__label-arrow:before {\n",
       "  /* Arrow on the left of the label */\n",
       "  content: \"▸\";\n",
       "  float: left;\n",
       "  margin-right: 0.25em;\n",
       "  color: var(--sklearn-color-icon);\n",
       "}\n",
       "\n",
       "#sk-container-id-6 label.sk-toggleable__label-arrow:hover:before {\n",
       "  color: var(--sklearn-color-text);\n",
       "}\n",
       "\n",
       "/* Toggleable content - dropdown */\n",
       "\n",
       "#sk-container-id-6 div.sk-toggleable__content {\n",
       "  max-height: 0;\n",
       "  max-width: 0;\n",
       "  overflow: hidden;\n",
       "  text-align: left;\n",
       "  /* unfitted */\n",
       "  background-color: var(--sklearn-color-unfitted-level-0);\n",
       "}\n",
       "\n",
       "#sk-container-id-6 div.sk-toggleable__content.fitted {\n",
       "  /* fitted */\n",
       "  background-color: var(--sklearn-color-fitted-level-0);\n",
       "}\n",
       "\n",
       "#sk-container-id-6 div.sk-toggleable__content pre {\n",
       "  margin: 0.2em;\n",
       "  border-radius: 0.25em;\n",
       "  color: var(--sklearn-color-text);\n",
       "  /* unfitted */\n",
       "  background-color: var(--sklearn-color-unfitted-level-0);\n",
       "}\n",
       "\n",
       "#sk-container-id-6 div.sk-toggleable__content.fitted pre {\n",
       "  /* unfitted */\n",
       "  background-color: var(--sklearn-color-fitted-level-0);\n",
       "}\n",
       "\n",
       "#sk-container-id-6 input.sk-toggleable__control:checked~div.sk-toggleable__content {\n",
       "  /* Expand drop-down */\n",
       "  max-height: 200px;\n",
       "  max-width: 100%;\n",
       "  overflow: auto;\n",
       "}\n",
       "\n",
       "#sk-container-id-6 input.sk-toggleable__control:checked~label.sk-toggleable__label-arrow:before {\n",
       "  content: \"▾\";\n",
       "}\n",
       "\n",
       "/* Pipeline/ColumnTransformer-specific style */\n",
       "\n",
       "#sk-container-id-6 div.sk-label input.sk-toggleable__control:checked~label.sk-toggleable__label {\n",
       "  color: var(--sklearn-color-text);\n",
       "  background-color: var(--sklearn-color-unfitted-level-2);\n",
       "}\n",
       "\n",
       "#sk-container-id-6 div.sk-label.fitted input.sk-toggleable__control:checked~label.sk-toggleable__label {\n",
       "  background-color: var(--sklearn-color-fitted-level-2);\n",
       "}\n",
       "\n",
       "/* Estimator-specific style */\n",
       "\n",
       "/* Colorize estimator box */\n",
       "#sk-container-id-6 div.sk-estimator input.sk-toggleable__control:checked~label.sk-toggleable__label {\n",
       "  /* unfitted */\n",
       "  background-color: var(--sklearn-color-unfitted-level-2);\n",
       "}\n",
       "\n",
       "#sk-container-id-6 div.sk-estimator.fitted input.sk-toggleable__control:checked~label.sk-toggleable__label {\n",
       "  /* fitted */\n",
       "  background-color: var(--sklearn-color-fitted-level-2);\n",
       "}\n",
       "\n",
       "#sk-container-id-6 div.sk-label label.sk-toggleable__label,\n",
       "#sk-container-id-6 div.sk-label label {\n",
       "  /* The background is the default theme color */\n",
       "  color: var(--sklearn-color-text-on-default-background);\n",
       "}\n",
       "\n",
       "/* On hover, darken the color of the background */\n",
       "#sk-container-id-6 div.sk-label:hover label.sk-toggleable__label {\n",
       "  color: var(--sklearn-color-text);\n",
       "  background-color: var(--sklearn-color-unfitted-level-2);\n",
       "}\n",
       "\n",
       "/* Label box, darken color on hover, fitted */\n",
       "#sk-container-id-6 div.sk-label.fitted:hover label.sk-toggleable__label.fitted {\n",
       "  color: var(--sklearn-color-text);\n",
       "  background-color: var(--sklearn-color-fitted-level-2);\n",
       "}\n",
       "\n",
       "/* Estimator label */\n",
       "\n",
       "#sk-container-id-6 div.sk-label label {\n",
       "  font-family: monospace;\n",
       "  font-weight: bold;\n",
       "  display: inline-block;\n",
       "  line-height: 1.2em;\n",
       "}\n",
       "\n",
       "#sk-container-id-6 div.sk-label-container {\n",
       "  text-align: center;\n",
       "}\n",
       "\n",
       "/* Estimator-specific */\n",
       "#sk-container-id-6 div.sk-estimator {\n",
       "  font-family: monospace;\n",
       "  border: 1px dotted var(--sklearn-color-border-box);\n",
       "  border-radius: 0.25em;\n",
       "  box-sizing: border-box;\n",
       "  margin-bottom: 0.5em;\n",
       "  /* unfitted */\n",
       "  background-color: var(--sklearn-color-unfitted-level-0);\n",
       "}\n",
       "\n",
       "#sk-container-id-6 div.sk-estimator.fitted {\n",
       "  /* fitted */\n",
       "  background-color: var(--sklearn-color-fitted-level-0);\n",
       "}\n",
       "\n",
       "/* on hover */\n",
       "#sk-container-id-6 div.sk-estimator:hover {\n",
       "  /* unfitted */\n",
       "  background-color: var(--sklearn-color-unfitted-level-2);\n",
       "}\n",
       "\n",
       "#sk-container-id-6 div.sk-estimator.fitted:hover {\n",
       "  /* fitted */\n",
       "  background-color: var(--sklearn-color-fitted-level-2);\n",
       "}\n",
       "\n",
       "/* Specification for estimator info (e.g. \"i\" and \"?\") */\n",
       "\n",
       "/* Common style for \"i\" and \"?\" */\n",
       "\n",
       ".sk-estimator-doc-link,\n",
       "a:link.sk-estimator-doc-link,\n",
       "a:visited.sk-estimator-doc-link {\n",
       "  float: right;\n",
       "  font-size: smaller;\n",
       "  line-height: 1em;\n",
       "  font-family: monospace;\n",
       "  background-color: var(--sklearn-color-background);\n",
       "  border-radius: 1em;\n",
       "  height: 1em;\n",
       "  width: 1em;\n",
       "  text-decoration: none !important;\n",
       "  margin-left: 0.5em;\n",
       "  text-align: center;\n",
       "  /* unfitted */\n",
       "  border: var(--sklearn-color-unfitted-level-1) 1pt solid;\n",
       "  color: var(--sklearn-color-unfitted-level-1);\n",
       "}\n",
       "\n",
       ".sk-estimator-doc-link.fitted,\n",
       "a:link.sk-estimator-doc-link.fitted,\n",
       "a:visited.sk-estimator-doc-link.fitted {\n",
       "  /* fitted */\n",
       "  border: var(--sklearn-color-fitted-level-1) 1pt solid;\n",
       "  color: var(--sklearn-color-fitted-level-1);\n",
       "}\n",
       "\n",
       "/* On hover */\n",
       "div.sk-estimator:hover .sk-estimator-doc-link:hover,\n",
       ".sk-estimator-doc-link:hover,\n",
       "div.sk-label-container:hover .sk-estimator-doc-link:hover,\n",
       ".sk-estimator-doc-link:hover {\n",
       "  /* unfitted */\n",
       "  background-color: var(--sklearn-color-unfitted-level-3);\n",
       "  color: var(--sklearn-color-background);\n",
       "  text-decoration: none;\n",
       "}\n",
       "\n",
       "div.sk-estimator.fitted:hover .sk-estimator-doc-link.fitted:hover,\n",
       ".sk-estimator-doc-link.fitted:hover,\n",
       "div.sk-label-container:hover .sk-estimator-doc-link.fitted:hover,\n",
       ".sk-estimator-doc-link.fitted:hover {\n",
       "  /* fitted */\n",
       "  background-color: var(--sklearn-color-fitted-level-3);\n",
       "  color: var(--sklearn-color-background);\n",
       "  text-decoration: none;\n",
       "}\n",
       "\n",
       "/* Span, style for the box shown on hovering the info icon */\n",
       ".sk-estimator-doc-link span {\n",
       "  display: none;\n",
       "  z-index: 9999;\n",
       "  position: relative;\n",
       "  font-weight: normal;\n",
       "  right: .2ex;\n",
       "  padding: .5ex;\n",
       "  margin: .5ex;\n",
       "  width: min-content;\n",
       "  min-width: 20ex;\n",
       "  max-width: 50ex;\n",
       "  color: var(--sklearn-color-text);\n",
       "  box-shadow: 2pt 2pt 4pt #999;\n",
       "  /* unfitted */\n",
       "  background: var(--sklearn-color-unfitted-level-0);\n",
       "  border: .5pt solid var(--sklearn-color-unfitted-level-3);\n",
       "}\n",
       "\n",
       ".sk-estimator-doc-link.fitted span {\n",
       "  /* fitted */\n",
       "  background: var(--sklearn-color-fitted-level-0);\n",
       "  border: var(--sklearn-color-fitted-level-3);\n",
       "}\n",
       "\n",
       ".sk-estimator-doc-link:hover span {\n",
       "  display: block;\n",
       "}\n",
       "\n",
       "/* \"?\"-specific style due to the `<a>` HTML tag */\n",
       "\n",
       "#sk-container-id-6 a.estimator_doc_link {\n",
       "  float: right;\n",
       "  font-size: 1rem;\n",
       "  line-height: 1em;\n",
       "  font-family: monospace;\n",
       "  background-color: var(--sklearn-color-background);\n",
       "  border-radius: 1rem;\n",
       "  height: 1rem;\n",
       "  width: 1rem;\n",
       "  text-decoration: none;\n",
       "  /* unfitted */\n",
       "  color: var(--sklearn-color-unfitted-level-1);\n",
       "  border: var(--sklearn-color-unfitted-level-1) 1pt solid;\n",
       "}\n",
       "\n",
       "#sk-container-id-6 a.estimator_doc_link.fitted {\n",
       "  /* fitted */\n",
       "  border: var(--sklearn-color-fitted-level-1) 1pt solid;\n",
       "  color: var(--sklearn-color-fitted-level-1);\n",
       "}\n",
       "\n",
       "/* On hover */\n",
       "#sk-container-id-6 a.estimator_doc_link:hover {\n",
       "  /* unfitted */\n",
       "  background-color: var(--sklearn-color-unfitted-level-3);\n",
       "  color: var(--sklearn-color-background);\n",
       "  text-decoration: none;\n",
       "}\n",
       "\n",
       "#sk-container-id-6 a.estimator_doc_link.fitted:hover {\n",
       "  /* fitted */\n",
       "  background-color: var(--sklearn-color-fitted-level-3);\n",
       "}\n",
       "</style><div id=\"sk-container-id-6\" class=\"sk-top-container\"><div class=\"sk-text-repr-fallback\"><pre>NearestNeighbors(algorithm=&#x27;brute&#x27;, metric=&#x27;cosine&#x27;)</pre><b>In a Jupyter environment, please rerun this cell to show the HTML representation or trust the notebook. <br />On GitHub, the HTML representation is unable to render, please try loading this page with nbviewer.org.</b></div><div class=\"sk-container\" hidden><div class=\"sk-item\"><div class=\"sk-estimator fitted sk-toggleable\"><input class=\"sk-toggleable__control sk-hidden--visually\" id=\"sk-estimator-id-6\" type=\"checkbox\" checked><label for=\"sk-estimator-id-6\" class=\"sk-toggleable__label fitted sk-toggleable__label-arrow\"><div><div>NearestNeighbors</div></div><div><a class=\"sk-estimator-doc-link fitted\" rel=\"noreferrer\" target=\"_blank\" href=\"https://scikit-learn.org/1.6/modules/generated/sklearn.neighbors.NearestNeighbors.html\">?<span>Documentation for NearestNeighbors</span></a><span class=\"sk-estimator-doc-link fitted\">i<span>Fitted</span></span></div></label><div class=\"sk-toggleable__content fitted\"><pre>NearestNeighbors(algorithm=&#x27;brute&#x27;, metric=&#x27;cosine&#x27;)</pre></div> </div></div></div></div>"
      ],
      "text/plain": [
       "NearestNeighbors(algorithm='brute', metric='cosine')"
      ]
     },
     "execution_count": 349,
     "metadata": {},
     "output_type": "execute_result"
    }
   ],
   "source": [
    "knn_model = NearestNeighbors(metric='cosine', algorithm='brute')\n",
    "knn_model.fit(user_to_product_sparse_df)"
   ]
  },
  {
   "cell_type": "code",
   "execution_count": null,
   "id": "67bd57a8",
   "metadata": {},
   "outputs": [],
   "source": [
    "## function to find top n similar users of the given input user \n",
    "def get_similar_users(user, n = 5):\n",
    "  ## input to this function is the user and number of top similar users you want.\n",
    "\n",
    "  knn_input = np.asarray([user_to_product_df.values[user-1]])  #.reshape(1,-1)\n",
    "  # knn_input = user_to_movie_df.iloc[0,:].values.reshape(1,-1)\n",
    "  distances, indices = knn_model.kneighbors(knn_input, n_neighbors=n+1)\n",
    "  \n",
    "  print(\"Top\",n,\"users who are very much similar to the User-\",user, \" Real ID : \" + user_mapping_df.iloc[user]['user_id'] + \" are: \")\n",
    "  print(\" \")\n",
    "  for i in range(1,len(distances[0])):\n",
    "    print(i,\". User:\", indices[0][i]+1, \"separated by distance of\",distances[0][i])\n",
    "  return indices.flatten()[1:] + 1, distances.flatten()[1:]\n",
    "\n"
   ]
  },
  {
   "cell_type": "code",
   "execution_count": null,
   "id": "512fcf08",
   "metadata": {},
   "outputs": [
    {
     "data": {
      "text/plain": [
       "Series([], Name: category_code, dtype: object)"
      ]
     },
     "execution_count": 351,
     "metadata": {},
     "output_type": "execute_result"
    }
   ],
   "source": [
    "cf_dataset[cf_dataset['user_id'] == 35]['category_code']"
   ]
  },
  {
   "cell_type": "code",
   "execution_count": null,
   "id": "f2e0c973",
   "metadata": {},
   "outputs": [
    {
     "data": {
      "text/plain": [
       "'512384407'"
      ]
     },
     "execution_count": 352,
     "metadata": {},
     "output_type": "execute_result"
    }
   ],
   "source": [
    "user_mapping_df.iloc[35][\"user_id\"]"
   ]
  },
  {
   "cell_type": "code",
   "execution_count": null,
   "id": "da5d8dc6",
   "metadata": {},
   "outputs": [
    {
     "name": "stdout",
     "output_type": "stream",
     "text": [
      "Top 5 users who are very much similar to the User- 35  Real ID : 512384407 are: \n",
      " \n",
      "1 . User: 2279 separated by distance of 0.0\n",
      "2 . User: 3451 separated by distance of 0.0\n",
      "3 . User: 154 separated by distance of 0.0\n",
      "4 . User: 1956 separated by distance of 0.0\n",
      "5 . User: 3460 separated by distance of 0.0\n",
      " Few of Category seen by the User:\n",
      "2776    electronics.smartphone\n",
      "Name: category_code, dtype: object\n"
     ]
    },
    {
     "ename": "TypeError",
     "evalue": "'NoneType' object is not subscriptable",
     "output_type": "error",
     "traceback": [
      "\u001b[0;31m---------------------------------------------------------------------------\u001b[0m",
      "\u001b[0;31mTypeError\u001b[0m                                 Traceback (most recent call last)",
      "Cell \u001b[0;32mIn[353], line 10\u001b[0m\n\u001b[1;32m      8\u001b[0m user_id \u001b[38;5;241m=\u001b[39m \u001b[38;5;241m778\u001b[39m\n\u001b[1;32m      9\u001b[0m \u001b[38;5;28mprint\u001b[39m(\u001b[38;5;124m\"\u001b[39m\u001b[38;5;124m Few of Category seen by the User:\u001b[39m\u001b[38;5;124m\"\u001b[39m)\n\u001b[0;32m---> 10\u001b[0m \u001b[38;5;28;43mprint\u001b[39;49m\u001b[43m(\u001b[49m\u001b[43muser_categories\u001b[49m\u001b[43m)\u001b[49m\u001b[43m[\u001b[49m\u001b[43m:\u001b[49m\u001b[38;5;241;43m10\u001b[39;49m\u001b[43m]\u001b[49m\n\u001b[1;32m     11\u001b[0m similar_user_list, distance_list \u001b[38;5;241m=\u001b[39m get_similar_users(user_id,\u001b[38;5;241m5\u001b[39m)\n",
      "\u001b[0;31mTypeError\u001b[0m: 'NoneType' object is not subscriptable"
     ]
    }
   ],
   "source": [
    "# Example usage:\n",
    "user_id =  35 # This is the actual user ID, not position index\n",
    "\n",
    "# Get similar users\n",
    "similar_user_ids, distances = get_similar_users(user_id, 5)\n",
    "user_categories = cf_dataset[cf_dataset['user_id'] == similar_user_id]['category_code']\n",
    "from pprint import pprint\n",
    "user_id = 778\n",
    "print(\" Few of Category seen by the User:\")\n",
    "print(user_categories)[:10]\n",
    "similar_user_list, distance_list = get_similar_users(user_id,5)"
   ]
  },
  {
   "cell_type": "code",
   "execution_count": null,
   "id": "9ec17bb2",
   "metadata": {},
   "outputs": [
    {
     "ename": "NameError",
     "evalue": "name 'similar_user_list' is not defined",
     "output_type": "error",
     "traceback": [
      "\u001b[0;31m---------------------------------------------------------------------------\u001b[0m",
      "\u001b[0;31mNameError\u001b[0m                                 Traceback (most recent call last)",
      "Cell \u001b[0;32mIn[127], line 1\u001b[0m\n\u001b[0;32m----> 1\u001b[0m \u001b[43msimilar_user_list\u001b[49m, distance_list\n",
      "\u001b[0;31mNameError\u001b[0m: name 'similar_user_list' is not defined"
     ]
    }
   ],
   "source": [
    "similar_user_list, distance_list"
   ]
  },
  {
   "cell_type": "code",
   "execution_count": null,
   "id": "68dedf76",
   "metadata": {},
   "outputs": [
    {
     "data": {
      "text/plain": [
       "array([0.2, 0.2, 0.2, 0.2, 0.2])"
      ]
     },
     "execution_count": 1328,
     "metadata": {},
     "output_type": "execute_result"
    }
   ],
   "source": [
    "weightage_list = distance_list/np.sum(distance_list)\n",
    "weightage_list"
   ]
  },
  {
   "cell_type": "code",
   "execution_count": null,
   "id": "78a46370",
   "metadata": {},
   "outputs": [
    {
     "data": {
      "text/plain": [
       "array([[0., 0., 0., 0., 0., 0., 0., 0., 0., 0., 0., 0., 0., 0., 0., 0.,\n",
       "        0., 0., 0., 0., 0., 0., 0., 0., 0., 0., 0., 0., 0., 0., 0., 0.,\n",
       "        0., 0., 0., 0., 0., 0., 0., 0., 0., 0., 0., 0., 0., 0., 0., 0.,\n",
       "        0., 0., 0., 0., 0., 0., 0., 0., 0., 0., 0., 0., 0., 0., 0., 0.,\n",
       "        0., 0., 0., 0., 0., 0., 0., 0., 0., 0., 0., 0., 0., 0., 0., 0.,\n",
       "        0., 0., 0., 0., 0., 0., 0., 0., 0., 0., 0., 0., 0., 0., 0., 0.,\n",
       "        0., 0., 0., 0., 0., 0., 0., 0., 0., 0., 0., 0., 0., 0., 0., 0.,\n",
       "        0., 0., 0.],\n",
       "       [0., 0., 0., 0., 0., 0., 0., 0., 0., 0., 0., 0., 0., 0., 0., 0.,\n",
       "        0., 0., 0., 0., 0., 0., 0., 0., 0., 0., 0., 0., 0., 0., 0., 0.,\n",
       "        0., 0., 0., 0., 0., 0., 0., 0., 0., 0., 0., 0., 0., 0., 0., 0.,\n",
       "        0., 0., 0., 0., 0., 0., 0., 0., 0., 0., 0., 0., 0., 0., 0., 0.,\n",
       "        0., 0., 0., 0., 0., 0., 0., 0., 0., 0., 0., 0., 0., 0., 0., 0.,\n",
       "        0., 0., 0., 0., 0., 0., 0., 0., 0., 0., 0., 0., 0., 0., 0., 0.,\n",
       "        0., 0., 0., 0., 0., 0., 0., 0., 0., 0., 0., 0., 0., 0., 0., 0.,\n",
       "        0., 0., 0.],\n",
       "       [0., 0., 0., 0., 0., 0., 0., 0., 0., 0., 0., 0., 0., 0., 0., 0.,\n",
       "        0., 0., 0., 0., 0., 0., 0., 0., 0., 0., 0., 0., 0., 0., 0., 0.,\n",
       "        0., 0., 0., 0., 0., 0., 0., 0., 0., 0., 0., 0., 0., 0., 0., 0.,\n",
       "        0., 0., 0., 0., 0., 0., 0., 0., 0., 0., 0., 0., 0., 0., 0., 0.,\n",
       "        0., 0., 0., 0., 0., 0., 0., 0., 0., 0., 0., 0., 0., 0., 0., 0.,\n",
       "        0., 0., 0., 0., 0., 0., 0., 0., 0., 0., 0., 0., 0., 0., 0., 0.,\n",
       "        0., 0., 0., 0., 0., 0., 0., 0., 0., 0., 0., 0., 0., 0., 0., 0.,\n",
       "        0., 0., 0.],\n",
       "       [0., 0., 0., 0., 0., 0., 0., 0., 0., 0., 0., 0., 0., 0., 0., 0.,\n",
       "        0., 0., 0., 0., 0., 0., 0., 0., 0., 0., 0., 0., 0., 0., 0., 0.,\n",
       "        0., 0., 0., 0., 0., 0., 0., 0., 0., 0., 0., 0., 0., 0., 0., 0.,\n",
       "        0., 0., 0., 0., 0., 0., 0., 0., 0., 0., 0., 0., 0., 0., 0., 0.,\n",
       "        0., 0., 0., 0., 0., 0., 0., 0., 0., 0., 0., 0., 0., 0., 0., 0.,\n",
       "        0., 0., 0., 0., 0., 0., 0., 0., 0., 0., 0., 0., 0., 0., 0., 0.,\n",
       "        0., 0., 0., 0., 0., 0., 0., 0., 0., 0., 0., 0., 0., 0., 0., 0.,\n",
       "        0., 0., 0.],\n",
       "       [0., 0., 0., 0., 0., 0., 0., 0., 0., 0., 0., 0., 0., 0., 0., 0.,\n",
       "        0., 0., 0., 0., 0., 0., 0., 0., 0., 0., 0., 0., 0., 0., 0., 0.,\n",
       "        0., 0., 0., 0., 0., 0., 0., 0., 0., 0., 0., 0., 0., 0., 0., 0.,\n",
       "        0., 0., 0., 0., 0., 0., 0., 0., 0., 0., 0., 0., 0., 0., 0., 0.,\n",
       "        0., 0., 0., 0., 0., 0., 0., 0., 0., 0., 0., 0., 0., 0., 0., 0.,\n",
       "        0., 0., 0., 0., 0., 0., 0., 0., 0., 0., 0., 0., 0., 0., 0., 0.,\n",
       "        0., 0., 0., 0., 0., 0., 0., 0., 0., 0., 0., 0., 0., 0., 0., 0.,\n",
       "        0., 0., 0.]])"
      ]
     },
     "execution_count": 1329,
     "metadata": {},
     "output_type": "execute_result"
    }
   ],
   "source": [
    "cat_event_type_sim_users = user_to_product_df.loc[similar_user_list].values\n",
    "cat_event_type_sim_users"
   ]
  },
  {
   "cell_type": "code",
   "execution_count": null,
   "id": "3d666361",
   "metadata": {},
   "outputs": [
    {
     "data": {
      "text/plain": [
       "(5, 115)"
      ]
     },
     "execution_count": 1330,
     "metadata": {},
     "output_type": "execute_result"
    }
   ],
   "source": [
    "cat_event_type_sim_users.shape"
   ]
  },
  {
   "cell_type": "code",
   "execution_count": null,
   "id": "625c6277",
   "metadata": {},
   "outputs": [
    {
     "data": {
      "text/plain": [
       "Index(['accessories.bag', 'accessories.umbrella', 'accessories.wallet',\n",
       "       'apparel.costume', 'apparel.dress', 'apparel.jacket', 'apparel.jeans',\n",
       "       'apparel.scarf', 'apparel.shirt', 'apparel.shoes',\n",
       "       ...\n",
       "       'kids.skates', 'kids.swing', 'kids.toys', 'medicine.tools.tonometer',\n",
       "       'sport.bicycle', 'sport.ski', 'sport.snowboard', 'sport.tennis',\n",
       "       'sport.trainer', 'stationery.cartrige'],\n",
       "      dtype='object', name='category_code', length=115)"
      ]
     },
     "execution_count": 1331,
     "metadata": {},
     "output_type": "execute_result"
    }
   ],
   "source": [
    "cat_list = user_to_product_df.columns\n",
    "cat_list"
   ]
  },
  {
   "cell_type": "code",
   "execution_count": null,
   "id": "eb41bfba",
   "metadata": {},
   "outputs": [
    {
     "name": "stdout",
     "output_type": "stream",
     "text": [
      "Weightage list shape: 5\n",
      "cat_event_type_sim_users shape: (5, 115)\n",
      "Number of categories: 115\n"
     ]
    }
   ],
   "source": [
    "print(\"Weightage list shape:\", len(weightage_list))\n",
    "print(\"cat_event_type_sim_users shape:\", cat_event_type_sim_users.shape)\n",
    "print(\"Number of categories:\", len(cat_list))"
   ]
  },
  {
   "cell_type": "markdown",
   "id": "b0f9c7ed",
   "metadata": {},
   "source": [
    "**Broadcasting weightage matrix to similar user matrix. so that it gets compatible for matrix operations**"
   ]
  },
  {
   "cell_type": "code",
   "execution_count": null,
   "id": "ea6a5f34",
   "metadata": {},
   "outputs": [
    {
     "data": {
      "text/plain": [
       "(5, 115)"
      ]
     },
     "execution_count": 1333,
     "metadata": {},
     "output_type": "execute_result"
    }
   ],
   "source": [
    "weightage_list = weightage_list[:,np.newaxis] + np.zeros(len(cat_list))\n",
    "weightage_list.shape"
   ]
  },
  {
   "cell_type": "code",
   "execution_count": null,
   "id": "cc3fe449",
   "metadata": {},
   "outputs": [
    {
     "data": {
      "text/plain": [
       "array([0., 0., 0., 0., 0., 0., 0., 0., 0., 0., 0., 0., 0., 0., 0., 0., 0.,\n",
       "       0., 0., 0., 0., 0., 0., 0., 0., 0., 0., 0., 0., 0., 0., 0., 0., 0.,\n",
       "       0., 0., 0., 0., 0., 0., 0., 0., 0., 0., 0., 0., 0., 0., 0., 0., 0.,\n",
       "       0., 0., 0., 0., 0., 0., 0., 0., 0., 0., 0., 0., 0., 0., 0., 0., 0.,\n",
       "       0., 0., 0., 0., 0., 0., 0., 0., 0., 0., 0., 0., 0., 0., 0., 0., 0.,\n",
       "       0., 0., 0., 0., 0., 0., 0., 0., 0., 0., 0., 0., 0., 0., 0., 0., 0.,\n",
       "       0., 0., 0., 0., 0., 0., 0., 0., 0., 0., 0., 0., 0.])"
      ]
     },
     "execution_count": 1334,
     "metadata": {},
     "output_type": "execute_result"
    }
   ],
   "source": [
    "new_event_type_matrix = weightage_list*cat_event_type_sim_users\n",
    "event_type_list = new_event_type_matrix.sum(axis =0)\n",
    "event_type_list"
   ]
  },
  {
   "cell_type": "code",
   "execution_count": null,
   "id": "9b686a83",
   "metadata": {},
   "outputs": [],
   "source": [
    "from pprint import pprint\n",
    "def recommend_category(n):\n",
    "  n = min(len(event_type_list),n)\n",
    "  # print(np.argsort(mean_rating_list)[::-1][:n])\n",
    "  pprint(list(cat_list[np.argsort(event_type_list)[::-1][:n]]))\n",
    "\n"
   ]
  },
  {
   "cell_type": "code",
   "execution_count": null,
   "id": "de512e76",
   "metadata": {},
   "outputs": [
    {
     "name": "stdout",
     "output_type": "stream",
     "text": [
      "Categories recommended based on similar users are: \n",
      "['stationery.cartrige',\n",
      " 'appliances.kitchen.blender',\n",
      " 'appliances.kitchen.coffee_machine',\n",
      " 'appliances.kitchen.dishwasher',\n",
      " 'appliances.kitchen.grill',\n",
      " 'appliances.kitchen.hob',\n",
      " 'appliances.kitchen.hood',\n",
      " 'appliances.kitchen.juicer',\n",
      " 'appliances.kitchen.kettle',\n",
      " 'appliances.kitchen.meat_grinder']\n"
     ]
    }
   ],
   "source": [
    "print(\"Categories recommended based on similar users are: \")\n",
    "recommend_category(10)"
   ]
  },
  {
   "cell_type": "markdown",
   "id": "712d3f48",
   "metadata": {},
   "source": [
    "It had been observed that, this recommendation system built can be made more efficient as it has few drawbacks.\n",
    "\n",
    "**Drawbacks:**\n",
    "\n",
    "**1.** But this recommendation system has a drawback, it also **recommends movies which are already seen by the given input User.**\n",
    "\n",
    "**2.** And also there is a possibility of recommending the **movies which are not at all seen by any of the similar users.**"
   ]
  },
  {
   "cell_type": "code",
   "execution_count": null,
   "id": "26b0d42b",
   "metadata": {},
   "outputs": [],
   "source": [
    "def filtered_category_recommendations(user_id, n=10):\n",
    "    \"\"\"\n",
    "    Recommend categories to a user that they haven't seen before,\n",
    "    based on similar users' preferences\n",
    "    \n",
    "    Parameters:\n",
    "    user_id: The actual user ID (not position index)\n",
    "    n: Maximum number of recommendations to return\n",
    "    \n",
    "    Returns:\n",
    "    final_category_list: List of recommended categories\n",
    "    \"\"\"\n",
    "    # Make sure we're using the correct user_id by converting if needed\n",
    "    if isinstance(user_id, int) and user_id not in user_id_to_index_map:\n",
    "        # If user provided a position index instead of actual user_id\n",
    "        if user_id < len(user_index_to_id_map):\n",
    "            actual_user_id = user_index_to_id_map[user_id]\n",
    "        else:\n",
    "            print(f\"Error: Position index {user_id} is out of bounds.\")\n",
    "            return []\n",
    "    else:\n",
    "        # User provided an actual user_id\n",
    "        actual_user_id = user_id\n",
    "    \n",
    "    # Get similar users for this user\n",
    "    similar_user_ids, distances = get_similar_users(user_id, 5)\n",
    "    \n",
    "    # Calculate weighted event types as you were doing before\n",
    "    weightage_list = distances/np.sum(distances)\n",
    "    weightage_list = weightage_list[:,np.newaxis] + np.zeros(len(cat_list))\n",
    "    \n",
    "    # Get categories from similar users\n",
    "    cat_event_type_sim_users = user_to_product_df.loc[similar_user_ids].values\n",
    "    new_event_type_matrix = weightage_list*cat_event_type_sim_users\n",
    "    event_type_list = new_event_type_matrix.sum(axis=0)\n",
    "    \n",
    "    # Filter for non-zero scores and sort\n",
    "    first_zero_index = np.where(event_type_list == 0)[0][-1] if 0 in event_type_list else len(event_type_list)\n",
    "    sortd_index = np.argsort(event_type_list)[::-1]\n",
    "    sortd_index = sortd_index[:list(sortd_index).index(first_zero_index)] if first_zero_index in sortd_index else sortd_index\n",
    "    \n",
    "    # Get the list of categories the user has already seen\n",
    "    categories_seen = list(cf_dataset[cf_dataset['user_id'] == actual_user_id]['category_code'])\n",
    "    \n",
    "    # Filter out categories the user has already seen\n",
    "    filtered_category_list = list(cat_list[sortd_index])\n",
    "    final_category_list = []\n",
    "    count = 0\n",
    "    \n",
    "    for category in filtered_category_list:\n",
    "        if category not in categories_seen:\n",
    "            count += 1\n",
    "            final_category_list.append(category)\n",
    "        if count == n:\n",
    "            break\n",
    "    \n",
    "    if count == 0:\n",
    "        print(f\"No new categories to recommend for user {actual_user_id}.\")\n",
    "    else:\n",
    "        print(f\"Recommending {count} new categories for user {actual_user_id}:\")\n",
    "        pprint(final_category_list)\n",
    "    \n",
    "    return final_category_list"
   ]
  },
  {
   "cell_type": "code",
   "execution_count": null,
   "id": "140a1930",
   "metadata": {},
   "outputs": [
    {
     "ename": "NameError",
     "evalue": "name 'filtered_category_recommendations' is not defined",
     "output_type": "error",
     "traceback": [
      "\u001b[0;31m---------------------------------------------------------------------------\u001b[0m",
      "\u001b[0;31mNameError\u001b[0m                                 Traceback (most recent call last)",
      "Cell \u001b[0;32mIn[67], line 1\u001b[0m\n\u001b[0;32m----> 1\u001b[0m \u001b[43mfiltered_category_recommendations\u001b[49m()\n\u001b[1;32m      2\u001b[0m user_mapping_df[\u001b[38;5;124m\"\u001b[39m\u001b[38;5;124muser_id\u001b[39m\u001b[38;5;124m\"\u001b[39m]\n\u001b[1;32m      3\u001b[0m \u001b[38;5;66;03m#162     512606538\u001b[39;00m\n\u001b[1;32m      4\u001b[0m \u001b[38;5;66;03m#308     512913604\u001b[39;00m\n",
      "\u001b[0;31mNameError\u001b[0m: name 'filtered_category_recommendations' is not defined"
     ]
    }
   ],
   "source": [
    "filtered_category_recommendations()\n",
    "\n",
    "#162     512606538\n",
    "#308     512913604"
   ]
  },
  {
   "cell_type": "code",
   "execution_count": null,
   "id": "9962c28f",
   "metadata": {},
   "outputs": [
    {
     "ename": "NameError",
     "evalue": "name 'con' is not defined",
     "output_type": "error",
     "traceback": [
      "\u001b[0;31m---------------------------------------------------------------------------\u001b[0m",
      "\u001b[0;31mNameError\u001b[0m                                 Traceback (most recent call last)",
      "Cell \u001b[0;32mIn[1], line 1\u001b[0m\n\u001b[0;32m----> 1\u001b[0m \u001b[43mcon\u001b[49m\u001b[38;5;241m.\u001b[39mclose()\n",
      "\u001b[0;31mNameError\u001b[0m: name 'con' is not defined"
     ]
    }
   ],
   "source": [
    "con.close()"
   ]
  }
 ],
 "metadata": {
  "kernelspec": {
   "display_name": "base",
   "language": "python",
   "name": "python3"
  },
  "language_info": {
   "codemirror_mode": {
    "name": "ipython",
    "version": 3
   },
   "file_extension": ".py",
   "mimetype": "text/x-python",
   "name": "python",
   "nbconvert_exporter": "python",
   "pygments_lexer": "ipython3",
   "version": "3.12.8"
  }
 },
 "nbformat": 4,
 "nbformat_minor": 5
}
