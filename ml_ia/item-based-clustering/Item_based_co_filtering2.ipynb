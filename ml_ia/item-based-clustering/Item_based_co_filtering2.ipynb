{
 "cells": [
  {
   "cell_type": "code",
   "execution_count": 12,
   "id": "67745b3b",
   "metadata": {},
   "outputs": [],
   "source": [
    "import os\n",
    "import numpy as np\n",
    "import pandas as pd\n",
    "import matplotlib.pyplot as plt\n",
    "from scipy.sparse import csr_matrix\n",
    "from sklearn.neighbors import NearestNeighbors\n",
    "import plotly.express as px\n",
    "import duckdb\n",
    "import os\n",
    "from pathlib import Path\n",
    "from typing import List\n",
    "import matplotlib.pyplot as plt\n",
    "import pandas as pd\n",
    "import seaborn as sns\n",
    "import numpy as np"
   ]
  },
  {
   "cell_type": "code",
   "execution_count": 13,
   "id": "d07c4ebc",
   "metadata": {},
   "outputs": [
    {
     "name": "stdout",
     "output_type": "stream",
     "text": [
      "Répertoire de travail actuel: /home/c-enjalbert/Documents/EPSI/MSPR/bloc_2/amazing/ml_ia/item-based-clustering\n",
      "\n",
      "Contenu du répertoire parent (..):\n",
      "['item-based-clustering', 'analyse_exploratoire.ipynb', 'clustering']\n",
      "\n",
      "Contenu deux niveaux au-dessus (../..):\n",
      "['amazing.duckdb', 'ml_ia', '.amazing.duckdb', 'requirements.txt', '.git', 'Access_token.txt', 'README.md', 'etl', 'data', '.gitignore']\n"
     ]
    }
   ],
   "source": [
    "# Afficher le répertoire de travail actuel\n",
    "import os\n",
    "print(\"Répertoire de travail actuel:\", os.getcwd())\n",
    "\n",
    "# Lister les fichiers et dossiers du répertoire parent\n",
    "print(\"\\nContenu du répertoire parent (..):\")\n",
    "print(os.listdir(\"..\"))\n",
    "\n",
    "# Lister les fichiers et dossiers deux niveaux au-dessus\n",
    "print(\"\\nContenu deux niveaux au-dessus (../..):\")\n",
    "try:\n",
    "    print(os.listdir(\"../..\"))\n",
    "except FileNotFoundError:\n",
    "    print(\"Impossible d'accéder à ce répertoire\")"
   ]
  },
  {
   "cell_type": "code",
   "execution_count": 14,
   "id": "bc866333",
   "metadata": {},
   "outputs": [
    {
     "name": "stdout",
     "output_type": "stream",
     "text": [
      "Dossier data trouvé à : /home/c-enjalbert/Documents/EPSI/MSPR/bloc_2/amazing/data\n"
     ]
    }
   ],
   "source": [
    "# Essayez différentes approches pour localiser le dossier data\n",
    "possible_paths = [\n",
    "    Path(\"../data\"),             # Un niveau au-dessus\n",
    "    Path(\"../../data\"),          # Deux niveaux au-dessus\n",
    "    Path(\"../../../data\"),       # Trois niveaux au-dessus\n",
    "    Path(\"../../../../data\"),    # Quatre niveaux au-dessus\n",
    "]\n",
    "\n",
    "for path in possible_paths:\n",
    "    if path.is_dir():\n",
    "        print(f\"Dossier data trouvé à : {path.resolve()}\")\n",
    "        data_folder = path\n",
    "        break\n",
    "else:\n",
    "    print(\"Impossible de trouver le dossier data automatiquement\")"
   ]
  },
  {
   "cell_type": "markdown",
   "id": "d0dbe313",
   "metadata": {},
   "source": [
    "### Connexion à la DB / Import des Data\n"
   ]
  },
  {
   "cell_type": "code",
   "execution_count": 15,
   "id": "e93b92e6",
   "metadata": {},
   "outputs": [],
   "source": [
    "# Store database at project root\n",
    "DB_NAME = Path(\"/home/c-enjalbert/Documents/EPSI/MSPR/bloc_2/amazing/amazing.duckdb\") \n",
    "# Go up one level from current directory to get to project root\n",
    "data_folder = Path(\"../..\").resolve() / \"data\"\n",
    "# For absolute certainty, you could use the absolute path\n",
    "# data_folder = Path(\"/home/c-enjalbert/Documents/EPSI/MSPR/bloc_2/amazing/data\")\n",
    "con = duckdb.connect(str(DB_NAME))"
   ]
  },
  {
   "cell_type": "code",
   "execution_count": 16,
   "id": "d113223a",
   "metadata": {},
   "outputs": [
    {
     "name": "stdout",
     "output_type": "stream",
     "text": [
      "Found 2 tables in the database:\n",
      "\n",
      "1. all_events\n",
      "2. loaded_files\n"
     ]
    }
   ],
   "source": [
    "# 2. Query to list all tables in the database\n",
    "# DuckDB specific way to list tables\n",
    "tables_info = con.sql(\"\"\"\n",
    "    SELECT table_name\n",
    "    FROM information_schema.tables\n",
    "    WHERE table_schema = 'main'\n",
    "    ORDER BY table_name\n",
    "\"\"\").df()\n",
    "\n",
    "print(f\"Found {len(tables_info)} tables in the database:\\n\")\n",
    "\n",
    "if len(tables_info) > 0:\n",
    "    for i, table_name in enumerate(tables_info['table_name']):\n",
    "        print(f\"{i+1}. {table_name}\")\n",
    "else:\n",
    "    print(\"No tables found in the database.\")"
   ]
  },
  {
   "cell_type": "code",
   "execution_count": 17,
   "id": "4ec4bbd4",
   "metadata": {},
   "outputs": [
    {
     "name": "stdout",
     "output_type": "stream",
     "text": [
      "List of all tables using DuckDB's connections.tables():\n",
      "┌──────────────┐\n",
      "│     name     │\n",
      "│   varchar    │\n",
      "├──────────────┤\n",
      "│ all_events   │\n",
      "│ loaded_files │\n",
      "└──────────────┘\n",
      "\n"
     ]
    }
   ],
   "source": [
    "# 5. Alternative way to show all tables\n",
    "print(\"List of all tables using DuckDB's connections.tables():\")\n",
    "con.sql(\"SHOW TABLES\").show()"
   ]
  },
  {
   "cell_type": "markdown",
   "id": "7524985a",
   "metadata": {},
   "source": [
    "### Save Tables as DataFrame"
   ]
  },
  {
   "cell_type": "code",
   "execution_count": 18,
   "id": "7fccf31b",
   "metadata": {},
   "outputs": [
    {
     "name": "stdout",
     "output_type": "stream",
     "text": [
      "Event counts by type:\n",
      "┌─────────────────────┬────────────┬────────────┬─────────────────────┬─────────────────────────────────────┬──────────┬─────────┬───────────┬──────────────────────────────────────┐\n",
      "│     event_time      │ event_type │ product_id │     category_id     │            category_code            │  brand   │  price  │  user_id  │             user_session             │\n",
      "│      timestamp      │  varchar   │  varchar   │       varchar       │               varchar               │ varchar  │ double  │  varchar  │               varchar                │\n",
      "├─────────────────────┼────────────┼────────────┼─────────────────────┼─────────────────────────────────────┼──────────┼─────────┼───────────┼──────────────────────────────────────┤\n",
      "│ 2019-10-01 00:00:00 │ view       │ 44600062   │ 2103807459595387724 │ NULL                                │ shiseido │   35.79 │ 541312140 │ 72d76fde-8bb3-4e00-8c23-a032dfed738c │\n",
      "│ 2019-10-01 00:00:00 │ view       │ 3900821    │ 2053013552326770905 │ appliances.environment.water_heater │ aqua     │    33.2 │ 554748717 │ 9333dfbd-b87a-4708-9857-6336556b0fcc │\n",
      "│ 2019-10-01 00:00:01 │ view       │ 17200506   │ 2053013559792632471 │ furniture.living_room.sofa          │ NULL     │   543.1 │ 519107250 │ 566511c2-e2e3-422b-b695-cf8e6e792ca8 │\n",
      "│ 2019-10-01 00:00:01 │ view       │ 1307067    │ 2053013558920217191 │ computers.notebook                  │ lenovo   │  251.74 │ 550050854 │ 7c90fc70-0e80-4590-96f3-13c02c18c713 │\n",
      "│ 2019-10-01 00:00:04 │ view       │ 1004237    │ 2053013555631882655 │ electronics.smartphone              │ apple    │ 1081.98 │ 535871217 │ c6bd7419-2748-4c56-95b4-8cec9ff8b80d │\n",
      "│ 2019-10-01 00:00:05 │ view       │ 1480613    │ 2053013561092866779 │ computers.desktop                   │ pulser   │  908.62 │ 512742880 │ 0d0d91c2-c9c2-4e81-90a5-86594dec0db9 │\n",
      "│ 2019-10-01 00:00:08 │ view       │ 17300353   │ 2053013553853497655 │ NULL                                │ creed    │  380.96 │ 555447699 │ 4fe811e9-91de-46da-90c3-bbd87ed3a65d │\n",
      "│ 2019-10-01 00:00:08 │ view       │ 31500053   │ 2053013558031024687 │ NULL                                │ luminarc │   41.16 │ 550978835 │ 6280d577-25c8-4147-99a7-abc6048498d6 │\n",
      "│ 2019-10-01 00:00:10 │ view       │ 28719074   │ 2053013565480109009 │ apparel.shoes.keds                  │ baden    │  102.71 │ 520571932 │ ac1cd4e5-a3ce-4224-a2d7-ff660a105880 │\n",
      "│ 2019-10-01 00:00:11 │ view       │ 1004545    │ 2053013555631882655 │ electronics.smartphone              │ huawei   │  566.01 │ 537918940 │ 406c46ed-90a4-4787-a43b-59a410c1a5fb │\n",
      "│          ·          │  ·         │    ·       │          ·          │           ·                         │   ·      │     ·   │     ·     │                  ·                   │\n",
      "│          ·          │  ·         │    ·       │          ·          │           ·                         │   ·      │     ·   │     ·     │                  ·                   │\n",
      "│          ·          │  ·         │    ·       │          ·          │           ·                         │   ·      │     ·   │     ·     │                  ·                   │\n",
      "│ 2019-10-01 02:37:18 │ view       │ 3100970    │ 2053013555262783879 │ appliances.kitchen.blender          │ redmond  │   40.67 │ 519178197 │ 51390f80-9f09-4e12-a8ba-ebf12205497c │\n",
      "│ 2019-10-01 02:37:18 │ view       │ 1004939    │ 2053013555631882655 │ electronics.smartphone              │ vivo     │  141.29 │ 513254174 │ 25188ff4-b393-4a99-a562-200457429825 │\n",
      "│ 2019-10-01 02:37:18 │ view       │ 5301398    │ 2053013563173241677 │ NULL                                │ elenberg │   10.27 │ 553994175 │ a5f4d1a4-4d03-441b-93f1-0dcd0e84b4c1 │\n",
      "│ 2019-10-01 02:37:18 │ view       │ 6400290    │ 2053013554121933129 │ computers.components.cpu            │ intel    │  260.37 │ 555464661 │ 47873c34-5cd6-4bcf-ac1d-6e5228f8eee0 │\n",
      "│ 2019-10-01 02:37:18 │ view       │ 6200966    │ 2053013552293216471 │ appliances.environment.air_heater   │ saturn   │   27.03 │ 513265169 │ caa06974-210d-4147-82a4-1c5646b5d3a6 │\n",
      "│ 2019-10-01 02:37:18 │ view       │ 45600168   │ 2113934850560885372 │ apparel.shoes.keds                  │ nike     │   59.18 │ 539620652 │ 2b8f3a28-5ca3-4038-a48f-021db1c8d1dc │\n",
      "│ 2019-10-01 02:37:18 │ view       │ 32403314   │ 2053013566562238479 │ NULL                                │ NULL     │   25.48 │ 516770039 │ 76b06dcb-c92f-4fa8-8d35-d290cadc29c5 │\n",
      "│ 2019-10-01 02:37:18 │ view       │ 1004838    │ 2053013555631882655 │ electronics.smartphone              │ oppo     │  179.38 │ 527209005 │ cbfdc1b0-39b7-4d1d-bce3-b79fc6b6c7cf │\n",
      "│ 2019-10-01 02:37:18 │ view       │ 3601063    │ 2053013563810775923 │ appliances.kitchen.washer           │ artel    │   94.98 │ 536457776 │ 917a738a-5505-44b0-b336-96f5f0028b04 │\n",
      "│ 2019-10-01 02:37:18 │ view       │ 28715760   │ 2053013565069067197 │ apparel.shoes.keds                  │ nexpero  │  107.85 │ 523596085 │ edddf185-c754-4ad8-b688-bb7bc5c3abbf │\n",
      "├─────────────────────┴────────────┴────────────┴─────────────────────┴─────────────────────────────────────┴──────────┴─────────┴───────────┴──────────────────────────────────────┤\n",
      "│ ? rows (>9999 rows, 20 shown)                                                                                                                                           9 columns │\n",
      "└───────────────────────────────────────────────────────────────────────────────────────────────────────────────────────────────────────────────────────────────────────────────────┘\n",
      "\n"
     ]
    }
   ],
   "source": [
    "# Get event counts by event_type\n",
    "print(\"Event counts by type:\")\n",
    "all_events = con.sql(\"\"\"\n",
    "    SELECT \n",
    "    *\n",
    "    FROM all_events\n",
    "    LIMIT 20000\n",
    "\"\"\")\n",
    "all_events.show()\n",
    "\n"
   ]
  },
  {
   "cell_type": "code",
   "execution_count": 19,
   "id": "fb9be40c",
   "metadata": {},
   "outputs": [
    {
     "data": {
      "text/html": [
       "<div>\n",
       "<style scoped>\n",
       "    .dataframe tbody tr th:only-of-type {\n",
       "        vertical-align: middle;\n",
       "    }\n",
       "\n",
       "    .dataframe tbody tr th {\n",
       "        vertical-align: top;\n",
       "    }\n",
       "\n",
       "    .dataframe thead th {\n",
       "        text-align: right;\n",
       "    }\n",
       "</style>\n",
       "<table border=\"1\" class=\"dataframe\">\n",
       "  <thead>\n",
       "    <tr style=\"text-align: right;\">\n",
       "      <th></th>\n",
       "      <th>count</th>\n",
       "      <th>unique</th>\n",
       "      <th>top</th>\n",
       "      <th>freq</th>\n",
       "      <th>mean</th>\n",
       "      <th>min</th>\n",
       "      <th>25%</th>\n",
       "      <th>50%</th>\n",
       "      <th>75%</th>\n",
       "      <th>max</th>\n",
       "      <th>std</th>\n",
       "    </tr>\n",
       "  </thead>\n",
       "  <tbody>\n",
       "    <tr>\n",
       "      <th>event_time</th>\n",
       "      <td>20000</td>\n",
       "      <td>NaN</td>\n",
       "      <td>NaN</td>\n",
       "      <td>NaN</td>\n",
       "      <td>2019-10-01 02:29:27.043549</td>\n",
       "      <td>2019-10-01 00:00:00</td>\n",
       "      <td>2019-10-01 02:28:14.750000</td>\n",
       "      <td>2019-10-01 02:37:18</td>\n",
       "      <td>2019-10-01 02:46:00</td>\n",
       "      <td>2019-10-01 02:54:01</td>\n",
       "      <td>NaN</td>\n",
       "    </tr>\n",
       "    <tr>\n",
       "      <th>event_type</th>\n",
       "      <td>20000</td>\n",
       "      <td>3</td>\n",
       "      <td>view</td>\n",
       "      <td>19548</td>\n",
       "      <td>NaN</td>\n",
       "      <td>NaN</td>\n",
       "      <td>NaN</td>\n",
       "      <td>NaN</td>\n",
       "      <td>NaN</td>\n",
       "      <td>NaN</td>\n",
       "      <td>NaN</td>\n",
       "    </tr>\n",
       "    <tr>\n",
       "      <th>product_id</th>\n",
       "      <td>20000</td>\n",
       "      <td>7178</td>\n",
       "      <td>1004856</td>\n",
       "      <td>234</td>\n",
       "      <td>NaN</td>\n",
       "      <td>NaN</td>\n",
       "      <td>NaN</td>\n",
       "      <td>NaN</td>\n",
       "      <td>NaN</td>\n",
       "      <td>NaN</td>\n",
       "      <td>NaN</td>\n",
       "    </tr>\n",
       "    <tr>\n",
       "      <th>category_id</th>\n",
       "      <td>20000</td>\n",
       "      <td>443</td>\n",
       "      <td>2053013555631882655</td>\n",
       "      <td>5387</td>\n",
       "      <td>NaN</td>\n",
       "      <td>NaN</td>\n",
       "      <td>NaN</td>\n",
       "      <td>NaN</td>\n",
       "      <td>NaN</td>\n",
       "      <td>NaN</td>\n",
       "      <td>NaN</td>\n",
       "    </tr>\n",
       "    <tr>\n",
       "      <th>category_code</th>\n",
       "      <td>13412</td>\n",
       "      <td>115</td>\n",
       "      <td>electronics.smartphone</td>\n",
       "      <td>5387</td>\n",
       "      <td>NaN</td>\n",
       "      <td>NaN</td>\n",
       "      <td>NaN</td>\n",
       "      <td>NaN</td>\n",
       "      <td>NaN</td>\n",
       "      <td>NaN</td>\n",
       "      <td>NaN</td>\n",
       "    </tr>\n",
       "    <tr>\n",
       "      <th>brand</th>\n",
       "      <td>17185</td>\n",
       "      <td>922</td>\n",
       "      <td>samsung</td>\n",
       "      <td>2330</td>\n",
       "      <td>NaN</td>\n",
       "      <td>NaN</td>\n",
       "      <td>NaN</td>\n",
       "      <td>NaN</td>\n",
       "      <td>NaN</td>\n",
       "      <td>NaN</td>\n",
       "      <td>NaN</td>\n",
       "    </tr>\n",
       "    <tr>\n",
       "      <th>price</th>\n",
       "      <td>20000.0</td>\n",
       "      <td>NaN</td>\n",
       "      <td>NaN</td>\n",
       "      <td>NaN</td>\n",
       "      <td>289.381401</td>\n",
       "      <td>0.0</td>\n",
       "      <td>60.23</td>\n",
       "      <td>154.42</td>\n",
       "      <td>359.08</td>\n",
       "      <td>2574.07</td>\n",
       "      <td>368.18694</td>\n",
       "    </tr>\n",
       "    <tr>\n",
       "      <th>user_id</th>\n",
       "      <td>20000</td>\n",
       "      <td>5012</td>\n",
       "      <td>531063605</td>\n",
       "      <td>57</td>\n",
       "      <td>NaN</td>\n",
       "      <td>NaN</td>\n",
       "      <td>NaN</td>\n",
       "      <td>NaN</td>\n",
       "      <td>NaN</td>\n",
       "      <td>NaN</td>\n",
       "      <td>NaN</td>\n",
       "    </tr>\n",
       "    <tr>\n",
       "      <th>user_session</th>\n",
       "      <td>20000</td>\n",
       "      <td>5669</td>\n",
       "      <td>f85114d0-6167-4c8b-88f8-0cd1cfc2c10c</td>\n",
       "      <td>55</td>\n",
       "      <td>NaN</td>\n",
       "      <td>NaN</td>\n",
       "      <td>NaN</td>\n",
       "      <td>NaN</td>\n",
       "      <td>NaN</td>\n",
       "      <td>NaN</td>\n",
       "      <td>NaN</td>\n",
       "    </tr>\n",
       "  </tbody>\n",
       "</table>\n",
       "</div>"
      ],
      "text/plain": [
       "                 count unique                                   top   freq  \\\n",
       "event_time       20000    NaN                                   NaN    NaN   \n",
       "event_type       20000      3                                  view  19548   \n",
       "product_id       20000   7178                               1004856    234   \n",
       "category_id      20000    443                   2053013555631882655   5387   \n",
       "category_code    13412    115                electronics.smartphone   5387   \n",
       "brand            17185    922                               samsung   2330   \n",
       "price          20000.0    NaN                                   NaN    NaN   \n",
       "user_id          20000   5012                             531063605     57   \n",
       "user_session     20000   5669  f85114d0-6167-4c8b-88f8-0cd1cfc2c10c     55   \n",
       "\n",
       "                                     mean                  min  \\\n",
       "event_time     2019-10-01 02:29:27.043549  2019-10-01 00:00:00   \n",
       "event_type                            NaN                  NaN   \n",
       "product_id                            NaN                  NaN   \n",
       "category_id                           NaN                  NaN   \n",
       "category_code                         NaN                  NaN   \n",
       "brand                                 NaN                  NaN   \n",
       "price                          289.381401                  0.0   \n",
       "user_id                               NaN                  NaN   \n",
       "user_session                          NaN                  NaN   \n",
       "\n",
       "                                      25%                  50%  \\\n",
       "event_time     2019-10-01 02:28:14.750000  2019-10-01 02:37:18   \n",
       "event_type                            NaN                  NaN   \n",
       "product_id                            NaN                  NaN   \n",
       "category_id                           NaN                  NaN   \n",
       "category_code                         NaN                  NaN   \n",
       "brand                                 NaN                  NaN   \n",
       "price                               60.23               154.42   \n",
       "user_id                               NaN                  NaN   \n",
       "user_session                          NaN                  NaN   \n",
       "\n",
       "                               75%                  max        std  \n",
       "event_time     2019-10-01 02:46:00  2019-10-01 02:54:01        NaN  \n",
       "event_type                     NaN                  NaN        NaN  \n",
       "product_id                     NaN                  NaN        NaN  \n",
       "category_id                    NaN                  NaN        NaN  \n",
       "category_code                  NaN                  NaN        NaN  \n",
       "brand                          NaN                  NaN        NaN  \n",
       "price                       359.08              2574.07  368.18694  \n",
       "user_id                        NaN                  NaN        NaN  \n",
       "user_session                   NaN                  NaN        NaN  "
      ]
     },
     "execution_count": 19,
     "metadata": {},
     "output_type": "execute_result"
    }
   ],
   "source": [
    "all_events_df = pd.DataFrame(all_events.df())\n",
    "all_events_df.describe(include=\"all\").T"
   ]
  },
  {
   "cell_type": "markdown",
   "id": "ccb0d01a",
   "metadata": {},
   "source": [
    "## Normalisation et Préparation de la Data "
   ]
  },
  {
   "cell_type": "code",
   "execution_count": 20,
   "id": "b71d9582",
   "metadata": {},
   "outputs": [
    {
     "data": {
      "text/plain": [
       "Index(['event_time', 'event_type', 'product_id', 'category_id',\n",
       "       'category_code', 'brand', 'price', 'user_id', 'user_session'],\n",
       "      dtype='object')"
      ]
     },
     "execution_count": 20,
     "metadata": {},
     "output_type": "execute_result"
    }
   ],
   "source": [
    "all_events_df.columns"
   ]
  },
  {
   "cell_type": "code",
   "execution_count": 22,
   "id": "d6a6f694",
   "metadata": {},
   "outputs": [],
   "source": [
    "allevents_df_CF = all_events_df[[\"user_id\", \"product_id\", \"category_code\", \"category_id\"]]"
   ]
  },
  {
   "cell_type": "code",
   "execution_count": null,
   "id": "75907f30",
   "metadata": {},
   "outputs": [],
   "source": []
  },
  {
   "cell_type": "code",
   "execution_count": null,
   "id": "9962c28f",
   "metadata": {},
   "outputs": [],
   "source": [
    "con.close()"
   ]
  }
 ],
 "metadata": {
  "kernelspec": {
   "display_name": "base",
   "language": "python",
   "name": "python3"
  },
  "language_info": {
   "codemirror_mode": {
    "name": "ipython",
    "version": 3
   },
   "file_extension": ".py",
   "mimetype": "text/x-python",
   "name": "python",
   "nbconvert_exporter": "python",
   "pygments_lexer": "ipython3",
   "version": "3.12.2"
  }
 },
 "nbformat": 4,
 "nbformat_minor": 5
}
