{
 "cells": [
  {
   "cell_type": "code",
   "execution_count": 16,
   "id": "981b6bf2",
   "metadata": {},
   "outputs": [
    {
     "name": "stdout",
     "output_type": "stream",
     "text": [
      "Requirement already satisfied: duckdb in /home/c-enjalbert/miniconda3/lib/python3.12/site-packages (from -r requirements.txt (line 1)) (1.2.2)\n",
      "Requirement already satisfied: pandas in /home/c-enjalbert/miniconda3/lib/python3.12/site-packages (from -r requirements.txt (line 2)) (2.2.3)\n",
      "Requirement already satisfied: numpy in /home/c-enjalbert/miniconda3/lib/python3.12/site-packages (from -r requirements.txt (line 3)) (1.26.4)\n",
      "Requirement already satisfied: scikit-learn in /home/c-enjalbert/miniconda3/lib/python3.12/site-packages (from -r requirements.txt (line 4)) (1.6.1)\n",
      "Requirement already satisfied: matplotlib in /home/c-enjalbert/miniconda3/lib/python3.12/site-packages (from -r requirements.txt (line 5)) (3.10.0)\n",
      "Requirement already satisfied: tqdm in /home/c-enjalbert/miniconda3/lib/python3.12/site-packages (from -r requirements.txt (line 6)) (4.66.5)\n",
      "Requirement already satisfied: python-dateutil>=2.8.2 in /home/c-enjalbert/miniconda3/lib/python3.12/site-packages (from pandas->-r requirements.txt (line 2)) (2.9.0.post0)\n",
      "Requirement already satisfied: pytz>=2020.1 in /home/c-enjalbert/miniconda3/lib/python3.12/site-packages (from pandas->-r requirements.txt (line 2)) (2024.2)\n",
      "Requirement already satisfied: tzdata>=2022.7 in /home/c-enjalbert/miniconda3/lib/python3.12/site-packages (from pandas->-r requirements.txt (line 2)) (2024.2)\n",
      "Requirement already satisfied: scipy>=1.6.0 in /home/c-enjalbert/miniconda3/lib/python3.12/site-packages (from scikit-learn->-r requirements.txt (line 4)) (1.15.1)\n",
      "Requirement already satisfied: joblib>=1.2.0 in /home/c-enjalbert/miniconda3/lib/python3.12/site-packages (from scikit-learn->-r requirements.txt (line 4)) (1.4.2)\n",
      "Requirement already satisfied: threadpoolctl>=3.1.0 in /home/c-enjalbert/miniconda3/lib/python3.12/site-packages (from scikit-learn->-r requirements.txt (line 4)) (3.5.0)\n",
      "Requirement already satisfied: contourpy>=1.0.1 in /home/c-enjalbert/miniconda3/lib/python3.12/site-packages (from matplotlib->-r requirements.txt (line 5)) (1.3.1)\n",
      "Requirement already satisfied: cycler>=0.10 in /home/c-enjalbert/miniconda3/lib/python3.12/site-packages (from matplotlib->-r requirements.txt (line 5)) (0.12.1)\n",
      "Requirement already satisfied: fonttools>=4.22.0 in /home/c-enjalbert/miniconda3/lib/python3.12/site-packages (from matplotlib->-r requirements.txt (line 5)) (4.55.4)\n",
      "Requirement already satisfied: kiwisolver>=1.3.1 in /home/c-enjalbert/miniconda3/lib/python3.12/site-packages (from matplotlib->-r requirements.txt (line 5)) (1.4.8)\n",
      "Requirement already satisfied: packaging>=20.0 in /home/c-enjalbert/miniconda3/lib/python3.12/site-packages (from matplotlib->-r requirements.txt (line 5)) (24.1)\n",
      "Requirement already satisfied: pillow>=8 in /home/c-enjalbert/miniconda3/lib/python3.12/site-packages (from matplotlib->-r requirements.txt (line 5)) (11.1.0)\n",
      "Requirement already satisfied: pyparsing>=2.3.1 in /home/c-enjalbert/miniconda3/lib/python3.12/site-packages (from matplotlib->-r requirements.txt (line 5)) (3.2.1)\n",
      "Requirement already satisfied: six>=1.5 in /home/c-enjalbert/miniconda3/lib/python3.12/site-packages (from python-dateutil>=2.8.2->pandas->-r requirements.txt (line 2)) (1.17.0)\n"
     ]
    }
   ],
   "source": [
    "! pip install -r requirements.txt"
   ]
  },
  {
   "cell_type": "code",
   "execution_count": 17,
   "id": "39109f01",
   "metadata": {},
   "outputs": [],
   "source": [
    "import duckdb\n",
    "import os\n",
    "from pathlib import Path\n",
    "from typing import List"
   ]
  },
  {
   "cell_type": "code",
   "execution_count": 18,
   "id": "8de780c6",
   "metadata": {},
   "outputs": [],
   "source": [
    "#1. Configuration\n",
    "DB_NAME = \"amazing.duckdb\"\n",
    "data_folder = Path(\"./data\")\n",
    "\n",
    "con = duckdb.connect(DB_NAME)"
   ]
  },
  {
   "cell_type": "code",
   "execution_count": 19,
   "id": "9f32ec7d",
   "metadata": {},
   "outputs": [],
   "source": [
    "def get_file_paths() -> List[str]:\n",
    "    return sorted([str(p.resolve()) for p in data_folder.glob(\"*.csv\")])\n",
    "\n",
    "def load_new_files(con, file_paths: List[str]):\n",
    "    print(f\"Début du chargement de {len(file_paths)} fichier(s)...\\n\")\n",
    "    for i, path in enumerate(file_paths, 1):\n",
    "        filename = os.path.basename(path)\n",
    "\n",
    "        print(f\"[{i}/{len(file_paths)}] Vérification de {filename}...\")\n",
    "        already_loaded = con.execute(\n",
    "            \"SELECT 1 FROM loaded_files WHERE filename = ?\", [filename]\n",
    "        ).fetchone()\n",
    "\n",
    "        if already_loaded:\n",
    "            print(f\"{filename} déjà chargé. Ignoré.\\n\")\n",
    "            continue\n",
    "\n",
    "        print(f\"⬆Chargement de {filename} dans all_events...\")\n",
    "        con.execute(f\"\"\"\n",
    "            INSERT INTO all_events\n",
    "            SELECT * FROM read_csv_auto('{path}', AUTO_DETECT=TRUE, SAMPLE_SIZE=-1)\n",
    "        \"\"\")\n",
    "        con.execute(\"INSERT INTO loaded_files VALUES (?)\", [filename])\n",
    "        print(f\"{filename} ajouté avec succès à la base.\\n\")\n",
    "\n",
    "    print(\"Chargement terminé.\\n\")\n",
    "\n",
    "def init_loaded_table(con):\n",
    "    print(\"Initialisation de la table 'loaded_files'...\")\n",
    "    con.execute(\"\"\"\n",
    "        CREATE TABLE IF NOT EXISTS loaded_files (\n",
    "            filename TEXT PRIMARY KEY\n",
    "        );\n",
    "    \"\"\")\n",
    "    print(\"Table 'loaded_files' prête.\\n\")\n",
    "\n",
    "def create_all_events_table(con):\n",
    "    con.execute(\"\"\"\n",
    "        CREATE TABLE IF NOT EXISTS all_events (\n",
    "            event_time TIMESTAMP,\n",
    "            event_type TEXT,\n",
    "            product_id TEXT,\n",
    "            category_id TEXT,\n",
    "            category_code TEXT,\n",
    "            brand TEXT,\n",
    "            price DOUBLE,\n",
    "            user_id TEXT,\n",
    "            user_session TEXT\n",
    "        );\n",
    "    \"\"\")\n"
   ]
  },
  {
   "cell_type": "code",
   "execution_count": 20,
   "id": "17ddc59f",
   "metadata": {},
   "outputs": [
    {
     "name": "stdout",
     "output_type": "stream",
     "text": [
      "Initialisation de la table 'loaded_files'...\n",
      "Table 'loaded_files' prête.\n",
      "\n",
      "Début du chargement de 1 fichier(s)...\n",
      "\n",
      "[1/1] Vérification de 2019-Oct.csv...\n",
      "⬆Chargement de 2019-Oct.csv dans all_events...\n",
      "2019-Oct.csv ajouté avec succès à la base.\n",
      "\n",
      "Chargement terminé.\n",
      "\n"
     ]
    }
   ],
   "source": [
    "\n",
    "# Initialisation des tables\n",
    "init_loaded_table(con)\n",
    "create_all_events_table(con)\n",
    "\n",
    "# Chargement des fichiers\n",
    "files = get_file_paths()\n",
    "load_new_files(con, files)\n",
    "\n",
    "# Test génération de la table events_tables\n",
    "create_all_events_table(con)\n"
   ]
  },
  {
   "cell_type": "code",
   "execution_count": 21,
   "id": "16b72860",
   "metadata": {},
   "outputs": [
    {
     "name": "stdout",
     "output_type": "stream",
     "text": [
      "Taille de la table all_events : 42448764 logs\n",
      "           event_time event_type product_id          category_id  \\\n",
      "0 2019-10-02 09:37:59       view    1801761  2053013554415534427   \n",
      "1 2019-10-02 09:38:24       view    1801881  2053013554415534427   \n",
      "2 2019-10-02 09:39:09       view    1801881  2053013554415534427   \n",
      "3 2019-10-02 09:40:12       view    1801881  2053013554415534427   \n",
      "4 2019-10-02 09:42:53       view    1004659  2053013555631882655   \n",
      "5 2019-10-02 09:46:19       view   26400629  2053013563651392361   \n",
      "6 2019-10-02 09:53:27       view   12600013  2053013554751078769   \n",
      "7 2019-10-02 09:54:17   purchase   12600013  2053013554751078769   \n",
      "8 2019-10-02 09:54:45       view   12600013  2053013554751078769   \n",
      "\n",
      "              category_code    brand    price    user_id  \\\n",
      "0      electronics.video.tv    artel  1714.07  535135317   \n",
      "1      electronics.video.tv  samsung   506.27  535135317   \n",
      "2      electronics.video.tv  samsung   506.27  535135317   \n",
      "3      electronics.video.tv  samsung   506.27  535135317   \n",
      "4    electronics.smartphone  samsung   769.34  535135317   \n",
      "5                      None     None   305.80  535135317   \n",
      "6  appliances.kitchen.grill    tefal   108.09  535135317   \n",
      "7  appliances.kitchen.grill    tefal   108.09  535135317   \n",
      "8  appliances.kitchen.grill    tefal   108.09  535135317   \n",
      "\n",
      "                           user_session  \n",
      "0  79117856-3924-466c-af22-c94ea944a3ab  \n",
      "1  79117856-3924-466c-af22-c94ea944a3ab  \n",
      "2  79117856-3924-466c-af22-c94ea944a3ab  \n",
      "3  79117856-3924-466c-af22-c94ea944a3ab  \n",
      "4  79117856-3924-466c-af22-c94ea944a3ab  \n",
      "5  79117856-3924-466c-af22-c94ea944a3ab  \n",
      "6  79117856-3924-466c-af22-c94ea944a3ab  \n",
      "7  79117856-3924-466c-af22-c94ea944a3ab  \n",
      "8  79117856-3924-466c-af22-c94ea944a3ab  \n"
     ]
    }
   ],
   "source": [
    "nb_users = con.execute(\"SELECT COUNT(*) FROM all_events\").fetchone()[0]\n",
    "\n",
    "print(f\"Taille de la table all_events : {nb_users} logs\")\n",
    "\n",
    "df_purchase = con.execute(\"SELECT * FROM all_events WHERE user_id = '535135317' LIMIT 10\").fetch_df()\n",
    "print(df_purchase)\n"
   ]
  },
  {
   "cell_type": "code",
   "execution_count": 22,
   "id": "91b3f88b",
   "metadata": {},
   "outputs": [],
   "source": [
    "# Fermeture de la connexion DuckDB\n",
    "con.close()"
   ]
  }
 ],
 "metadata": {
  "kernelspec": {
   "display_name": "base",
   "language": "python",
   "name": "python3"
  },
  "language_info": {
   "codemirror_mode": {
    "name": "ipython",
    "version": 3
   },
   "file_extension": ".py",
   "mimetype": "text/x-python",
   "name": "python",
   "nbconvert_exporter": "python",
   "pygments_lexer": "ipython3",
   "version": "3.12.8"
  }
 },
 "nbformat": 4,
 "nbformat_minor": 5
}
