{
 "cells": [
  {
   "cell_type": "code",
   "execution_count": null,
   "id": "981b6bf2",
   "metadata": {},
   "outputs": [],
   "source": [
    "! pip install -r requirements.txt"
   ]
  },
  {
   "cell_type": "code",
   "execution_count": null,
   "id": "39109f01",
   "metadata": {},
   "outputs": [],
   "source": [
    "import duckdb\n",
    "import os\n",
    "from pathlib import Path\n",
    "from typing import List"
   ]
  },
  {
   "cell_type": "code",
   "execution_count": null,
   "id": "8de780c6",
   "metadata": {},
   "outputs": [],
   "source": [
    "#1. Configuration\n",
    "DB_NAME = \"amazing.duckdb\"\n",
    "data_folder = Path(\"./data\")\n",
    "\n",
    "con = duckdb.connect(DB_NAME)"
   ]
  },
  {
   "cell_type": "code",
   "execution_count": null,
   "id": "9f32ec7d",
   "metadata": {},
   "outputs": [],
   "source": [
    "def get_file_paths() -> List[str]:\n",
    "    return sorted([str(p.resolve()) for p in data_folder.glob(\"*.csv\")])\n",
    "\n",
    "def load_new_files(con, file_paths: List[str]):\n",
    "    print(f\"Début du chargement de {len(file_paths)} fichier(s)...\\n\")\n",
    "    for i, path in enumerate(file_paths, 1):\n",
    "        filename = os.path.basename(path)\n",
    "\n",
    "        print(f\"[{i}/{len(file_paths)}] Vérification de {filename}...\")\n",
    "        already_loaded = con.execute(\n",
    "            \"SELECT 1 FROM loaded_files WHERE filename = ?\", [filename]\n",
    "        ).fetchone()\n",
    "\n",
    "        if already_loaded:\n",
    "            print(f\"{filename} déjà chargé. Ignoré.\\n\")\n",
    "            continue\n",
    "\n",
    "        print(f\"⬆Chargement de {filename} dans all_events...\")\n",
    "        con.execute(f\"\"\"\n",
    "            INSERT INTO all_events\n",
    "            SELECT * FROM read_csv_auto('{path}', AUTO_DETECT=TRUE, SAMPLE_SIZE=-1)\n",
    "        \"\"\")\n",
    "        con.execute(\"INSERT INTO loaded_files VALUES (?)\", [filename])\n",
    "        print(f\"{filename} ajouté avec succès à la base.\\n\")\n",
    "\n",
    "    print(\"Chargement terminé.\\n\")\n",
    "\n",
    "def init_loaded_table(con):\n",
    "    print(\"Initialisation de la table 'loaded_files'...\")\n",
    "    con.execute(\"\"\"\n",
    "        CREATE TABLE IF NOT EXISTS loaded_files (\n",
    "            filename TEXT PRIMARY KEY\n",
    "        );\n",
    "    \"\"\")\n",
    "    print(\"Table 'loaded_files' prête.\\n\")\n",
    "\n",
    "def create_all_events_table(con):\n",
    "    con.execute(\"\"\"\n",
    "        CREATE TABLE IF NOT EXISTS all_events (\n",
    "            event_time TIMESTAMP,\n",
    "            event_type TEXT,\n",
    "            product_id TEXT,\n",
    "            category_id TEXT,\n",
    "            category_code TEXT,\n",
    "            brand TEXT,\n",
    "            price DOUBLE,\n",
    "            user_id TEXT,\n",
    "            user_session TEXT\n",
    "        );\n",
    "    \"\"\")\n"
   ]
  },
  {
   "cell_type": "code",
   "execution_count": null,
   "id": "17ddc59f",
   "metadata": {},
   "outputs": [],
   "source": [
    "\n",
    "# Initialisation des tables\n",
    "init_loaded_table(con)\n",
    "create_all_events_table(con)\n",
    "\n",
    "# Chargement des fichiers\n",
    "files = get_file_paths()\n",
    "load_new_files(con, files)\n",
    "\n",
    "# Test génération de la table events_tables\n",
    "create_all_events_table(con)\n"
   ]
  },
  {
   "cell_type": "code",
   "execution_count": null,
   "id": "16b72860",
   "metadata": {},
   "outputs": [],
   "source": [
    "nb_users = con.execute(\"SELECT COUNT(*) FROM all_events\").fetchone()[0]\n",
    "\n",
    "print(f\"Taille de la table all_events : {nb_users} logs\")\n",
    "\n",
    "df_purchase = con.execute(\"SELECT * FROM all_events WHERE user_id = '535135317' LIMIT 10\").fetch_df()\n",
    "print(df_purchase)\n"
   ]
  },
  {
   "cell_type": "code",
   "execution_count": 11,
   "id": "91b3f88b",
   "metadata": {},
   "outputs": [],
   "source": [
    "# Fermeture de la connexion DuckDB\n",
    "con.close()"
   ]
  }
 ],
 "metadata": {
  "kernelspec": {
   "display_name": "Python 3",
   "language": "python",
   "name": "python3"
  },
  "language_info": {
   "codemirror_mode": {
    "name": "ipython",
    "version": 3
   },
   "file_extension": ".py",
   "mimetype": "text/x-python",
   "name": "python",
   "nbconvert_exporter": "python",
   "pygments_lexer": "ipython3",
   "version": "3.13.3"
  }
 },
 "nbformat": 4,
 "nbformat_minor": 5
}
