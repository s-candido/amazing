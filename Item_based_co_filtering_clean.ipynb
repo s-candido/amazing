{
 "cells": [
  {
   "cell_type": "markdown",
   "id": "5e16a509",
   "metadata": {},
   "source": [
    "# Item-Based Collaborative Filtering for Product Recommendations\n",
    "\n",
    "This notebook implements an item-based collaborative filtering recommendation system using product category data from user interactions. We'll use the K-Nearest Neighbors algorithm to find similar users and recommend products."
   ]
  },
  {
   "cell_type": "markdown",
   "id": "09a274a1",
   "metadata": {},
   "source": [
    "## Import Required Libraries"
   ]
  },
  {
   "cell_type": "code",
   "execution_count": 25,
   "id": "67745b3b",
   "metadata": {},
   "outputs": [],
   "source": [
    "# Data manipulation and analysis\n",
    "import numpy as np\n",
    "import pandas as pd\n",
    "\n",
    "# Visualization\n",
    "import matplotlib.pyplot as plt\n",
    "import seaborn as sns\n",
    "import plotly.express as px\n",
    "\n",
    "# Machine learning\n",
    "from scipy.sparse import csr_matrix\n",
    "from sklearn.neighbors import NearestNeighbors\n",
    "\n",
    "# Database and file operations\n",
    "import duckdb\n",
    "import os\n",
    "from pathlib import Path\n",
    "from typing import List\n",
    "from pprint import pprint"
   ]
  },
  {
   "cell_type": "markdown",
   "id": "00bf56d5",
   "metadata": {},
   "source": [
    "## Data Loading and Connection Setup\n",
    "\n",
    "Connect to the DuckDB database and load the event data."
   ]
  },
  {
   "cell_type": "code",
   "execution_count": 26,
   "id": "07bf6edf",
   "metadata": {},
   "outputs": [
    {
     "name": "stdout",
     "output_type": "stream",
     "text": [
      "Connected to database at: /home/c-enjalbert/Documents/EPSI/MSPR/bloc_2/amazing/amazing.duckdb\n"
     ]
    }
   ],
   "source": [
    "# Define database path\n",
    "DB_NAME = Path(\"/home/c-enjalbert/Documents/EPSI/MSPR/bloc_2/amazing/amazing.duckdb\")\n",
    "\n",
    "# Define data folder path\n",
    "data_folder = Path(\"../..\").resolve() / \"data\"\n",
    "\n",
    "# Connect to the database\n",
    "con = duckdb.connect(str(DB_NAME))\n",
    "\n",
    "# Check if the connection was successful\n",
    "print(f\"Connected to database at: {DB_NAME}\")"
   ]
  },
  {
   "cell_type": "code",
   "execution_count": 27,
   "id": "93cdfc4e",
   "metadata": {},
   "outputs": [
    {
     "name": "stdout",
     "output_type": "stream",
     "text": [
      "Found 2 tables in the database:\n",
      "\n",
      "1. all_events\n",
      "2. loaded_files\n"
     ]
    }
   ],
   "source": [
    "# List all tables in the database\n",
    "tables_info = con.sql(\"\"\"\n",
    "    SELECT table_name\n",
    "    FROM information_schema.tables\n",
    "    WHERE table_schema = 'main'\n",
    "    ORDER BY table_name\n",
    "\"\"\").df()\n",
    "\n",
    "print(f\"Found {len(tables_info)} tables in the database:\\n\")\n",
    "\n",
    "if len(tables_info) > 0:\n",
    "    for i, table_name in enumerate(tables_info['table_name']):\n",
    "        print(f\"{i+1}. {table_name}\")\n",
    "else:\n",
    "    print(\"No tables found in the database.\")"
   ]
  },
  {
   "cell_type": "markdown",
   "id": "bfdb24e5",
   "metadata": {},
   "source": [
    "## Load User Events Data\n",
    "\n",
    "We'll load the events data from the database into a DataFrame for analysis."
   ]
  },
  {
   "cell_type": "code",
   "execution_count": 28,
   "id": "8a2640a3",
   "metadata": {},
   "outputs": [
    {
     "name": "stdout",
     "output_type": "stream",
     "text": [
      "Loading event data...\n",
      "           event_time event_type product_id          category_id  \\\n",
      "0 2019-10-01 00:00:00       view   44600062  2103807459595387724   \n",
      "1 2019-10-01 00:00:00       view    3900821  2053013552326770905   \n",
      "2 2019-10-01 00:00:01       view   17200506  2053013559792632471   \n",
      "3 2019-10-01 00:00:01       view    1307067  2053013558920217191   \n",
      "4 2019-10-01 00:00:04       view    1004237  2053013555631882655   \n",
      "5 2019-10-01 00:00:05       view    1480613  2053013561092866779   \n",
      "6 2019-10-01 00:00:08       view   17300353  2053013553853497655   \n",
      "7 2019-10-01 00:00:08       view   31500053  2053013558031024687   \n",
      "8 2019-10-01 00:00:10       view   28719074  2053013565480109009   \n",
      "9 2019-10-01 00:00:11       view    1004545  2053013555631882655   \n",
      "\n",
      "                         category_code     brand    price    user_id  \\\n",
      "0                                 None  shiseido    35.79  541312140   \n",
      "1  appliances.environment.water_heater      aqua    33.20  554748717   \n",
      "2           furniture.living_room.sofa      None   543.10  519107250   \n",
      "3                   computers.notebook    lenovo   251.74  550050854   \n",
      "4               electronics.smartphone     apple  1081.98  535871217   \n",
      "5                    computers.desktop    pulser   908.62  512742880   \n",
      "6                                 None     creed   380.96  555447699   \n",
      "7                                 None  luminarc    41.16  550978835   \n",
      "8                   apparel.shoes.keds     baden   102.71  520571932   \n",
      "9               electronics.smartphone    huawei   566.01  537918940   \n",
      "\n",
      "                           user_session  \n",
      "0  72d76fde-8bb3-4e00-8c23-a032dfed738c  \n",
      "1  9333dfbd-b87a-4708-9857-6336556b0fcc  \n",
      "2  566511c2-e2e3-422b-b695-cf8e6e792ca8  \n",
      "3  7c90fc70-0e80-4590-96f3-13c02c18c713  \n",
      "4  c6bd7419-2748-4c56-95b4-8cec9ff8b80d  \n",
      "5  0d0d91c2-c9c2-4e81-90a5-86594dec0db9  \n",
      "6  4fe811e9-91de-46da-90c3-bbd87ed3a65d  \n",
      "7  6280d577-25c8-4147-99a7-abc6048498d6  \n",
      "8  ac1cd4e5-a3ce-4224-a2d7-ff660a105880  \n",
      "9  406c46ed-90a4-4787-a43b-59a410c1a5fb  \n"
     ]
    }
   ],
   "source": [
    "# Load events data (limit to 20,000 rows for better performance)\n",
    "print(\"Loading event data...\")\n",
    "all_events = con.sql(\"\"\"\n",
    "    SELECT *\n",
    "    FROM all_events\n",
    "    LIMIT 20000\n",
    "\"\"\")\n",
    "\n",
    "# Display sample of the data\n",
    "print(all_events.limit(10).df())"
   ]
  },
  {
   "cell_type": "code",
   "execution_count": 29,
   "id": "02cd3036",
   "metadata": {},
   "outputs": [
    {
     "data": {
      "text/html": [
       "<div>\n",
       "<style scoped>\n",
       "    .dataframe tbody tr th:only-of-type {\n",
       "        vertical-align: middle;\n",
       "    }\n",
       "\n",
       "    .dataframe tbody tr th {\n",
       "        vertical-align: top;\n",
       "    }\n",
       "\n",
       "    .dataframe thead th {\n",
       "        text-align: right;\n",
       "    }\n",
       "</style>\n",
       "<table border=\"1\" class=\"dataframe\">\n",
       "  <thead>\n",
       "    <tr style=\"text-align: right;\">\n",
       "      <th></th>\n",
       "      <th>count</th>\n",
       "      <th>unique</th>\n",
       "      <th>top</th>\n",
       "      <th>freq</th>\n",
       "      <th>mean</th>\n",
       "      <th>min</th>\n",
       "      <th>25%</th>\n",
       "      <th>50%</th>\n",
       "      <th>75%</th>\n",
       "      <th>max</th>\n",
       "      <th>std</th>\n",
       "    </tr>\n",
       "  </thead>\n",
       "  <tbody>\n",
       "    <tr>\n",
       "      <th>event_time</th>\n",
       "      <td>20000</td>\n",
       "      <td>NaN</td>\n",
       "      <td>NaN</td>\n",
       "      <td>NaN</td>\n",
       "      <td>2019-10-01 02:29:27.043549</td>\n",
       "      <td>2019-10-01 00:00:00</td>\n",
       "      <td>2019-10-01 02:28:14.750000</td>\n",
       "      <td>2019-10-01 02:37:18</td>\n",
       "      <td>2019-10-01 02:46:00</td>\n",
       "      <td>2019-10-01 02:54:01</td>\n",
       "      <td>NaN</td>\n",
       "    </tr>\n",
       "    <tr>\n",
       "      <th>event_type</th>\n",
       "      <td>20000</td>\n",
       "      <td>3</td>\n",
       "      <td>view</td>\n",
       "      <td>19548</td>\n",
       "      <td>NaN</td>\n",
       "      <td>NaN</td>\n",
       "      <td>NaN</td>\n",
       "      <td>NaN</td>\n",
       "      <td>NaN</td>\n",
       "      <td>NaN</td>\n",
       "      <td>NaN</td>\n",
       "    </tr>\n",
       "    <tr>\n",
       "      <th>product_id</th>\n",
       "      <td>20000</td>\n",
       "      <td>7178</td>\n",
       "      <td>1004856</td>\n",
       "      <td>234</td>\n",
       "      <td>NaN</td>\n",
       "      <td>NaN</td>\n",
       "      <td>NaN</td>\n",
       "      <td>NaN</td>\n",
       "      <td>NaN</td>\n",
       "      <td>NaN</td>\n",
       "      <td>NaN</td>\n",
       "    </tr>\n",
       "    <tr>\n",
       "      <th>category_id</th>\n",
       "      <td>20000</td>\n",
       "      <td>443</td>\n",
       "      <td>2053013555631882655</td>\n",
       "      <td>5387</td>\n",
       "      <td>NaN</td>\n",
       "      <td>NaN</td>\n",
       "      <td>NaN</td>\n",
       "      <td>NaN</td>\n",
       "      <td>NaN</td>\n",
       "      <td>NaN</td>\n",
       "      <td>NaN</td>\n",
       "    </tr>\n",
       "    <tr>\n",
       "      <th>category_code</th>\n",
       "      <td>13412</td>\n",
       "      <td>115</td>\n",
       "      <td>electronics.smartphone</td>\n",
       "      <td>5387</td>\n",
       "      <td>NaN</td>\n",
       "      <td>NaN</td>\n",
       "      <td>NaN</td>\n",
       "      <td>NaN</td>\n",
       "      <td>NaN</td>\n",
       "      <td>NaN</td>\n",
       "      <td>NaN</td>\n",
       "    </tr>\n",
       "    <tr>\n",
       "      <th>brand</th>\n",
       "      <td>17185</td>\n",
       "      <td>922</td>\n",
       "      <td>samsung</td>\n",
       "      <td>2330</td>\n",
       "      <td>NaN</td>\n",
       "      <td>NaN</td>\n",
       "      <td>NaN</td>\n",
       "      <td>NaN</td>\n",
       "      <td>NaN</td>\n",
       "      <td>NaN</td>\n",
       "      <td>NaN</td>\n",
       "    </tr>\n",
       "    <tr>\n",
       "      <th>price</th>\n",
       "      <td>20000.0</td>\n",
       "      <td>NaN</td>\n",
       "      <td>NaN</td>\n",
       "      <td>NaN</td>\n",
       "      <td>289.381401</td>\n",
       "      <td>0.0</td>\n",
       "      <td>60.23</td>\n",
       "      <td>154.42</td>\n",
       "      <td>359.08</td>\n",
       "      <td>2574.07</td>\n",
       "      <td>368.18694</td>\n",
       "    </tr>\n",
       "    <tr>\n",
       "      <th>user_id</th>\n",
       "      <td>20000</td>\n",
       "      <td>5012</td>\n",
       "      <td>531063605</td>\n",
       "      <td>57</td>\n",
       "      <td>NaN</td>\n",
       "      <td>NaN</td>\n",
       "      <td>NaN</td>\n",
       "      <td>NaN</td>\n",
       "      <td>NaN</td>\n",
       "      <td>NaN</td>\n",
       "      <td>NaN</td>\n",
       "    </tr>\n",
       "    <tr>\n",
       "      <th>user_session</th>\n",
       "      <td>20000</td>\n",
       "      <td>5669</td>\n",
       "      <td>f85114d0-6167-4c8b-88f8-0cd1cfc2c10c</td>\n",
       "      <td>55</td>\n",
       "      <td>NaN</td>\n",
       "      <td>NaN</td>\n",
       "      <td>NaN</td>\n",
       "      <td>NaN</td>\n",
       "      <td>NaN</td>\n",
       "      <td>NaN</td>\n",
       "      <td>NaN</td>\n",
       "    </tr>\n",
       "  </tbody>\n",
       "</table>\n",
       "</div>"
      ],
      "text/plain": [
       "                 count unique                                   top   freq  \\\n",
       "event_time       20000    NaN                                   NaN    NaN   \n",
       "event_type       20000      3                                  view  19548   \n",
       "product_id       20000   7178                               1004856    234   \n",
       "category_id      20000    443                   2053013555631882655   5387   \n",
       "category_code    13412    115                electronics.smartphone   5387   \n",
       "brand            17185    922                               samsung   2330   \n",
       "price          20000.0    NaN                                   NaN    NaN   \n",
       "user_id          20000   5012                             531063605     57   \n",
       "user_session     20000   5669  f85114d0-6167-4c8b-88f8-0cd1cfc2c10c     55   \n",
       "\n",
       "                                     mean                  min  \\\n",
       "event_time     2019-10-01 02:29:27.043549  2019-10-01 00:00:00   \n",
       "event_type                            NaN                  NaN   \n",
       "product_id                            NaN                  NaN   \n",
       "category_id                           NaN                  NaN   \n",
       "category_code                         NaN                  NaN   \n",
       "brand                                 NaN                  NaN   \n",
       "price                          289.381401                  0.0   \n",
       "user_id                               NaN                  NaN   \n",
       "user_session                          NaN                  NaN   \n",
       "\n",
       "                                      25%                  50%  \\\n",
       "event_time     2019-10-01 02:28:14.750000  2019-10-01 02:37:18   \n",
       "event_type                            NaN                  NaN   \n",
       "product_id                            NaN                  NaN   \n",
       "category_id                           NaN                  NaN   \n",
       "category_code                         NaN                  NaN   \n",
       "brand                                 NaN                  NaN   \n",
       "price                               60.23               154.42   \n",
       "user_id                               NaN                  NaN   \n",
       "user_session                          NaN                  NaN   \n",
       "\n",
       "                               75%                  max        std  \n",
       "event_time     2019-10-01 02:46:00  2019-10-01 02:54:01        NaN  \n",
       "event_type                     NaN                  NaN        NaN  \n",
       "product_id                     NaN                  NaN        NaN  \n",
       "category_id                    NaN                  NaN        NaN  \n",
       "category_code                  NaN                  NaN        NaN  \n",
       "brand                          NaN                  NaN        NaN  \n",
       "price                       359.08              2574.07  368.18694  \n",
       "user_id                        NaN                  NaN        NaN  \n",
       "user_session                   NaN                  NaN        NaN  "
      ]
     },
     "execution_count": 29,
     "metadata": {},
     "output_type": "execute_result"
    }
   ],
   "source": [
    "# Convert query result to DataFrame for easier manipulation\n",
    "all_events_df = pd.DataFrame(all_events.df())\n",
    "\n",
    "# Show summary statistics\n",
    "all_events_df.describe(include=\"all\").T"
   ]
  },
  {
   "cell_type": "markdown",
   "id": "5ac72360",
   "metadata": {},
   "source": [
    "## Data Preprocessing and Cleaning\n",
    "\n",
    "We'll prepare the data for collaborative filtering by:\n",
    "1. Selecting relevant columns\n",
    "2. Cleaning missing values\n",
    "3. Converting event types to binary values (purchase = 1, view/cart = 0)"
   ]
  },
  {
   "cell_type": "code",
   "execution_count": 30,
   "id": "31cca40a",
   "metadata": {},
   "outputs": [
    {
     "name": "stdout",
     "output_type": "stream",
     "text": [
      "Shape of filtered dataset: (20000, 5)\n"
     ]
    }
   ],
   "source": [
    "# Select only the columns we need for collaborative filtering\n",
    "allevents_df_CF = all_events_df[[\"user_id\", \"product_id\", \"category_code\", \"category_id\", \"event_type\"]]\n",
    "\n",
    "# Check shape of our filtered dataset\n",
    "print(f\"Shape of filtered dataset: {allevents_df_CF.shape}\")"
   ]
  },
  {
   "cell_type": "code",
   "execution_count": 31,
   "id": "05bb1b1d",
   "metadata": {},
   "outputs": [
    {
     "name": "stdout",
     "output_type": "stream",
     "text": [
      "Missing values in product_id: 0\n",
      "Missing values in category_id: 0\n",
      "Missing values in category_code: 6588\n",
      "Missing values in user_id: 0\n",
      "Missing values in event_type: 0\n",
      "\n",
      "After dropping rows with missing category_code: (13412, 5)\n"
     ]
    },
    {
     "name": "stderr",
     "output_type": "stream",
     "text": [
      "/tmp/ipykernel_96826/2886208691.py:9: SettingWithCopyWarning:\n",
      "\n",
      "\n",
      "A value is trying to be set on a copy of a slice from a DataFrame\n",
      "\n",
      "See the caveats in the documentation: https://pandas.pydata.org/pandas-docs/stable/user_guide/indexing.html#returning-a-view-versus-a-copy\n",
      "\n"
     ]
    }
   ],
   "source": [
    "# Check for missing values in important columns\n",
    "print(f\"Missing values in product_id: {allevents_df_CF['product_id'].isna().sum()}\")\n",
    "print(f\"Missing values in category_id: {allevents_df_CF['category_id'].isna().sum()}\")\n",
    "print(f\"Missing values in category_code: {allevents_df_CF['category_code'].isna().sum()}\")\n",
    "print(f\"Missing values in user_id: {allevents_df_CF['user_id'].isna().sum()}\")\n",
    "print(f\"Missing values in event_type: {allevents_df_CF['event_type'].isna().sum()}\")\n",
    "\n",
    "# Remove rows with missing category_code (since we'll use this for recommendations)\n",
    "allevents_df_CF.dropna(subset=[\"category_code\"], inplace=True)\n",
    "print(f\"\\nAfter dropping rows with missing category_code: {allevents_df_CF.shape}\")"
   ]
  },
  {
   "cell_type": "code",
   "execution_count": 32,
   "id": "e4186129",
   "metadata": {},
   "outputs": [
    {
     "name": "stdout",
     "output_type": "stream",
     "text": [
      "Distribution of event types after mapping:\n",
      "event_type\n",
      "0    19742\n",
      "1      258\n",
      "Name: count, dtype: int64\n"
     ]
    }
   ],
   "source": [
    "# Map event types to binary values (0 for view/cart, 1 for purchase)\n",
    "# This helps us focus on items that users actually purchased\n",
    "all_events_df[\"event_type\"] = all_events_df[\"event_type\"].map({\"view\": 0, \"cart\": 0, \"purchase\": 1})\n",
    "\n",
    "# Check the distribution of event types after mapping\n",
    "print(\"Distribution of event types after mapping:\")\n",
    "print(all_events_df[\"event_type\"].value_counts())"
   ]
  },
  {
   "cell_type": "markdown",
   "id": "8ca12f65",
   "metadata": {},
   "source": [
    "## Category Analysis\n",
    "\n",
    "Let's analyze which categories are most popular in terms of purchases."
   ]
  },
  {
   "cell_type": "code",
   "execution_count": 33,
   "id": "e9cd3b70",
   "metadata": {},
   "outputs": [
    {
     "name": "stdout",
     "output_type": "stream",
     "text": [
      "Top categories by number of purchases:\n",
      "                       category_code  event_type\n",
      "86            electronics.smartphone         123\n",
      "79       electronics.audio.headphone          12\n",
      "85                electronics.clocks           7\n",
      "41  appliances.kitchen.refrigerators           6\n",
      "24     appliances.environment.vacuum           5\n",
      "44         appliances.kitchen.washer           4\n",
      "64                computers.notebook           4\n",
      "90              electronics.video.tv           4\n",
      "88             electronics.telephone           4\n",
      "0                    accessories.bag           3\n"
     ]
    },
    {
     "data": {
      "application/vnd.plotly.v1+json": {
       "config": {
        "plotlyServerURL": "https://plot.ly"
       },
       "data": [
        {
         "alignmentgroup": "True",
         "hovertemplate": "Number of Purchases=%{x}<br>Category=%{y}<extra></extra>",
         "legendgroup": "",
         "marker": {
          "color": "#636efa",
          "pattern": {
           "shape": ""
          }
         },
         "name": "",
         "offsetgroup": "",
         "orientation": "h",
         "showlegend": false,
         "textposition": "auto",
         "type": "bar",
         "x": [
          123,
          12,
          7,
          6,
          5,
          4,
          4,
          4,
          4,
          3,
          3,
          2,
          2,
          1,
          1,
          1,
          1,
          1,
          1,
          1
         ],
         "xaxis": "x",
         "y": [
          "electronics.smartphone",
          "electronics.audio.headphone",
          "electronics.clocks",
          "appliances.kitchen.refrigerators",
          "appliances.environment.vacuum",
          "appliances.kitchen.washer",
          "computers.notebook",
          "electronics.video.tv",
          "electronics.telephone",
          "accessories.bag",
          "appliances.kitchen.blender",
          "apparel.shoes",
          "furniture.kitchen.table",
          "electronics.tablet",
          "appliances.kitchen.meat_grinder",
          "kids.fmcg.diapers",
          "appliances.kitchen.toster",
          "furniture.living_room.cabinet",
          "appliances.personal.hair_cutter",
          "appliances.personal.scales"
         ],
         "yaxis": "y"
        }
       ],
       "layout": {
        "barmode": "relative",
        "height": 600,
        "legend": {
         "tracegroupgap": 0
        },
        "template": {
         "data": {
          "bar": [
           {
            "error_x": {
             "color": "#2a3f5f"
            },
            "error_y": {
             "color": "#2a3f5f"
            },
            "marker": {
             "line": {
              "color": "#E5ECF6",
              "width": 0.5
             },
             "pattern": {
              "fillmode": "overlay",
              "size": 10,
              "solidity": 0.2
             }
            },
            "type": "bar"
           }
          ],
          "barpolar": [
           {
            "marker": {
             "line": {
              "color": "#E5ECF6",
              "width": 0.5
             },
             "pattern": {
              "fillmode": "overlay",
              "size": 10,
              "solidity": 0.2
             }
            },
            "type": "barpolar"
           }
          ],
          "carpet": [
           {
            "aaxis": {
             "endlinecolor": "#2a3f5f",
             "gridcolor": "white",
             "linecolor": "white",
             "minorgridcolor": "white",
             "startlinecolor": "#2a3f5f"
            },
            "baxis": {
             "endlinecolor": "#2a3f5f",
             "gridcolor": "white",
             "linecolor": "white",
             "minorgridcolor": "white",
             "startlinecolor": "#2a3f5f"
            },
            "type": "carpet"
           }
          ],
          "choropleth": [
           {
            "colorbar": {
             "outlinewidth": 0,
             "ticks": ""
            },
            "type": "choropleth"
           }
          ],
          "contour": [
           {
            "colorbar": {
             "outlinewidth": 0,
             "ticks": ""
            },
            "colorscale": [
             [
              0,
              "#0d0887"
             ],
             [
              0.1111111111111111,
              "#46039f"
             ],
             [
              0.2222222222222222,
              "#7201a8"
             ],
             [
              0.3333333333333333,
              "#9c179e"
             ],
             [
              0.4444444444444444,
              "#bd3786"
             ],
             [
              0.5555555555555556,
              "#d8576b"
             ],
             [
              0.6666666666666666,
              "#ed7953"
             ],
             [
              0.7777777777777778,
              "#fb9f3a"
             ],
             [
              0.8888888888888888,
              "#fdca26"
             ],
             [
              1,
              "#f0f921"
             ]
            ],
            "type": "contour"
           }
          ],
          "contourcarpet": [
           {
            "colorbar": {
             "outlinewidth": 0,
             "ticks": ""
            },
            "type": "contourcarpet"
           }
          ],
          "heatmap": [
           {
            "colorbar": {
             "outlinewidth": 0,
             "ticks": ""
            },
            "colorscale": [
             [
              0,
              "#0d0887"
             ],
             [
              0.1111111111111111,
              "#46039f"
             ],
             [
              0.2222222222222222,
              "#7201a8"
             ],
             [
              0.3333333333333333,
              "#9c179e"
             ],
             [
              0.4444444444444444,
              "#bd3786"
             ],
             [
              0.5555555555555556,
              "#d8576b"
             ],
             [
              0.6666666666666666,
              "#ed7953"
             ],
             [
              0.7777777777777778,
              "#fb9f3a"
             ],
             [
              0.8888888888888888,
              "#fdca26"
             ],
             [
              1,
              "#f0f921"
             ]
            ],
            "type": "heatmap"
           }
          ],
          "heatmapgl": [
           {
            "colorbar": {
             "outlinewidth": 0,
             "ticks": ""
            },
            "colorscale": [
             [
              0,
              "#0d0887"
             ],
             [
              0.1111111111111111,
              "#46039f"
             ],
             [
              0.2222222222222222,
              "#7201a8"
             ],
             [
              0.3333333333333333,
              "#9c179e"
             ],
             [
              0.4444444444444444,
              "#bd3786"
             ],
             [
              0.5555555555555556,
              "#d8576b"
             ],
             [
              0.6666666666666666,
              "#ed7953"
             ],
             [
              0.7777777777777778,
              "#fb9f3a"
             ],
             [
              0.8888888888888888,
              "#fdca26"
             ],
             [
              1,
              "#f0f921"
             ]
            ],
            "type": "heatmapgl"
           }
          ],
          "histogram": [
           {
            "marker": {
             "pattern": {
              "fillmode": "overlay",
              "size": 10,
              "solidity": 0.2
             }
            },
            "type": "histogram"
           }
          ],
          "histogram2d": [
           {
            "colorbar": {
             "outlinewidth": 0,
             "ticks": ""
            },
            "colorscale": [
             [
              0,
              "#0d0887"
             ],
             [
              0.1111111111111111,
              "#46039f"
             ],
             [
              0.2222222222222222,
              "#7201a8"
             ],
             [
              0.3333333333333333,
              "#9c179e"
             ],
             [
              0.4444444444444444,
              "#bd3786"
             ],
             [
              0.5555555555555556,
              "#d8576b"
             ],
             [
              0.6666666666666666,
              "#ed7953"
             ],
             [
              0.7777777777777778,
              "#fb9f3a"
             ],
             [
              0.8888888888888888,
              "#fdca26"
             ],
             [
              1,
              "#f0f921"
             ]
            ],
            "type": "histogram2d"
           }
          ],
          "histogram2dcontour": [
           {
            "colorbar": {
             "outlinewidth": 0,
             "ticks": ""
            },
            "colorscale": [
             [
              0,
              "#0d0887"
             ],
             [
              0.1111111111111111,
              "#46039f"
             ],
             [
              0.2222222222222222,
              "#7201a8"
             ],
             [
              0.3333333333333333,
              "#9c179e"
             ],
             [
              0.4444444444444444,
              "#bd3786"
             ],
             [
              0.5555555555555556,
              "#d8576b"
             ],
             [
              0.6666666666666666,
              "#ed7953"
             ],
             [
              0.7777777777777778,
              "#fb9f3a"
             ],
             [
              0.8888888888888888,
              "#fdca26"
             ],
             [
              1,
              "#f0f921"
             ]
            ],
            "type": "histogram2dcontour"
           }
          ],
          "mesh3d": [
           {
            "colorbar": {
             "outlinewidth": 0,
             "ticks": ""
            },
            "type": "mesh3d"
           }
          ],
          "parcoords": [
           {
            "line": {
             "colorbar": {
              "outlinewidth": 0,
              "ticks": ""
             }
            },
            "type": "parcoords"
           }
          ],
          "pie": [
           {
            "automargin": true,
            "type": "pie"
           }
          ],
          "scatter": [
           {
            "fillpattern": {
             "fillmode": "overlay",
             "size": 10,
             "solidity": 0.2
            },
            "type": "scatter"
           }
          ],
          "scatter3d": [
           {
            "line": {
             "colorbar": {
              "outlinewidth": 0,
              "ticks": ""
             }
            },
            "marker": {
             "colorbar": {
              "outlinewidth": 0,
              "ticks": ""
             }
            },
            "type": "scatter3d"
           }
          ],
          "scattercarpet": [
           {
            "marker": {
             "colorbar": {
              "outlinewidth": 0,
              "ticks": ""
             }
            },
            "type": "scattercarpet"
           }
          ],
          "scattergeo": [
           {
            "marker": {
             "colorbar": {
              "outlinewidth": 0,
              "ticks": ""
             }
            },
            "type": "scattergeo"
           }
          ],
          "scattergl": [
           {
            "marker": {
             "colorbar": {
              "outlinewidth": 0,
              "ticks": ""
             }
            },
            "type": "scattergl"
           }
          ],
          "scattermapbox": [
           {
            "marker": {
             "colorbar": {
              "outlinewidth": 0,
              "ticks": ""
             }
            },
            "type": "scattermapbox"
           }
          ],
          "scatterpolar": [
           {
            "marker": {
             "colorbar": {
              "outlinewidth": 0,
              "ticks": ""
             }
            },
            "type": "scatterpolar"
           }
          ],
          "scatterpolargl": [
           {
            "marker": {
             "colorbar": {
              "outlinewidth": 0,
              "ticks": ""
             }
            },
            "type": "scatterpolargl"
           }
          ],
          "scatterternary": [
           {
            "marker": {
             "colorbar": {
              "outlinewidth": 0,
              "ticks": ""
             }
            },
            "type": "scatterternary"
           }
          ],
          "surface": [
           {
            "colorbar": {
             "outlinewidth": 0,
             "ticks": ""
            },
            "colorscale": [
             [
              0,
              "#0d0887"
             ],
             [
              0.1111111111111111,
              "#46039f"
             ],
             [
              0.2222222222222222,
              "#7201a8"
             ],
             [
              0.3333333333333333,
              "#9c179e"
             ],
             [
              0.4444444444444444,
              "#bd3786"
             ],
             [
              0.5555555555555556,
              "#d8576b"
             ],
             [
              0.6666666666666666,
              "#ed7953"
             ],
             [
              0.7777777777777778,
              "#fb9f3a"
             ],
             [
              0.8888888888888888,
              "#fdca26"
             ],
             [
              1,
              "#f0f921"
             ]
            ],
            "type": "surface"
           }
          ],
          "table": [
           {
            "cells": {
             "fill": {
              "color": "#EBF0F8"
             },
             "line": {
              "color": "white"
             }
            },
            "header": {
             "fill": {
              "color": "#C8D4E3"
             },
             "line": {
              "color": "white"
             }
            },
            "type": "table"
           }
          ]
         },
         "layout": {
          "annotationdefaults": {
           "arrowcolor": "#2a3f5f",
           "arrowhead": 0,
           "arrowwidth": 1
          },
          "autotypenumbers": "strict",
          "coloraxis": {
           "colorbar": {
            "outlinewidth": 0,
            "ticks": ""
           }
          },
          "colorscale": {
           "diverging": [
            [
             0,
             "#8e0152"
            ],
            [
             0.1,
             "#c51b7d"
            ],
            [
             0.2,
             "#de77ae"
            ],
            [
             0.3,
             "#f1b6da"
            ],
            [
             0.4,
             "#fde0ef"
            ],
            [
             0.5,
             "#f7f7f7"
            ],
            [
             0.6,
             "#e6f5d0"
            ],
            [
             0.7,
             "#b8e186"
            ],
            [
             0.8,
             "#7fbc41"
            ],
            [
             0.9,
             "#4d9221"
            ],
            [
             1,
             "#276419"
            ]
           ],
           "sequential": [
            [
             0,
             "#0d0887"
            ],
            [
             0.1111111111111111,
             "#46039f"
            ],
            [
             0.2222222222222222,
             "#7201a8"
            ],
            [
             0.3333333333333333,
             "#9c179e"
            ],
            [
             0.4444444444444444,
             "#bd3786"
            ],
            [
             0.5555555555555556,
             "#d8576b"
            ],
            [
             0.6666666666666666,
             "#ed7953"
            ],
            [
             0.7777777777777778,
             "#fb9f3a"
            ],
            [
             0.8888888888888888,
             "#fdca26"
            ],
            [
             1,
             "#f0f921"
            ]
           ],
           "sequentialminus": [
            [
             0,
             "#0d0887"
            ],
            [
             0.1111111111111111,
             "#46039f"
            ],
            [
             0.2222222222222222,
             "#7201a8"
            ],
            [
             0.3333333333333333,
             "#9c179e"
            ],
            [
             0.4444444444444444,
             "#bd3786"
            ],
            [
             0.5555555555555556,
             "#d8576b"
            ],
            [
             0.6666666666666666,
             "#ed7953"
            ],
            [
             0.7777777777777778,
             "#fb9f3a"
            ],
            [
             0.8888888888888888,
             "#fdca26"
            ],
            [
             1,
             "#f0f921"
            ]
           ]
          },
          "colorway": [
           "#636efa",
           "#EF553B",
           "#00cc96",
           "#ab63fa",
           "#FFA15A",
           "#19d3f3",
           "#FF6692",
           "#B6E880",
           "#FF97FF",
           "#FECB52"
          ],
          "font": {
           "color": "#2a3f5f"
          },
          "geo": {
           "bgcolor": "white",
           "lakecolor": "white",
           "landcolor": "#E5ECF6",
           "showlakes": true,
           "showland": true,
           "subunitcolor": "white"
          },
          "hoverlabel": {
           "align": "left"
          },
          "hovermode": "closest",
          "mapbox": {
           "style": "light"
          },
          "paper_bgcolor": "white",
          "plot_bgcolor": "#E5ECF6",
          "polar": {
           "angularaxis": {
            "gridcolor": "white",
            "linecolor": "white",
            "ticks": ""
           },
           "bgcolor": "#E5ECF6",
           "radialaxis": {
            "gridcolor": "white",
            "linecolor": "white",
            "ticks": ""
           }
          },
          "scene": {
           "xaxis": {
            "backgroundcolor": "#E5ECF6",
            "gridcolor": "white",
            "gridwidth": 2,
            "linecolor": "white",
            "showbackground": true,
            "ticks": "",
            "zerolinecolor": "white"
           },
           "yaxis": {
            "backgroundcolor": "#E5ECF6",
            "gridcolor": "white",
            "gridwidth": 2,
            "linecolor": "white",
            "showbackground": true,
            "ticks": "",
            "zerolinecolor": "white"
           },
           "zaxis": {
            "backgroundcolor": "#E5ECF6",
            "gridcolor": "white",
            "gridwidth": 2,
            "linecolor": "white",
            "showbackground": true,
            "ticks": "",
            "zerolinecolor": "white"
           }
          },
          "shapedefaults": {
           "line": {
            "color": "#2a3f5f"
           }
          },
          "ternary": {
           "aaxis": {
            "gridcolor": "white",
            "linecolor": "white",
            "ticks": ""
           },
           "baxis": {
            "gridcolor": "white",
            "linecolor": "white",
            "ticks": ""
           },
           "bgcolor": "#E5ECF6",
           "caxis": {
            "gridcolor": "white",
            "linecolor": "white",
            "ticks": ""
           }
          },
          "title": {
           "x": 0.05
          },
          "xaxis": {
           "automargin": true,
           "gridcolor": "white",
           "linecolor": "white",
           "ticks": "",
           "title": {
            "standoff": 15
           },
           "zerolinecolor": "white",
           "zerolinewidth": 2
          },
          "yaxis": {
           "automargin": true,
           "gridcolor": "white",
           "linecolor": "white",
           "ticks": "",
           "title": {
            "standoff": 15
           },
           "zerolinecolor": "white",
           "zerolinewidth": 2
          }
         }
        },
        "title": {
         "text": "Number of Purchases by Category"
        },
        "width": 1000,
        "xaxis": {
         "anchor": "y",
         "domain": [
          0,
          1
         ],
         "title": {
          "text": "Number of Purchases"
         }
        },
        "yaxis": {
         "anchor": "x",
         "categoryorder": "total ascending",
         "domain": [
          0,
          1
         ],
         "title": {
          "text": "Category"
         }
        }
       }
      }
     },
     "metadata": {},
     "output_type": "display_data"
    }
   ],
   "source": [
    "# Calculate sum of event_type (purchases) per category_code\n",
    "category_purchase_counts = all_events_df.groupby('category_code')['event_type'].sum().reset_index()\n",
    "category_purchase_counts = category_purchase_counts.sort_values('event_type', ascending=False)\n",
    "\n",
    "# Display the top categories by purchase count\n",
    "print(\"Top categories by number of purchases:\")\n",
    "print(category_purchase_counts.head(10))\n",
    "\n",
    "# Create an interactive bar chart with Plotly showing top 20 categories\n",
    "fig = px.bar(\n",
    "    category_purchase_counts.head(20), \n",
    "    x='event_type', \n",
    "    y='category_code',\n",
    "    title='Number of Purchases by Category',\n",
    "    labels={'event_type': 'Number of Purchases', 'category_code': 'Category'},\n",
    "    width=1000,\n",
    "    height=600\n",
    ")\n",
    "fig.update_layout(yaxis={'categoryorder': 'total ascending'})\n",
    "fig.show()"
   ]
  },
  {
   "cell_type": "markdown",
   "id": "1eb727a8",
   "metadata": {},
   "source": [
    "## Preparing User-Item Matrix for Collaborative Filtering\n",
    "\n",
    "We'll create a user-item matrix where rows represent users and columns represent product categories. The values in the matrix represent the user's preference for that category (1 for purchased, 0 for not purchased)."
   ]
  },
  {
   "cell_type": "code",
   "execution_count": 34,
   "id": "ff5d2155",
   "metadata": {},
   "outputs": [
    {
     "data": {
      "text/html": [
       "<div>\n",
       "<style scoped>\n",
       "    .dataframe tbody tr th:only-of-type {\n",
       "        vertical-align: middle;\n",
       "    }\n",
       "\n",
       "    .dataframe tbody tr th {\n",
       "        vertical-align: top;\n",
       "    }\n",
       "\n",
       "    .dataframe thead th {\n",
       "        text-align: right;\n",
       "    }\n",
       "</style>\n",
       "<table border=\"1\" class=\"dataframe\">\n",
       "  <thead>\n",
       "    <tr style=\"text-align: right;\">\n",
       "      <th></th>\n",
       "      <th>user_id</th>\n",
       "      <th>category_code</th>\n",
       "      <th>event_type</th>\n",
       "    </tr>\n",
       "  </thead>\n",
       "  <tbody>\n",
       "    <tr>\n",
       "      <th>0</th>\n",
       "      <td>306441847</td>\n",
       "      <td>appliances.kitchen.oven</td>\n",
       "      <td>0.0</td>\n",
       "    </tr>\n",
       "    <tr>\n",
       "      <th>1</th>\n",
       "      <td>434894256</td>\n",
       "      <td>computers.notebook</td>\n",
       "      <td>0.0</td>\n",
       "    </tr>\n",
       "    <tr>\n",
       "      <th>2</th>\n",
       "      <td>442188017</td>\n",
       "      <td>computers.peripherals.monitor</td>\n",
       "      <td>0.0</td>\n",
       "    </tr>\n",
       "    <tr>\n",
       "      <th>3</th>\n",
       "      <td>443779465</td>\n",
       "      <td>electronics.clocks</td>\n",
       "      <td>0.0</td>\n",
       "    </tr>\n",
       "    <tr>\n",
       "      <th>4</th>\n",
       "      <td>444990139</td>\n",
       "      <td>electronics.smartphone</td>\n",
       "      <td>0.0</td>\n",
       "    </tr>\n",
       "  </tbody>\n",
       "</table>\n",
       "</div>"
      ],
      "text/plain": [
       "     user_id                  category_code  event_type\n",
       "0  306441847        appliances.kitchen.oven         0.0\n",
       "1  434894256             computers.notebook         0.0\n",
       "2  442188017  computers.peripherals.monitor         0.0\n",
       "3  443779465             electronics.clocks         0.0\n",
       "4  444990139         electronics.smartphone         0.0"
      ]
     },
     "execution_count": 34,
     "metadata": {},
     "output_type": "execute_result"
    }
   ],
   "source": [
    "# Create a dataframe with user-category interactions\n",
    "# For each user-category combination, calculate the mean of event_type\n",
    "# This gives us a value between 0 and 1 representing the user's preference for that category\n",
    "cf_dataset = all_events_df.copy().groupby(by=['user_id','category_code'], as_index=False).agg({\"event_type\":\"mean\"})\n",
    "\n",
    "# Display the first few rows of the dataset\n",
    "cf_dataset.head()"
   ]
  },
  {
   "cell_type": "code",
   "execution_count": 35,
   "id": "077d0075",
   "metadata": {},
   "outputs": [
    {
     "name": "stdout",
     "output_type": "stream",
     "text": [
      "Number of unique users in the dataset: 3591\n",
      "Number of unique categories in the dataset: 115\n",
      "Total user-category interactions: 4150\n"
     ]
    }
   ],
   "source": [
    "# Get statistics about our dataset\n",
    "num_users = len(cf_dataset['user_id'].unique())\n",
    "num_items = len(cf_dataset['category_code'].unique())\n",
    "print('Number of unique users in the dataset: {}'.format(num_users))\n",
    "print('Number of unique categories in the dataset: {}'.format(num_items))\n",
    "print('Total user-category interactions: {}'.format(len(cf_dataset)))"
   ]
  },
  {
   "cell_type": "code",
   "execution_count": 36,
   "id": "3188ad37",
   "metadata": {},
   "outputs": [
    {
     "name": "stdout",
     "output_type": "stream",
     "text": [
      "Shape of user-item matrix: (3591, 115)\n"
     ]
    },
    {
     "data": {
      "text/html": [
       "<div>\n",
       "<style scoped>\n",
       "    .dataframe tbody tr th:only-of-type {\n",
       "        vertical-align: middle;\n",
       "    }\n",
       "\n",
       "    .dataframe tbody tr th {\n",
       "        vertical-align: top;\n",
       "    }\n",
       "\n",
       "    .dataframe thead th {\n",
       "        text-align: right;\n",
       "    }\n",
       "</style>\n",
       "<table border=\"1\" class=\"dataframe\">\n",
       "  <thead>\n",
       "    <tr style=\"text-align: right;\">\n",
       "      <th>category_code</th>\n",
       "      <th>accessories.bag</th>\n",
       "      <th>accessories.umbrella</th>\n",
       "      <th>accessories.wallet</th>\n",
       "      <th>apparel.costume</th>\n",
       "      <th>apparel.dress</th>\n",
       "      <th>apparel.jacket</th>\n",
       "      <th>apparel.jeans</th>\n",
       "      <th>apparel.scarf</th>\n",
       "      <th>apparel.shirt</th>\n",
       "      <th>apparel.shoes</th>\n",
       "      <th>...</th>\n",
       "      <th>kids.skates</th>\n",
       "      <th>kids.swing</th>\n",
       "      <th>kids.toys</th>\n",
       "      <th>medicine.tools.tonometer</th>\n",
       "      <th>sport.bicycle</th>\n",
       "      <th>sport.ski</th>\n",
       "      <th>sport.snowboard</th>\n",
       "      <th>sport.tennis</th>\n",
       "      <th>sport.trainer</th>\n",
       "      <th>stationery.cartrige</th>\n",
       "    </tr>\n",
       "    <tr>\n",
       "      <th>user_id</th>\n",
       "      <th></th>\n",
       "      <th></th>\n",
       "      <th></th>\n",
       "      <th></th>\n",
       "      <th></th>\n",
       "      <th></th>\n",
       "      <th></th>\n",
       "      <th></th>\n",
       "      <th></th>\n",
       "      <th></th>\n",
       "      <th></th>\n",
       "      <th></th>\n",
       "      <th></th>\n",
       "      <th></th>\n",
       "      <th></th>\n",
       "      <th></th>\n",
       "      <th></th>\n",
       "      <th></th>\n",
       "      <th></th>\n",
       "      <th></th>\n",
       "      <th></th>\n",
       "    </tr>\n",
       "  </thead>\n",
       "  <tbody>\n",
       "    <tr>\n",
       "      <th>306441847</th>\n",
       "      <td>0.0</td>\n",
       "      <td>0.0</td>\n",
       "      <td>0.0</td>\n",
       "      <td>0.0</td>\n",
       "      <td>0.0</td>\n",
       "      <td>0.0</td>\n",
       "      <td>0.0</td>\n",
       "      <td>0.0</td>\n",
       "      <td>0.0</td>\n",
       "      <td>0.0</td>\n",
       "      <td>...</td>\n",
       "      <td>0.0</td>\n",
       "      <td>0.0</td>\n",
       "      <td>0.0</td>\n",
       "      <td>0.0</td>\n",
       "      <td>0.0</td>\n",
       "      <td>0.0</td>\n",
       "      <td>0.0</td>\n",
       "      <td>0.0</td>\n",
       "      <td>0.0</td>\n",
       "      <td>0.0</td>\n",
       "    </tr>\n",
       "    <tr>\n",
       "      <th>434894256</th>\n",
       "      <td>0.0</td>\n",
       "      <td>0.0</td>\n",
       "      <td>0.0</td>\n",
       "      <td>0.0</td>\n",
       "      <td>0.0</td>\n",
       "      <td>0.0</td>\n",
       "      <td>0.0</td>\n",
       "      <td>0.0</td>\n",
       "      <td>0.0</td>\n",
       "      <td>0.0</td>\n",
       "      <td>...</td>\n",
       "      <td>0.0</td>\n",
       "      <td>0.0</td>\n",
       "      <td>0.0</td>\n",
       "      <td>0.0</td>\n",
       "      <td>0.0</td>\n",
       "      <td>0.0</td>\n",
       "      <td>0.0</td>\n",
       "      <td>0.0</td>\n",
       "      <td>0.0</td>\n",
       "      <td>0.0</td>\n",
       "    </tr>\n",
       "    <tr>\n",
       "      <th>442188017</th>\n",
       "      <td>0.0</td>\n",
       "      <td>0.0</td>\n",
       "      <td>0.0</td>\n",
       "      <td>0.0</td>\n",
       "      <td>0.0</td>\n",
       "      <td>0.0</td>\n",
       "      <td>0.0</td>\n",
       "      <td>0.0</td>\n",
       "      <td>0.0</td>\n",
       "      <td>0.0</td>\n",
       "      <td>...</td>\n",
       "      <td>0.0</td>\n",
       "      <td>0.0</td>\n",
       "      <td>0.0</td>\n",
       "      <td>0.0</td>\n",
       "      <td>0.0</td>\n",
       "      <td>0.0</td>\n",
       "      <td>0.0</td>\n",
       "      <td>0.0</td>\n",
       "      <td>0.0</td>\n",
       "      <td>0.0</td>\n",
       "    </tr>\n",
       "    <tr>\n",
       "      <th>443779465</th>\n",
       "      <td>0.0</td>\n",
       "      <td>0.0</td>\n",
       "      <td>0.0</td>\n",
       "      <td>0.0</td>\n",
       "      <td>0.0</td>\n",
       "      <td>0.0</td>\n",
       "      <td>0.0</td>\n",
       "      <td>0.0</td>\n",
       "      <td>0.0</td>\n",
       "      <td>0.0</td>\n",
       "      <td>...</td>\n",
       "      <td>0.0</td>\n",
       "      <td>0.0</td>\n",
       "      <td>0.0</td>\n",
       "      <td>0.0</td>\n",
       "      <td>0.0</td>\n",
       "      <td>0.0</td>\n",
       "      <td>0.0</td>\n",
       "      <td>0.0</td>\n",
       "      <td>0.0</td>\n",
       "      <td>0.0</td>\n",
       "    </tr>\n",
       "    <tr>\n",
       "      <th>444990139</th>\n",
       "      <td>0.0</td>\n",
       "      <td>0.0</td>\n",
       "      <td>0.0</td>\n",
       "      <td>0.0</td>\n",
       "      <td>0.0</td>\n",
       "      <td>0.0</td>\n",
       "      <td>0.0</td>\n",
       "      <td>0.0</td>\n",
       "      <td>0.0</td>\n",
       "      <td>0.0</td>\n",
       "      <td>...</td>\n",
       "      <td>0.0</td>\n",
       "      <td>0.0</td>\n",
       "      <td>0.0</td>\n",
       "      <td>0.0</td>\n",
       "      <td>0.0</td>\n",
       "      <td>0.0</td>\n",
       "      <td>0.0</td>\n",
       "      <td>0.0</td>\n",
       "      <td>0.0</td>\n",
       "      <td>0.0</td>\n",
       "    </tr>\n",
       "  </tbody>\n",
       "</table>\n",
       "<p>5 rows × 115 columns</p>\n",
       "</div>"
      ],
      "text/plain": [
       "category_code  accessories.bag  accessories.umbrella  accessories.wallet  \\\n",
       "user_id                                                                    \n",
       "306441847                  0.0                   0.0                 0.0   \n",
       "434894256                  0.0                   0.0                 0.0   \n",
       "442188017                  0.0                   0.0                 0.0   \n",
       "443779465                  0.0                   0.0                 0.0   \n",
       "444990139                  0.0                   0.0                 0.0   \n",
       "\n",
       "category_code  apparel.costume  apparel.dress  apparel.jacket  apparel.jeans  \\\n",
       "user_id                                                                        \n",
       "306441847                  0.0            0.0             0.0            0.0   \n",
       "434894256                  0.0            0.0             0.0            0.0   \n",
       "442188017                  0.0            0.0             0.0            0.0   \n",
       "443779465                  0.0            0.0             0.0            0.0   \n",
       "444990139                  0.0            0.0             0.0            0.0   \n",
       "\n",
       "category_code  apparel.scarf  apparel.shirt  apparel.shoes  ...  kids.skates  \\\n",
       "user_id                                                     ...                \n",
       "306441847                0.0            0.0            0.0  ...          0.0   \n",
       "434894256                0.0            0.0            0.0  ...          0.0   \n",
       "442188017                0.0            0.0            0.0  ...          0.0   \n",
       "443779465                0.0            0.0            0.0  ...          0.0   \n",
       "444990139                0.0            0.0            0.0  ...          0.0   \n",
       "\n",
       "category_code  kids.swing  kids.toys  medicine.tools.tonometer  sport.bicycle  \\\n",
       "user_id                                                                         \n",
       "306441847             0.0        0.0                       0.0            0.0   \n",
       "434894256             0.0        0.0                       0.0            0.0   \n",
       "442188017             0.0        0.0                       0.0            0.0   \n",
       "443779465             0.0        0.0                       0.0            0.0   \n",
       "444990139             0.0        0.0                       0.0            0.0   \n",
       "\n",
       "category_code  sport.ski  sport.snowboard  sport.tennis  sport.trainer  \\\n",
       "user_id                                                                  \n",
       "306441847            0.0              0.0           0.0            0.0   \n",
       "434894256            0.0              0.0           0.0            0.0   \n",
       "442188017            0.0              0.0           0.0            0.0   \n",
       "443779465            0.0              0.0           0.0            0.0   \n",
       "444990139            0.0              0.0           0.0            0.0   \n",
       "\n",
       "category_code  stationery.cartrige  \n",
       "user_id                             \n",
       "306441847                      0.0  \n",
       "434894256                      0.0  \n",
       "442188017                      0.0  \n",
       "443779465                      0.0  \n",
       "444990139                      0.0  \n",
       "\n",
       "[5 rows x 115 columns]"
      ]
     },
     "execution_count": 36,
     "metadata": {},
     "output_type": "execute_result"
    }
   ],
   "source": [
    "# Create a pivot table: users as rows, categories as columns\n",
    "# Values are the event_type (0 for view/cart, 1 for purchase)\n",
    "user_to_product_df = cf_dataset.pivot(\n",
    "    index='user_id',\n",
    "    columns='category_code',\n",
    "    values='event_type'\n",
    ").fillna(0)  # Fill missing values with 0 (no interaction)\n",
    "\n",
    "# Display the first few rows of the pivot table\n",
    "print(f\"Shape of user-item matrix: {user_to_product_df.shape}\")\n",
    "user_to_product_df.head()"
   ]
  },
  {
   "cell_type": "markdown",
   "id": "f06a4074",
   "metadata": {},
   "source": [
    "## Creating User ID Mappings\n",
    "\n",
    "We'll create mappings between the original user IDs and their position in the matrix (index) to make lookup easier."
   ]
  },
  {
   "cell_type": "code",
   "execution_count": 37,
   "id": "00ce2b4d",
   "metadata": {},
   "outputs": [
    {
     "data": {
      "text/html": [
       "<div>\n",
       "<style scoped>\n",
       "    .dataframe tbody tr th:only-of-type {\n",
       "        vertical-align: middle;\n",
       "    }\n",
       "\n",
       "    .dataframe tbody tr th {\n",
       "        vertical-align: top;\n",
       "    }\n",
       "\n",
       "    .dataframe thead th {\n",
       "        text-align: right;\n",
       "    }\n",
       "</style>\n",
       "<table border=\"1\" class=\"dataframe\">\n",
       "  <thead>\n",
       "    <tr style=\"text-align: right;\">\n",
       "      <th></th>\n",
       "      <th>position_index</th>\n",
       "      <th>user_id</th>\n",
       "    </tr>\n",
       "  </thead>\n",
       "  <tbody>\n",
       "    <tr>\n",
       "      <th>0</th>\n",
       "      <td>0</td>\n",
       "      <td>306441847</td>\n",
       "    </tr>\n",
       "    <tr>\n",
       "      <th>1</th>\n",
       "      <td>1</td>\n",
       "      <td>434894256</td>\n",
       "    </tr>\n",
       "    <tr>\n",
       "      <th>2</th>\n",
       "      <td>2</td>\n",
       "      <td>442188017</td>\n",
       "    </tr>\n",
       "    <tr>\n",
       "      <th>3</th>\n",
       "      <td>3</td>\n",
       "      <td>443779465</td>\n",
       "    </tr>\n",
       "    <tr>\n",
       "      <th>4</th>\n",
       "      <td>4</td>\n",
       "      <td>444990139</td>\n",
       "    </tr>\n",
       "  </tbody>\n",
       "</table>\n",
       "</div>"
      ],
      "text/plain": [
       "   position_index    user_id\n",
       "0               0  306441847\n",
       "1               1  434894256\n",
       "2               2  442188017\n",
       "3               3  443779465\n",
       "4               4  444990139"
      ]
     },
     "execution_count": 37,
     "metadata": {},
     "output_type": "execute_result"
    }
   ],
   "source": [
    "# Create mapping dictionaries between position index and original user_id\n",
    "user_index_to_id_map = {}\n",
    "user_id_to_index_map = {}\n",
    "\n",
    "# Populate the mapping dictionaries\n",
    "for i, user_id in enumerate(user_to_product_df.index):\n",
    "    user_index_to_id_map[i] = user_id  # Maps position to actual user_id\n",
    "    user_id_to_index_map[user_id] = i  # Maps user_id to position\n",
    "    \n",
    "# Create a DataFrame to store these mappings for easy reference\n",
    "user_mapping_df = pd.DataFrame({\n",
    "    'position_index': range(len(user_to_product_df)),\n",
    "    'user_id': user_to_product_df.index\n",
    "})\n",
    "\n",
    "# Display the first few rows of the mapping DataFrame\n",
    "user_mapping_df.head()"
   ]
  },
  {
   "cell_type": "code",
   "execution_count": 38,
   "id": "caafe8d7",
   "metadata": {},
   "outputs": [
    {
     "data": {
      "text/plain": [
       "array([[0, '306441847'],\n",
       "       [1, '434894256'],\n",
       "       [2, '442188017'],\n",
       "       ...,\n",
       "       [3588, '555467172'],\n",
       "       [3589, '555467188'],\n",
       "       [3590, '555467192']], dtype=object)"
      ]
     },
     "execution_count": 38,
     "metadata": {},
     "output_type": "execute_result"
    }
   ],
   "source": [
    "user_mapping_df.values"
   ]
  },
  {
   "cell_type": "code",
   "execution_count": 39,
   "id": "6afd22d8",
   "metadata": {},
   "outputs": [
    {
     "data": {
      "text/html": [
       "<div>\n",
       "<style scoped>\n",
       "    .dataframe tbody tr th:only-of-type {\n",
       "        vertical-align: middle;\n",
       "    }\n",
       "\n",
       "    .dataframe tbody tr th {\n",
       "        vertical-align: top;\n",
       "    }\n",
       "\n",
       "    .dataframe thead th {\n",
       "        text-align: right;\n",
       "    }\n",
       "</style>\n",
       "<table border=\"1\" class=\"dataframe\">\n",
       "  <thead>\n",
       "    <tr style=\"text-align: right;\">\n",
       "      <th></th>\n",
       "      <th>position_index</th>\n",
       "      <th>user_id</th>\n",
       "    </tr>\n",
       "  </thead>\n",
       "  <tbody>\n",
       "    <tr>\n",
       "      <th>34</th>\n",
       "      <td>34</td>\n",
       "      <td>512384348</td>\n",
       "    </tr>\n",
       "  </tbody>\n",
       "</table>\n",
       "</div>"
      ],
      "text/plain": [
       "    position_index    user_id\n",
       "34              34  512384348"
      ]
     },
     "execution_count": 39,
     "metadata": {},
     "output_type": "execute_result"
    }
   ],
   "source": [
    "user_mapping_df.loc[user_mapping_df['user_id'] == '512384348']"
   ]
  },
  {
   "cell_type": "code",
   "execution_count": null,
   "id": "fc8c6701",
   "metadata": {},
   "outputs": [],
   "source": []
  },
  {
   "cell_type": "markdown",
   "id": "49ee97ca",
   "metadata": {},
   "source": [
    "## Creating Sparse Matrix for KNN Model\n",
    "\n",
    "We'll convert our user-item matrix to a sparse matrix for efficient processing by the KNN algorithm."
   ]
  },
  {
   "cell_type": "code",
   "execution_count": 40,
   "id": "2cb91273",
   "metadata": {},
   "outputs": [
    {
     "name": "stdout",
     "output_type": "stream",
     "text": [
      "Shape of sparse matrix: (3591, 115)\n",
      "Number of non-zero entries: 180\n",
      "Sparsity: 0.0004\n"
     ]
    }
   ],
   "source": [
    "# Transform matrix to scipy sparse matrix for efficiency\n",
    "user_to_product_sparse_df = csr_matrix(user_to_product_df.values)\n",
    "\n",
    "# Get information about the sparse matrix\n",
    "print(f\"Shape of sparse matrix: {user_to_product_sparse_df.shape}\")\n",
    "print(f\"Number of non-zero entries: {user_to_product_sparse_df.nnz}\")\n",
    "print(f\"Sparsity: {user_to_product_sparse_df.nnz / (user_to_product_sparse_df.shape[0] * user_to_product_sparse_df.shape[1]):.4f}\")"
   ]
  },
  {
   "cell_type": "markdown",
   "id": "04491293",
   "metadata": {},
   "source": [
    "## Building the K-Nearest Neighbors Model\n",
    "\n",
    "We'll use the KNN algorithm with cosine similarity to find users with similar preferences."
   ]
  },
  {
   "cell_type": "code",
   "execution_count": 41,
   "id": "7da40c7a",
   "metadata": {},
   "outputs": [
    {
     "name": "stdout",
     "output_type": "stream",
     "text": [
      "KNN model successfully trained!\n"
     ]
    }
   ],
   "source": [
    "# Initialize KNN model with cosine similarity metric\n",
    "knn_model = NearestNeighbors(metric='cosine', algorithm='brute')\n",
    "\n",
    "# Fit the model to our sparse matrix\n",
    "knn_model.fit(user_to_product_sparse_df)\n",
    "print(\"KNN model successfully trained!\")"
   ]
  },
  {
   "cell_type": "markdown",
   "id": "238686c9",
   "metadata": {},
   "source": [
    "## Finding Similar Users\n",
    "\n",
    "Now let's create a function to find users with similar preferences to a given user."
   ]
  },
  {
   "cell_type": "code",
   "execution_count": 42,
   "id": "67bd57a8",
   "metadata": {},
   "outputs": [],
   "source": [
    "def get_similar_users(user_index,real_user_id, n=5):\n",
    "    \"\"\"\n",
    "    Find the top n users similar to the given user.\n",
    "    \n",
    "    Parameters:\n",
    "    user_index: Position index of the user in the user_to_product_df (not the actual user ID)\n",
    "    n: Number of similar users to return\n",
    "    \n",
    "    Returns:\n",
    "    indices: Indices of similar users\n",
    "    distances: Cosine distances to the similar users\n",
    "    \"\"\"\n",
    "    # Get the user's preferences as a vector\n",
    "    knn_input = np.asarray([user_to_product_df.values[user_index]])\n",
    "    \n",
    "    # Find k nearest neighbors (add 1 because the user themselves will be included)\n",
    "    distances, indices = knn_model.kneighbors(knn_input, n_neighbors=n+1)\n",
    "\n",
    "    # Print results\n",
    "    print(f\"Top {n} users who are similar to User {user_index} (Real ID: {real_user_id}):\")\n",
    "    print(\"\")\n",
    "    for i in range(1, len(distances[0])):\n",
    "        similar_user_index = indices[0][i]\n",
    "        print(\"similar_user_index\", similar_user_index)\n",
    "        similar_user_id = user_mapping_df.iloc[similar_user_index]['user_id']\n",
    "        print(f\"{i}. User Index: {similar_user_index}, Real ID: {similar_user_id}, Distance: {distances[0][i]:.4f}\")\n",
    "    \n",
    "    # Return indices and distances (excluding the user themselves)\n",
    "    return indices.flatten()[1:], distances.flatten()[1:]"
   ]
  },
  {
   "cell_type": "markdown",
   "id": "cd10c632",
   "metadata": {},
   "source": [
    "## Category Recommendation Function\n",
    "\n",
    "Now let's create a function to recommend categories based on similar users' preferences."
   ]
  },
  {
   "cell_type": "code",
   "execution_count": 43,
   "id": "d72c4cea",
   "metadata": {},
   "outputs": [],
   "source": [
    "def recommend_categories(user_index, n=10, only_new=True):\n",
    "    \"\"\"\n",
    "    Recommend categories to a user based on similar users' preferences.\n",
    "    \n",
    "    Parameters:\n",
    "    user_index: Position index of the user in the user_to_product_df (not the actual user ID)\n",
    "    n: Maximum number of recommendations to return\n",
    "    only_new: If True, only recommend categories the user hasn't interacted with\n",
    "    \n",
    "    Returns:\n",
    "    recommended_categories: List of recommended category names\n",
    "    \"\"\"\n",
    "    # Get the real user ID\n",
    "    real_user_id = user_mapping_df.iloc[user_index]['user_id']\n",
    "    \n",
    "    # Get similar users\n",
    "    similar_user_indices, distances = get_similar_users(user_index,real_user_id, 5)\n",
    "    \n",
    "    # Calculate weights for each similar user (inversely proportional to distance)\n",
    "    weights = distances / np.sum(distances)\n",
    "    \n",
    "    # Get category preferences of similar users\n",
    "    similar_users_prefs = user_to_product_df.iloc[similar_user_indices].values\n",
    "    \n",
    "    # Reshape weights for matrix multiplication\n",
    "    weights = weights[:, np.newaxis]\n",
    "    \n",
    "    # Calculate weighted preferences\n",
    "    weighted_prefs = weights * similar_users_prefs\n",
    "    \n",
    "    # Sum weighted preferences across all similar users\n",
    "    category_scores = weighted_prefs.sum(axis=0)\n",
    "    \n",
    "    # Get list of all category names\n",
    "    all_categories = user_to_product_df.columns\n",
    "\n",
    "    # If only_new is True, exclude categories the user has already interacted with\n",
    "    if only_new:\n",
    "        # Get user's current preferences\n",
    "        user_prefs = user_to_product_df.loc[int(real_user_id)][\"user_id\"]\n",
    "        \n",
    "        # Create a mask for categories the user hasn't interacted with\n",
    "        new_category_mask = user_prefs == 0\n",
    "        \n",
    "        # Apply the mask to category scores\n",
    "        category_scores = category_scores * new_category_mask\n",
    "    \n",
    "    # Sort categories by score in descending order\n",
    "    top_indices = np.argsort(category_scores)[::-1][:n]\n",
    "    \n",
    "    # Get the names of the top categories\n",
    "    recommended_categories = all_categories[top_indices]\n",
    "    \n",
    "    # Print recommendations\n",
    "    print(f\"\\nTop {n} recommended categories for User {user_index} (Real ID: {real_user_id}):\")\n",
    "    for i, category in enumerate(recommended_categories):\n",
    "        score = category_scores[top_indices[i]]\n",
    "        if score > 0:  # Only show recommendations with positive scores\n",
    "            print(f\"{i+1}. {category} (Score: {score:.4f})\")\n",
    "    \n",
    "    return recommended_categories"
   ]
  },
  {
   "cell_type": "code",
   "execution_count": 44,
   "id": "b2fdd1fc",
   "metadata": {},
   "outputs": [],
   "source": [
    "# After the validation cell, add a cell to analyze purchase behavior from the original DataFrame\n",
    "def analyze_user_purchases(user_id, df=all_events_df):\n",
    "    \"\"\"\n",
    "    Analyze a user's purchase behavior based on the original events dataframe\n",
    "    \n",
    "    Parameters:\n",
    "    user_id: The real user ID to analyze\n",
    "    df: DataFrame containing the events data\n",
    "    \n",
    "    Returns:\n",
    "    purchased_categories: DataFrame containing the categories the user has purchased from\n",
    "    \"\"\"\n",
    "\n",
    "    # Filter the original dataframe for this user\n",
    "    user_data = df[df['user_id'] == user_id]\n",
    "    \n",
    "    # Get only purchase events\n",
    "    user_purchases = user_data[user_data['event_type'] == 1]\n",
    "    \n",
    "    # Get unique categories purchased from\n",
    "    purchased_categories = user_purchases['category_code'].unique()\n",
    "    \n",
    "    # Print summary\n",
    "    print(f\"Analysis for User ID: {user_id}\")\n",
    "    print(f\"Total events: {len(user_data)}\")\n",
    "    print(f\"Total purchases: {len(user_purchases)}\")\n",
    "    print(f\"Number of unique categories purchased from: {len(purchased_categories)}\")\n",
    "    \n",
    "    print(\"\\nCategories purchased from:\")\n",
    "    for i, category in enumerate(purchased_categories):\n",
    "        # Count purchases in this category\n",
    "        category_purchase_count = user_purchases[user_purchases['category_code'] == category].shape[0]\n",
    "        print(f\"{i+1}. {category} ({category_purchase_count} purchases)\")\n",
    "    \n",
    "    return purchased_categories\n",
    "\n"
   ]
  },
  {
   "cell_type": "code",
   "execution_count": 45,
   "id": "724cdbc2",
   "metadata": {},
   "outputs": [
    {
     "name": "stdout",
     "output_type": "stream",
     "text": [
      "34\n",
      "512384348\n",
      "Column: electronics.smartphone, Value: 0.25\n",
      "43\n",
      "512416959\n",
      "Column: appliances.kitchen.refrigerators, Value: 0.2\n",
      "70\n",
      "512478069\n",
      "Column: accessories.bag, Value: 0.10526315789473684\n",
      "109\n",
      "512550575\n",
      "Column: auto.accessories.videoregister, Value: 0.16666666666666666\n",
      "112\n",
      "512556357\n",
      "Column: electronics.smartphone, Value: 0.3333333333333333\n",
      "125\n",
      "512584306\n",
      "Column: appliances.environment.vacuum, Value: 0.2\n",
      "130\n",
      "512592316\n",
      "Column: electronics.smartphone, Value: 0.2222222222222222\n",
      "141\n",
      "512607090\n",
      "Column: electronics.smartphone, Value: 0.2\n",
      "153\n",
      "512682014\n",
      "Column: electronics.smartphone, Value: 0.0625\n",
      "175\n",
      "512730342\n",
      "Column: electronics.smartphone, Value: 0.2857142857142857\n",
      "176\n",
      "512736046\n",
      "Column: electronics.clocks, Value: 0.1\n",
      "189\n",
      "512758113\n",
      "Column: electronics.smartphone, Value: 0.2\n",
      "201\n",
      "512778902\n",
      "Column: stationery.cartrige, Value: 0.125\n",
      "216\n",
      "512812487\n",
      "Column: electronics.smartphone, Value: 0.25\n",
      "255\n",
      "512907792\n",
      "Column: appliances.kitchen.blender, Value: 0.1111111111111111\n",
      "273\n",
      "512968794\n",
      "Column: electronics.video.tv, Value: 0.25\n",
      "275\n",
      "512975726\n",
      "Column: electronics.clocks, Value: 0.037037037037037035\n",
      "311\n",
      "513118339\n",
      "Column: electronics.smartphone, Value: 0.2\n",
      "313\n",
      "513139436\n",
      "Column: electronics.smartphone, Value: 0.3333333333333333\n",
      "318\n",
      "513172531\n",
      "Column: appliances.environment.water_heater, Value: 0.5\n",
      "335\n",
      "513210754\n",
      "Column: electronics.telephone, Value: 0.2\n",
      "347\n",
      "513254174\n",
      "Column: electronics.smartphone, Value: 0.11764705882352941\n",
      "350\n",
      "513265392\n",
      "Column: electronics.smartphone, Value: 0.5\n",
      "391\n",
      "513419646\n",
      "Column: appliances.kitchen.washer, Value: 0.2\n",
      "410\n",
      "513484630\n",
      "Column: construction.tools.saw, Value: 0.16666666666666666\n",
      "412\n",
      "513489079\n",
      "Column: computers.peripherals.printer, Value: 0.14285714285714285\n",
      "439\n",
      "513632293\n",
      "Column: electronics.smartphone, Value: 0.125\n",
      "458\n",
      "513684529\n",
      "Column: electronics.audio.headphone, Value: 0.16666666666666666\n",
      "470\n",
      "513724405\n",
      "Column: electronics.smartphone, Value: 0.16666666666666666\n",
      "537\n",
      "514018346\n",
      "Column: appliances.personal.hair_cutter, Value: 0.25\n",
      "557\n",
      "514104941\n",
      "Column: electronics.smartphone, Value: 0.0625\n",
      "563\n",
      "514127317\n",
      "Column: electronics.audio.headphone, Value: 0.4\n",
      "564\n",
      "514129765\n",
      "Column: electronics.smartphone, Value: 0.16666666666666666\n",
      "604\n",
      "514311861\n",
      "Column: electronics.smartphone, Value: 0.25\n",
      "652\n",
      "514651026\n",
      "Column: electronics.smartphone, Value: 0.25\n",
      "683\n",
      "514805015\n",
      "Column: computers.notebook, Value: 0.07692307692307693\n",
      "690\n",
      "514892797\n",
      "Column: electronics.smartphone, Value: 0.25\n",
      "698\n",
      "514904277\n",
      "Column: electronics.video.tv, Value: 0.3333333333333333\n",
      "714\n",
      "514969291\n",
      "Column: appliances.environment.vacuum, Value: 0.25\n",
      "739\n",
      "515175219\n",
      "Column: electronics.clocks, Value: 0.125\n",
      "748\n",
      "515246296\n",
      "Column: electronics.smartphone, Value: 0.3333333333333333\n",
      "765\n",
      "515384420\n",
      "Column: electronics.smartphone, Value: 0.1\n",
      "781\n",
      "515478960\n",
      "Column: apparel.shoes, Value: 0.09090909090909091\n",
      "834\n",
      "515845109\n",
      "Column: electronics.smartphone, Value: 0.1111111111111111\n",
      "839\n",
      "515863193\n",
      "Column: electronics.smartphone, Value: 0.3333333333333333\n",
      "860\n",
      "516025438\n",
      "Column: electronics.smartphone, Value: 0.09090909090909091\n",
      "879\n",
      "516198933\n",
      "Column: electronics.smartphone, Value: 0.25\n",
      "880\n",
      "516201000\n",
      "Column: construction.tools.drill, Value: 0.3333333333333333\n",
      "882\n",
      "516201757\n",
      "Column: electronics.smartphone, Value: 0.16666666666666666\n",
      "895\n",
      "516255627\n",
      "Column: computers.notebook, Value: 0.3333333333333333\n",
      "930\n",
      "516426424\n",
      "Column: electronics.audio.headphone, Value: 0.14285714285714285\n",
      "931\n",
      "516426855\n",
      "Column: appliances.kitchen.refrigerators, Value: 0.3333333333333333\n",
      "957\n",
      "516679764\n",
      "Column: electronics.smartphone, Value: 0.3333333333333333\n",
      "1007\n",
      "517129864\n",
      "Column: electronics.audio.headphone, Value: 0.3333333333333333\n",
      "1072\n",
      "517953667\n",
      "Column: apparel.trousers, Value: 0.25\n",
      "1103\n",
      "518374122\n",
      "Column: electronics.smartphone, Value: 0.3333333333333333\n",
      "1111\n",
      "518431897\n",
      "Column: appliances.kitchen.hood, Value: 0.08333333333333333\n",
      "1111\n",
      "518431897\n",
      "Column: electronics.telephone, Value: 0.14285714285714285\n",
      "1114\n",
      "518463311\n",
      "Column: electronics.smartphone, Value: 0.25\n",
      "1120\n",
      "518494067\n",
      "Column: electronics.telephone, Value: 0.3333333333333333\n",
      "1130\n",
      "518599877\n",
      "Column: electronics.smartphone, Value: 0.125\n",
      "1136\n",
      "518626299\n",
      "Column: electronics.smartphone, Value: 0.5\n",
      "1169\n",
      "518794940\n",
      "Column: electronics.smartphone, Value: 0.25\n",
      "1190\n",
      "518962372\n",
      "Column: electronics.smartphone, Value: 0.25\n",
      "1194\n",
      "519034566\n",
      "Column: electronics.smartphone, Value: 0.16666666666666666\n",
      "1249\n",
      "519447668\n",
      "Column: electronics.smartphone, Value: 0.16666666666666666\n",
      "1250\n",
      "519484978\n",
      "Column: electronics.smartphone, Value: 0.1\n",
      "1259\n",
      "519590486\n",
      "Column: kids.fmcg.diapers, Value: 0.3333333333333333\n",
      "1291\n",
      "520175111\n",
      "Column: computers.components.memory, Value: 0.3333333333333333\n",
      "1298\n",
      "520395222\n",
      "Column: electronics.clocks, Value: 0.05555555555555555\n",
      "1338\n",
      "521005401\n",
      "Column: electronics.telephone, Value: 0.041666666666666664\n",
      "1425\n",
      "522661268\n",
      "Column: electronics.audio.headphone, Value: 0.3333333333333333\n",
      "1426\n",
      "522702221\n",
      "Column: electronics.audio.headphone, Value: 0.25\n",
      "1427\n",
      "522719614\n",
      "Column: electronics.smartphone, Value: 0.25\n",
      "1442\n",
      "523117953\n",
      "Column: computers.components.hdd, Value: 0.3333333333333333\n",
      "1468\n",
      "523529352\n",
      "Column: electronics.smartphone, Value: 0.3333333333333333\n",
      "1474\n",
      "523603161\n",
      "Column: electronics.smartphone, Value: 0.2\n",
      "1484\n",
      "523751849\n",
      "Column: electronics.smartphone, Value: 0.2\n",
      "1497\n",
      "524102669\n",
      "Column: electronics.smartphone, Value: 0.5\n",
      "1498\n",
      "524102815\n",
      "Column: electronics.smartphone, Value: 0.5\n",
      "1503\n",
      "524325294\n",
      "Column: electronics.smartphone, Value: 0.25\n",
      "1512\n",
      "524601178\n",
      "Column: electronics.audio.headphone, Value: 0.3333333333333333\n",
      "1525\n",
      "524890634\n",
      "Column: appliances.kitchen.refrigerators, Value: 0.2\n",
      "1541\n",
      "525372703\n",
      "Column: electronics.smartphone, Value: 0.25\n",
      "1544\n",
      "525454715\n",
      "Column: electronics.smartphone, Value: 0.2727272727272727\n",
      "1550\n",
      "525601960\n",
      "Column: electronics.smartphone, Value: 0.1\n",
      "1555\n",
      "525661637\n",
      "Column: appliances.environment.vacuum, Value: 0.125\n",
      "1556\n",
      "525662995\n",
      "Column: electronics.smartphone, Value: 0.16666666666666666\n",
      "1618\n",
      "527209005\n",
      "Column: electronics.smartphone, Value: 0.3333333333333333\n",
      "1643\n",
      "527669643\n",
      "Column: electronics.smartphone, Value: 0.2857142857142857\n",
      "1644\n",
      "527681026\n",
      "Column: appliances.kitchen.blender, Value: 0.5\n",
      "1700\n",
      "529687222\n",
      "Column: auto.accessories.player, Value: 0.09090909090909091\n",
      "1740\n",
      "530776918\n",
      "Column: electronics.smartphone, Value: 0.16666666666666666\n",
      "1820\n",
      "532762473\n",
      "Column: appliances.kitchen.refrigerators, Value: 0.3333333333333333\n",
      "1825\n",
      "532799914\n",
      "Column: electronics.smartphone, Value: 0.14285714285714285\n",
      "1835\n",
      "533000757\n",
      "Column: electronics.smartphone, Value: 0.2\n",
      "1859\n",
      "533624186\n",
      "Column: electronics.audio.headphone, Value: 0.25\n",
      "1863\n",
      "533758539\n",
      "Column: electronics.smartphone, Value: 0.25\n",
      "1874\n",
      "534142828\n",
      "Column: electronics.smartphone, Value: 0.07142857142857142\n",
      "1875\n",
      "534178501\n",
      "Column: electronics.smartphone, Value: 0.3333333333333333\n",
      "1882\n",
      "534436735\n",
      "Column: electronics.smartphone, Value: 0.16666666666666666\n",
      "1894\n",
      "534620200\n",
      "Column: electronics.smartphone, Value: 0.1111111111111111\n",
      "1955\n",
      "536328930\n",
      "Column: electronics.smartphone, Value: 0.25\n",
      "1987\n",
      "537143581\n",
      "Column: electronics.smartphone, Value: 0.2\n",
      "2010\n",
      "537717675\n",
      "Column: electronics.smartphone, Value: 0.16666666666666666\n",
      "2085\n",
      "539676251\n",
      "Column: appliances.kitchen.blender, Value: 0.09090909090909091\n",
      "2106\n",
      "540258756\n",
      "Column: furniture.kitchen.table, Value: 0.3333333333333333\n",
      "2115\n",
      "540557704\n",
      "Column: electronics.audio.headphone, Value: 0.25\n",
      "2116\n",
      "540577190\n",
      "Column: electronics.smartphone, Value: 0.25\n",
      "2130\n",
      "540920424\n",
      "Column: furniture.kitchen.table, Value: 0.5\n",
      "2160\n",
      "541486954\n",
      "Column: electronics.audio.headphone, Value: 0.3333333333333333\n",
      "2160\n",
      "541486954\n",
      "Column: electronics.smartphone, Value: 0.09090909090909091\n",
      "2163\n",
      "541516521\n",
      "Column: appliances.kitchen.toster, Value: 0.3333333333333333\n",
      "2191\n",
      "542089764\n",
      "Column: electronics.smartphone, Value: 0.1\n",
      "2229\n",
      "542659426\n",
      "Column: appliances.personal.scales, Value: 0.1111111111111111\n",
      "2255\n",
      "543075063\n",
      "Column: electronics.smartphone, Value: 0.3333333333333333\n",
      "2263\n",
      "543272936\n",
      "Column: electronics.smartphone, Value: 0.25\n",
      "2272\n",
      "543356214\n",
      "Column: electronics.smartphone, Value: 0.2\n",
      "2278\n",
      "543624132\n",
      "Column: electronics.smartphone, Value: 0.125\n",
      "2295\n",
      "543926031\n",
      "Column: electronics.smartphone, Value: 0.2\n",
      "2355\n",
      "545053960\n",
      "Column: appliances.kitchen.refrigerators, Value: 0.14285714285714285\n",
      "2389\n",
      "545803882\n",
      "Column: electronics.smartphone, Value: 0.09090909090909091\n",
      "2450\n",
      "546907454\n",
      "Column: electronics.tablet, Value: 0.3333333333333333\n",
      "2492\n",
      "547560322\n",
      "Column: electronics.smartphone, Value: 0.5\n",
      "2495\n",
      "547711161\n",
      "Column: electronics.video.tv, Value: 0.2\n",
      "2503\n",
      "547830696\n",
      "Column: electronics.smartphone, Value: 0.16666666666666666\n",
      "2532\n",
      "548496387\n",
      "Column: electronics.smartphone, Value: 0.1111111111111111\n",
      "2541\n",
      "548691404\n",
      "Column: appliances.environment.air_heater, Value: 0.125\n",
      "2583\n",
      "549265000\n",
      "Column: electronics.smartphone, Value: 0.25\n",
      "2588\n",
      "549348524\n",
      "Column: accessories.bag, Value: 0.25\n",
      "2598\n",
      "549401354\n",
      "Column: computers.notebook, Value: 0.5\n",
      "2604\n",
      "549525040\n",
      "Column: electronics.clocks, Value: 0.3333333333333333\n",
      "2609\n",
      "549614436\n",
      "Column: electronics.clocks, Value: 0.25\n",
      "2612\n",
      "549685916\n",
      "Column: appliances.kitchen.washer, Value: 0.3333333333333333\n",
      "2622\n",
      "549777331\n",
      "Column: electronics.smartphone, Value: 0.3333333333333333\n",
      "2623\n",
      "549790258\n",
      "Column: computers.notebook, Value: 0.2\n",
      "2647\n",
      "550146179\n",
      "Column: electronics.smartphone, Value: 0.3333333333333333\n",
      "2653\n",
      "550224334\n",
      "Column: electronics.smartphone, Value: 0.1\n",
      "2670\n",
      "550443776\n",
      "Column: electronics.smartphone, Value: 0.07142857142857142\n",
      "2672\n",
      "550607818\n",
      "Column: electronics.smartphone, Value: 0.2\n",
      "2706\n",
      "551281127\n",
      "Column: apparel.shoes, Value: 0.25\n",
      "2712\n",
      "551349532\n",
      "Column: electronics.smartphone, Value: 0.3333333333333333\n",
      "2713\n",
      "551349791\n",
      "Column: electronics.smartphone, Value: 0.08333333333333333\n",
      "2714\n",
      "551377651\n",
      "Column: electronics.audio.headphone, Value: 0.25\n",
      "2714\n",
      "551377651\n",
      "Column: electronics.smartphone, Value: 0.16666666666666666\n",
      "2721\n",
      "551456160\n",
      "Column: electronics.smartphone, Value: 0.058823529411764705\n",
      "2732\n",
      "551646742\n",
      "Column: appliances.kitchen.washer, Value: 0.3333333333333333\n",
      "2741\n",
      "551712733\n",
      "Column: electronics.smartphone, Value: 0.25\n",
      "2762\n",
      "552056470\n",
      "Column: electronics.smartphone, Value: 0.125\n",
      "2768\n",
      "552141352\n",
      "Column: electronics.smartphone, Value: 0.25\n",
      "2786\n",
      "552408931\n",
      "Column: electronics.smartphone, Value: 0.2222222222222222\n",
      "2787\n",
      "552439521\n",
      "Column: electronics.smartphone, Value: 0.16666666666666666\n",
      "2868\n",
      "553622042\n",
      "Column: electronics.clocks, Value: 0.1111111111111111\n",
      "2880\n",
      "553819262\n",
      "Column: appliances.kitchen.meat_grinder, Value: 0.25\n",
      "2910\n",
      "554063800\n",
      "Column: electronics.smartphone, Value: 0.25\n",
      "2916\n",
      "554090147\n",
      "Column: electronics.smartphone, Value: 0.25\n",
      "2993\n",
      "554754734\n",
      "Column: electronics.smartphone, Value: 0.037037037037037035\n",
      "3048\n",
      "555083442\n",
      "Column: electronics.smartphone, Value: 0.3333333333333333\n",
      "3054\n",
      "555110488\n",
      "Column: electronics.smartphone, Value: 0.3\n",
      "3068\n",
      "555136729\n",
      "Column: electronics.smartphone, Value: 0.16666666666666666\n",
      "3072\n",
      "555160488\n",
      "Column: electronics.smartphone, Value: 0.3333333333333333\n",
      "3074\n",
      "555168263\n",
      "Column: electronics.smartphone, Value: 0.3333333333333333\n",
      "3096\n",
      "555257206\n",
      "Column: electronics.smartphone, Value: 0.16666666666666666\n",
      "3127\n",
      "555332717\n",
      "Column: furniture.bathroom.toilet, Value: 0.5\n",
      "3143\n",
      "555354998\n",
      "Column: electronics.smartphone, Value: 0.3333333333333333\n",
      "3164\n",
      "555420273\n",
      "Column: electronics.smartphone, Value: 0.3333333333333333\n",
      "3253\n",
      "555462614\n",
      "Column: electronics.smartphone, Value: 0.25\n",
      "3257\n",
      "555462711\n",
      "Column: electronics.smartphone, Value: 0.3333333333333333\n",
      "3275\n",
      "555463016\n",
      "Column: furniture.living_room.cabinet, Value: 0.3333333333333333\n",
      "3303\n",
      "555463371\n",
      "Column: electronics.smartphone, Value: 0.2\n",
      "3309\n",
      "555463495\n",
      "Column: appliances.kitchen.washer, Value: 0.16666666666666666\n",
      "3316\n",
      "555463605\n",
      "Column: electronics.smartphone, Value: 0.3333333333333333\n",
      "3437\n",
      "555465061\n",
      "Column: appliances.kitchen.refrigerators, Value: 0.5\n",
      "3450\n",
      "555465207\n",
      "Column: electronics.smartphone, Value: 0.2\n",
      "3459\n",
      "555465285\n",
      "Column: electronics.smartphone, Value: 0.25\n",
      "3514\n",
      "555465942\n",
      "Column: appliances.environment.vacuum, Value: 0.25\n",
      "3518\n",
      "555465969\n",
      "Column: appliances.environment.vacuum, Value: 0.5\n",
      "3534\n",
      "555466298\n",
      "Column: appliances.sewing_machine, Value: 0.3333333333333333\n",
      "3542\n",
      "555466390\n",
      "Column: electronics.smartphone, Value: 0.42857142857142855\n",
      "3570\n",
      "555466734\n",
      "Column: electronics.video.tv, Value: 0.3333333333333333\n"
     ]
    }
   ],
   "source": [
    "count = 0\n",
    "for index, row in user_to_product_df.iterrows():\n",
    "    for col in user_to_product_df.columns:\n",
    "\n",
    "        if user_to_product_df.loc[index, col] != 0:\n",
    "            print(count)\n",
    "            print(index)\n",
    "            print(f\"Column: {col}, Value: {user_to_product_df.loc[index, col]}\")\n",
    "    count += 1 "
   ]
  },
  {
   "cell_type": "markdown",
   "id": "552e6da9",
   "metadata": {},
   "source": [
    "## Testing the Recommendation System\n",
    "\n",
    "Let's test our recommendation system on a few users."
   ]
  },
  {
   "cell_type": "code",
   "execution_count": 46,
   "id": "261eaca6",
   "metadata": {},
   "outputs": [
    {
     "data": {
      "text/plain": [
       "555465285"
      ]
     },
     "execution_count": 46,
     "metadata": {},
     "output_type": "execute_result"
    }
   ],
   "source": [
    "int(user_mapping_df.iloc[3459]['user_id'])"
   ]
  },
  {
   "cell_type": "code",
   "execution_count": 47,
   "id": "da5d8dc6",
   "metadata": {},
   "outputs": [
    {
     "name": "stdout",
     "output_type": "stream",
     "text": [
      "User 3459 (Real ID: 555465285) has interacted with these categories:\n",
      "1. electronics.smartphone\n",
      "Top 5 users who are similar to User 3459 (Real ID: 555465285):\n",
      "\n",
      "similar_user_index 2278\n",
      "1. User Index: 2278, Real ID: 543624132, Distance: 0.0000\n",
      "similar_user_index 3450\n",
      "2. User Index: 3450, Real ID: 555465207, Distance: 0.0000\n",
      "similar_user_index 153\n",
      "3. User Index: 153, Real ID: 512682014, Distance: 0.0000\n",
      "similar_user_index 1955\n",
      "4. User Index: 1955, Real ID: 536328930, Distance: 0.0000\n",
      "similar_user_index 3459\n",
      "5. User Index: 3459, Real ID: 555465285, Distance: 0.0000\n"
     ]
    },
    {
     "name": "stderr",
     "output_type": "stream",
     "text": [
      "/tmp/ipykernel_96826/1400541714.py:20: RuntimeWarning:\n",
      "\n",
      "invalid value encountered in divide\n",
      "\n"
     ]
    },
    {
     "ename": "KeyError",
     "evalue": "555465285",
     "output_type": "error",
     "traceback": [
      "\u001b[0;31m---------------------------------------------------------------------------\u001b[0m",
      "\u001b[0;31mKeyError\u001b[0m                                  Traceback (most recent call last)",
      "File \u001b[0;32m~/miniconda3/lib/python3.12/site-packages/pandas/core/indexes/base.py:3805\u001b[0m, in \u001b[0;36mIndex.get_loc\u001b[0;34m(self, key)\u001b[0m\n\u001b[1;32m   3804\u001b[0m \u001b[38;5;28;01mtry\u001b[39;00m:\n\u001b[0;32m-> 3805\u001b[0m     \u001b[38;5;28;01mreturn\u001b[39;00m \u001b[38;5;28;43mself\u001b[39;49m\u001b[38;5;241;43m.\u001b[39;49m\u001b[43m_engine\u001b[49m\u001b[38;5;241;43m.\u001b[39;49m\u001b[43mget_loc\u001b[49m\u001b[43m(\u001b[49m\u001b[43mcasted_key\u001b[49m\u001b[43m)\u001b[49m\n\u001b[1;32m   3806\u001b[0m \u001b[38;5;28;01mexcept\u001b[39;00m \u001b[38;5;167;01mKeyError\u001b[39;00m \u001b[38;5;28;01mas\u001b[39;00m err:\n",
      "File \u001b[0;32mindex.pyx:167\u001b[0m, in \u001b[0;36mpandas._libs.index.IndexEngine.get_loc\u001b[0;34m()\u001b[0m\n",
      "File \u001b[0;32mindex.pyx:196\u001b[0m, in \u001b[0;36mpandas._libs.index.IndexEngine.get_loc\u001b[0;34m()\u001b[0m\n",
      "File \u001b[0;32mpandas/_libs/hashtable_class_helper.pxi:7081\u001b[0m, in \u001b[0;36mpandas._libs.hashtable.PyObjectHashTable.get_item\u001b[0;34m()\u001b[0m\n",
      "File \u001b[0;32mpandas/_libs/hashtable_class_helper.pxi:7089\u001b[0m, in \u001b[0;36mpandas._libs.hashtable.PyObjectHashTable.get_item\u001b[0;34m()\u001b[0m\n",
      "\u001b[0;31mKeyError\u001b[0m: 555465285",
      "\nThe above exception was the direct cause of the following exception:\n",
      "\u001b[0;31mKeyError\u001b[0m                                  Traceback (most recent call last)",
      "Cell \u001b[0;32mIn[47], line 13\u001b[0m\n\u001b[1;32m     10\u001b[0m     \u001b[38;5;28mprint\u001b[39m(\u001b[38;5;124mf\u001b[39m\u001b[38;5;124m\"\u001b[39m\u001b[38;5;132;01m{\u001b[39;00mi\u001b[38;5;241m+\u001b[39m\u001b[38;5;241m1\u001b[39m\u001b[38;5;132;01m}\u001b[39;00m\u001b[38;5;124m. \u001b[39m\u001b[38;5;132;01m{\u001b[39;00mcategory\u001b[38;5;132;01m}\u001b[39;00m\u001b[38;5;124m\"\u001b[39m)\n\u001b[1;32m     12\u001b[0m \u001b[38;5;66;03m# Get recommendations for the user\u001b[39;00m\n\u001b[0;32m---> 13\u001b[0m recommended_categories \u001b[38;5;241m=\u001b[39m \u001b[43mrecommend_categories\u001b[49m\u001b[43m(\u001b[49m\u001b[43mtest_user_index\u001b[49m\u001b[43m,\u001b[49m\u001b[43m \u001b[49m\u001b[43mn\u001b[49m\u001b[38;5;241;43m=\u001b[39;49m\u001b[38;5;241;43m10\u001b[39;49m\u001b[43m,\u001b[49m\u001b[43m \u001b[49m\u001b[43monly_new\u001b[49m\u001b[38;5;241;43m=\u001b[39;49m\u001b[38;5;28;43;01mTrue\u001b[39;49;00m\u001b[43m)\u001b[49m\n\u001b[1;32m     14\u001b[0m analyze_user_purchases(test_user_index)\n",
      "Cell \u001b[0;32mIn[43], line 40\u001b[0m, in \u001b[0;36mrecommend_categories\u001b[0;34m(user_index, n, only_new)\u001b[0m\n\u001b[1;32m     37\u001b[0m \u001b[38;5;66;03m# If only_new is True, exclude categories the user has already interacted with\u001b[39;00m\n\u001b[1;32m     38\u001b[0m \u001b[38;5;28;01mif\u001b[39;00m only_new:\n\u001b[1;32m     39\u001b[0m     \u001b[38;5;66;03m# Get user's current preferences\u001b[39;00m\n\u001b[0;32m---> 40\u001b[0m     user_prefs \u001b[38;5;241m=\u001b[39m \u001b[43muser_to_product_df\u001b[49m\u001b[38;5;241;43m.\u001b[39;49m\u001b[43mloc\u001b[49m\u001b[43m[\u001b[49m\u001b[38;5;28;43mint\u001b[39;49m\u001b[43m(\u001b[49m\u001b[43mreal_user_id\u001b[49m\u001b[43m)\u001b[49m\u001b[43m]\u001b[49m[\u001b[38;5;124m\"\u001b[39m\u001b[38;5;124muser_id\u001b[39m\u001b[38;5;124m\"\u001b[39m]\n\u001b[1;32m     42\u001b[0m     \u001b[38;5;66;03m# Create a mask for categories the user hasn't interacted with\u001b[39;00m\n\u001b[1;32m     43\u001b[0m     new_category_mask \u001b[38;5;241m=\u001b[39m user_prefs \u001b[38;5;241m==\u001b[39m \u001b[38;5;241m0\u001b[39m\n",
      "File \u001b[0;32m~/miniconda3/lib/python3.12/site-packages/pandas/core/indexing.py:1191\u001b[0m, in \u001b[0;36m_LocationIndexer.__getitem__\u001b[0;34m(self, key)\u001b[0m\n\u001b[1;32m   1189\u001b[0m maybe_callable \u001b[38;5;241m=\u001b[39m com\u001b[38;5;241m.\u001b[39mapply_if_callable(key, \u001b[38;5;28mself\u001b[39m\u001b[38;5;241m.\u001b[39mobj)\n\u001b[1;32m   1190\u001b[0m maybe_callable \u001b[38;5;241m=\u001b[39m \u001b[38;5;28mself\u001b[39m\u001b[38;5;241m.\u001b[39m_check_deprecated_callable_usage(key, maybe_callable)\n\u001b[0;32m-> 1191\u001b[0m \u001b[38;5;28;01mreturn\u001b[39;00m \u001b[38;5;28;43mself\u001b[39;49m\u001b[38;5;241;43m.\u001b[39;49m\u001b[43m_getitem_axis\u001b[49m\u001b[43m(\u001b[49m\u001b[43mmaybe_callable\u001b[49m\u001b[43m,\u001b[49m\u001b[43m \u001b[49m\u001b[43maxis\u001b[49m\u001b[38;5;241;43m=\u001b[39;49m\u001b[43maxis\u001b[49m\u001b[43m)\u001b[49m\n",
      "File \u001b[0;32m~/miniconda3/lib/python3.12/site-packages/pandas/core/indexing.py:1431\u001b[0m, in \u001b[0;36m_LocIndexer._getitem_axis\u001b[0;34m(self, key, axis)\u001b[0m\n\u001b[1;32m   1429\u001b[0m \u001b[38;5;66;03m# fall thru to straight lookup\u001b[39;00m\n\u001b[1;32m   1430\u001b[0m \u001b[38;5;28mself\u001b[39m\u001b[38;5;241m.\u001b[39m_validate_key(key, axis)\n\u001b[0;32m-> 1431\u001b[0m \u001b[38;5;28;01mreturn\u001b[39;00m \u001b[38;5;28;43mself\u001b[39;49m\u001b[38;5;241;43m.\u001b[39;49m\u001b[43m_get_label\u001b[49m\u001b[43m(\u001b[49m\u001b[43mkey\u001b[49m\u001b[43m,\u001b[49m\u001b[43m \u001b[49m\u001b[43maxis\u001b[49m\u001b[38;5;241;43m=\u001b[39;49m\u001b[43maxis\u001b[49m\u001b[43m)\u001b[49m\n",
      "File \u001b[0;32m~/miniconda3/lib/python3.12/site-packages/pandas/core/indexing.py:1381\u001b[0m, in \u001b[0;36m_LocIndexer._get_label\u001b[0;34m(self, label, axis)\u001b[0m\n\u001b[1;32m   1379\u001b[0m \u001b[38;5;28;01mdef\u001b[39;00m\u001b[38;5;250m \u001b[39m\u001b[38;5;21m_get_label\u001b[39m(\u001b[38;5;28mself\u001b[39m, label, axis: AxisInt):\n\u001b[1;32m   1380\u001b[0m     \u001b[38;5;66;03m# GH#5567 this will fail if the label is not present in the axis.\u001b[39;00m\n\u001b[0;32m-> 1381\u001b[0m     \u001b[38;5;28;01mreturn\u001b[39;00m \u001b[38;5;28;43mself\u001b[39;49m\u001b[38;5;241;43m.\u001b[39;49m\u001b[43mobj\u001b[49m\u001b[38;5;241;43m.\u001b[39;49m\u001b[43mxs\u001b[49m\u001b[43m(\u001b[49m\u001b[43mlabel\u001b[49m\u001b[43m,\u001b[49m\u001b[43m \u001b[49m\u001b[43maxis\u001b[49m\u001b[38;5;241;43m=\u001b[39;49m\u001b[43maxis\u001b[49m\u001b[43m)\u001b[49m\n",
      "File \u001b[0;32m~/miniconda3/lib/python3.12/site-packages/pandas/core/generic.py:4301\u001b[0m, in \u001b[0;36mNDFrame.xs\u001b[0;34m(self, key, axis, level, drop_level)\u001b[0m\n\u001b[1;32m   4299\u001b[0m             new_index \u001b[38;5;241m=\u001b[39m index[loc]\n\u001b[1;32m   4300\u001b[0m \u001b[38;5;28;01melse\u001b[39;00m:\n\u001b[0;32m-> 4301\u001b[0m     loc \u001b[38;5;241m=\u001b[39m \u001b[43mindex\u001b[49m\u001b[38;5;241;43m.\u001b[39;49m\u001b[43mget_loc\u001b[49m\u001b[43m(\u001b[49m\u001b[43mkey\u001b[49m\u001b[43m)\u001b[49m\n\u001b[1;32m   4303\u001b[0m     \u001b[38;5;28;01mif\u001b[39;00m \u001b[38;5;28misinstance\u001b[39m(loc, np\u001b[38;5;241m.\u001b[39mndarray):\n\u001b[1;32m   4304\u001b[0m         \u001b[38;5;28;01mif\u001b[39;00m loc\u001b[38;5;241m.\u001b[39mdtype \u001b[38;5;241m==\u001b[39m np\u001b[38;5;241m.\u001b[39mbool_:\n",
      "File \u001b[0;32m~/miniconda3/lib/python3.12/site-packages/pandas/core/indexes/base.py:3812\u001b[0m, in \u001b[0;36mIndex.get_loc\u001b[0;34m(self, key)\u001b[0m\n\u001b[1;32m   3807\u001b[0m     \u001b[38;5;28;01mif\u001b[39;00m \u001b[38;5;28misinstance\u001b[39m(casted_key, \u001b[38;5;28mslice\u001b[39m) \u001b[38;5;129;01mor\u001b[39;00m (\n\u001b[1;32m   3808\u001b[0m         \u001b[38;5;28misinstance\u001b[39m(casted_key, abc\u001b[38;5;241m.\u001b[39mIterable)\n\u001b[1;32m   3809\u001b[0m         \u001b[38;5;129;01mand\u001b[39;00m \u001b[38;5;28many\u001b[39m(\u001b[38;5;28misinstance\u001b[39m(x, \u001b[38;5;28mslice\u001b[39m) \u001b[38;5;28;01mfor\u001b[39;00m x \u001b[38;5;129;01min\u001b[39;00m casted_key)\n\u001b[1;32m   3810\u001b[0m     ):\n\u001b[1;32m   3811\u001b[0m         \u001b[38;5;28;01mraise\u001b[39;00m InvalidIndexError(key)\n\u001b[0;32m-> 3812\u001b[0m     \u001b[38;5;28;01mraise\u001b[39;00m \u001b[38;5;167;01mKeyError\u001b[39;00m(key) \u001b[38;5;28;01mfrom\u001b[39;00m\u001b[38;5;250m \u001b[39m\u001b[38;5;21;01merr\u001b[39;00m\n\u001b[1;32m   3813\u001b[0m \u001b[38;5;28;01mexcept\u001b[39;00m \u001b[38;5;167;01mTypeError\u001b[39;00m:\n\u001b[1;32m   3814\u001b[0m     \u001b[38;5;66;03m# If we have a listlike key, _check_indexing_error will raise\u001b[39;00m\n\u001b[1;32m   3815\u001b[0m     \u001b[38;5;66;03m#  InvalidIndexError. Otherwise we fall through and re-raise\u001b[39;00m\n\u001b[1;32m   3816\u001b[0m     \u001b[38;5;66;03m#  the TypeError.\u001b[39;00m\n\u001b[1;32m   3817\u001b[0m     \u001b[38;5;28mself\u001b[39m\u001b[38;5;241m.\u001b[39m_check_indexing_error(key)\n",
      "\u001b[0;31mKeyError\u001b[0m: 555465285"
     ]
    }
   ],
   "source": [
    "# Test the recommendation system on a user\n",
    "test_user_index = 3459  # Choose a user index to test\n",
    "\n",
    "# Get the user's current category interactions\n",
    "real_user_id = user_mapping_df.iloc[test_user_index]['user_id']\n",
    "user_categories = cf_dataset[cf_dataset['user_id'] == real_user_id]['category_code']\n",
    "\n",
    "print(f\"User {test_user_index} (Real ID: {real_user_id}) has interacted with these categories:\")\n",
    "for i, category in enumerate(user_categories):\n",
    "    print(f\"{i+1}. {category}\")\n",
    "\n",
    "# Get recommendations for the user\n",
    "recommended_categories = recommend_categories(test_user_index, n=10, only_new=True)\n",
    "analyze_user_purchases(test_user_index)"
   ]
  },
  {
   "cell_type": "markdown",
   "id": "80356d5a",
   "metadata": {},
   "source": [
    "## Conclusion\n",
    "\n",
    "In this notebook, we've implemented an item-based collaborative filtering recommendation system that suggests product categories to users based on the preferences of similar users. The system works as follows:\n",
    "\n",
    "1. We created a user-item matrix where rows represent users, columns represent product categories, and values represent user preferences.\n",
    "2. We used the K-Nearest Neighbors algorithm with cosine similarity to find users with similar preferences.\n",
    "3. We weighted the preferences of similar users to generate personalized recommendations.\n",
    "4. We filtered out categories the user has already interacted with to provide fresh recommendations.\n",
    "\n",
    "**Key Findings:**\n",
    "\n",
    "- The system successfully identifies similar users based on their category preferences.\n",
    "- It can generate personalized recommendations that account for the user's existing preferences.\n",
    "- The recommendations are weighted by the similarity between users, giving more importance to users with very similar preferences.\n",
    "\n",
    "**Limitations and Potential Improvements:**\n",
    "\n",
    "1. We could incorporate the specific product IDs in addition to categories for more fine-grained recommendations.\n",
    "2. We could incorporate temporal information to account for changing user preferences over time.\n",
    "3. We could combine this approach with content-based filtering for a hybrid recommendation system.\n",
    "4. More data would help improve the quality of recommendations.\n",
    "\n",
    "The collaborative filtering approach demonstrates strong potential for recommending new categories to users based on similar user preferences."
   ]
  },
  {
   "cell_type": "code",
   "execution_count": null,
   "id": "9962c28f",
   "metadata": {},
   "outputs": [
    {
     "name": "stdout",
     "output_type": "stream",
     "text": [
      "Database connection closed.\n"
     ]
    }
   ],
   "source": [
    "# Close the database connection\n",
    "con.close()\n",
    "print(\"Database connection closed.\")"
   ]
  }
 ],
 "metadata": {
  "kernelspec": {
   "display_name": "base",
   "language": "python",
   "name": "python3"
  },
  "language_info": {
   "codemirror_mode": {
    "name": "ipython",
    "version": 3
   },
   "file_extension": ".py",
   "mimetype": "text/x-python",
   "name": "python",
   "nbconvert_exporter": "python",
   "pygments_lexer": "ipython3",
   "version": "3.12.2"
  }
 },
 "nbformat": 4,
 "nbformat_minor": 5
}
